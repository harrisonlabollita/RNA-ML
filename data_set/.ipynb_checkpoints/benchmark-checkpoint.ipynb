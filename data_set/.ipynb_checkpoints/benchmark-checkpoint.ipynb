{
 "cells": [
  {
   "cell_type": "markdown",
   "metadata": {},
   "source": [
    "# Benchmark RNA folder\n",
    "\n",
    "Benchmarking my RNA folder compared to ViennaRNA. \n",
    "## Bad_Seq Dataset\n",
    "### Parameters\n",
    "**Dataset**: bad_seq\n",
    "\n",
    "**Seq. Length**: < 80 ntds\n",
    "\n",
    "**minBPinStem**: 3"
   ]
  },
  {
   "cell_type": "code",
   "execution_count": 1,
   "metadata": {},
   "outputs": [],
   "source": [
    "import numpy as np\n",
    "import os, sys, glob\n",
    "import matplotlib.pyplot as plt\n",
    "sys.path.append('/Users/harrisonlabollita/Arizona State University/Sulc group/src/kinetic_RNA/')\n",
    "import gillespie as GILLESPIE\n",
    "import time\n",
    "import matplotlib.pyplot as plt \n",
    "import matplotlib\n",
    "matplotlib.rc('text', usetex = True)\n",
    "matplotlib.rc('font', **{'family':'serif', 'serif':['Computer Modern Roman, Times']})"
   ]
  },
  {
   "cell_type": "code",
   "execution_count": 2,
   "metadata": {},
   "outputs": [],
   "source": [
    "def str_append(s):\n",
    "    output = ''\n",
    "    output += s\n",
    "    return output\n",
    "\n",
    "def readFile(file):\n",
    "    f = open(file, 'r')\n",
    "    for i, line in enumerate(f):\n",
    "        if i == 1:\n",
    "            seq = line.rstrip()\n",
    "        if i == 2:\n",
    "            dots = line.split(' ')[1]\n",
    "            dots.rstrip()\n",
    "        if i == 3:\n",
    "            rnafold = line.split(' ')[1]\n",
    "            rnafold.rstrip()\n",
    "    return seq, dots, rnafold\n",
    "\n",
    "def compareStructs(pred, answer):\n",
    "    count = 0\n",
    "    for i in range(len(pred)):\n",
    "        if pred[i] != answer[i]:\n",
    "            count +=1\n",
    "    return count\n",
    "\n",
    "def myReplace(string):\n",
    "    newString = ''\n",
    "    for i in range(len(string)):\n",
    "        if string[i] == ']':\n",
    "            newString += ')'\n",
    "        elif string[i] == '[':\n",
    "            newString += '('\n",
    "        else:\n",
    "            newString += string[i]\n",
    "    return newString\n",
    "\n",
    "def getData(length, files):\n",
    "    sequences = []\n",
    "    brackets = []\n",
    "    viennaRNA = []\n",
    "    for file in files:\n",
    "        seq, dot, rnafold = readFile(file)\n",
    "        if len(seq) <= length:\n",
    "            sequences.append(seq)\n",
    "            brackets.append(dot)\n",
    "            viennaRNA.append(rnafold)\n",
    "    return sequences, brackets, viennaRNA"
   ]
  },
  {
   "cell_type": "code",
   "execution_count": 3,
   "metadata": {},
   "outputs": [
    {
     "name": "stdout",
     "output_type": "stream",
     "text": [
      "Length of dataset: 117\n",
      "Mean Length: 73\n",
      "Max Length: 78\n",
      "Min Length: 71\n"
     ]
    }
   ],
   "source": [
    "seq_files = glob.glob('/Users/harrisonlabollita/Arizona State University/Sulc group/data_set/bad_seq/*')\n",
    "sequences, dotbrackets, viennaRNA = getData(80, seq_files)\n",
    "seqLength = [len(seq) for seq in sequences]\n",
    "print('Length of dataset: %d' %(len(sequences)))\n",
    "print('Mean Length: %d' %(np.mean(seqLength)))\n",
    "print('Max Length: %d' %(np.max(seqLength)))\n",
    "print('Min Length: %d' %(np.min(seqLength)))"
   ]
  },
  {
   "cell_type": "code",
   "execution_count": 4,
   "metadata": {},
   "outputs": [
    {
     "name": "stdout",
     "output_type": "stream",
     "text": [
      "1/117, Length: 73, Time: 0.0512, myHD: 0.55 RNAfoldHD: 0.48\n",
      "2/117, Length: 73, Time: 0.0208, myHD: 0.58 RNAfoldHD: 0.26\n",
      "3/117, Length: 78, Time: 0.0931, myHD: 0.51 RNAfoldHD: 0.36\n",
      "4/117, Length: 76, Time: 0.0195, myHD: 0.53 RNAfoldHD: 0.30\n",
      "5/117, Length: 72, Time: 0.0189, myHD: 0.50 RNAfoldHD: 0.49\n",
      "6/117, Length: 77, Time: 0.0356, myHD: 0.44 RNAfoldHD: 0.35\n",
      "7/117, Length: 72, Time: 0.0199, myHD: 0.50 RNAfoldHD: 0.36\n",
      "8/117, Length: 73, Time: 0.0279, myHD: 0.55 RNAfoldHD: 0.40\n",
      "9/117, Length: 72, Time: 0.0226, myHD: 0.53 RNAfoldHD: 0.28\n",
      "10/117, Length: 74, Time: 0.0335, myHD: 0.49 RNAfoldHD: 0.49\n",
      "11/117, Length: 72, Time: 0.0327, myHD: 0.50 RNAfoldHD: 0.44\n",
      "12/117, Length: 74, Time: 0.0607, myHD: 0.54 RNAfoldHD: 0.39\n",
      "13/117, Length: 78, Time: 0.0243, myHD: 0.49 RNAfoldHD: 0.33\n"
     ]
    },
    {
     "name": "stderr",
     "output_type": "stream",
     "text": [
      "/Users/harrisonlabollita/Arizona State University/Sulc group/src/kinetic_RNA/helperfunctions.py:207: RuntimeWarning: overflow encountered in exp\n",
      "  updateRates.append([np.exp(deltaS/kB), 1, trialIndex[i]])\n",
      "/Users/harrisonlabollita/Arizona State University/Sulc group/src/kinetic_RNA/helperfunctions.py:41: RuntimeWarning: invalid value encountered in double_scalars\n",
      "  rates[i][0] = rates[i][0]/normalization\n"
     ]
    },
    {
     "name": "stdout",
     "output_type": "stream",
     "text": [
      "14/117, Length: 74, Time: 0.3377, myHD: 0.57 RNAfoldHD: 0.31\n",
      "15/117, Length: 76, Time: 0.0241, myHD: 0.55 RNAfoldHD: 0.33\n",
      "16/117, Length: 72, Time: 1.0550, myHD: 0.54 RNAfoldHD: 0.39\n",
      "17/117, Length: 76, Time: 0.0229, myHD: 0.51 RNAfoldHD: 0.30\n",
      "18/117, Length: 74, Time: 0.0179, myHD: 0.57 RNAfoldHD: 0.26\n",
      "19/117, Length: 76, Time: 0.0197, myHD: 0.47 RNAfoldHD: 0.33\n"
     ]
    },
    {
     "name": "stderr",
     "output_type": "stream",
     "text": [
      "/Users/harrisonlabollita/Arizona State University/Sulc group/src/kinetic_RNA/helperfunctions.py:207: RuntimeWarning: overflow encountered in exp\n",
      "  updateRates.append([np.exp(deltaS/kB), 1, trialIndex[i]])\n",
      "/Users/harrisonlabollita/Arizona State University/Sulc group/src/kinetic_RNA/helperfunctions.py:41: RuntimeWarning: invalid value encountered in double_scalars\n",
      "  rates[i][0] = rates[i][0]/normalization\n"
     ]
    },
    {
     "name": "stdout",
     "output_type": "stream",
     "text": [
      "20/117, Length: 73, Time: 0.5815, myHD: 0.55 RNAfoldHD: 0.44\n"
     ]
    },
    {
     "name": "stderr",
     "output_type": "stream",
     "text": [
      "/Users/harrisonlabollita/Arizona State University/Sulc group/src/kinetic_RNA/helperfunctions.py:207: RuntimeWarning: overflow encountered in exp\n",
      "  updateRates.append([np.exp(deltaS/kB), 1, trialIndex[i]])\n",
      "/Users/harrisonlabollita/Arizona State University/Sulc group/src/kinetic_RNA/helperfunctions.py:41: RuntimeWarning: invalid value encountered in double_scalars\n",
      "  rates[i][0] = rates[i][0]/normalization\n"
     ]
    },
    {
     "name": "stdout",
     "output_type": "stream",
     "text": [
      "21/117, Length: 72, Time: 0.8520, myHD: 0.51 RNAfoldHD: 0.25\n",
      "22/117, Length: 74, Time: 0.0486, myHD: 0.38 RNAfoldHD: 0.38\n",
      "23/117, Length: 72, Time: 0.0201, myHD: 0.50 RNAfoldHD: 0.49\n",
      "24/117, Length: 75, Time: 0.0578, myHD: 0.51 RNAfoldHD: 0.35\n",
      "25/117, Length: 76, Time: 0.0317, myHD: 0.45 RNAfoldHD: 0.28\n",
      "26/117, Length: 72, Time: 0.0316, myHD: 0.50 RNAfoldHD: 0.44\n",
      "27/117, Length: 71, Time: 0.4142, myHD: 0.49 RNAfoldHD: 0.44\n",
      "28/117, Length: 72, Time: 0.0725, myHD: 0.56 RNAfoldHD: 0.42\n",
      "29/117, Length: 74, Time: 0.0464, myHD: 0.54 RNAfoldHD: 0.38\n",
      "30/117, Length: 74, Time: 0.3808, myHD: 0.46 RNAfoldHD: 0.36\n",
      "31/117, Length: 76, Time: 0.0302, myHD: 0.45 RNAfoldHD: 0.26\n",
      "32/117, Length: 74, Time: 0.0282, myHD: 0.54 RNAfoldHD: 0.41\n",
      "33/117, Length: 75, Time: 0.1144, myHD: 0.48 RNAfoldHD: 0.40\n",
      "34/117, Length: 72, Time: 0.0182, myHD: 0.50 RNAfoldHD: 0.31\n"
     ]
    },
    {
     "name": "stderr",
     "output_type": "stream",
     "text": [
      "/Users/harrisonlabollita/Arizona State University/Sulc group/src/kinetic_RNA/helperfunctions.py:207: RuntimeWarning: overflow encountered in exp\n",
      "  updateRates.append([np.exp(deltaS/kB), 1, trialIndex[i]])\n",
      "/Users/harrisonlabollita/Arizona State University/Sulc group/src/kinetic_RNA/helperfunctions.py:41: RuntimeWarning: invalid value encountered in double_scalars\n",
      "  rates[i][0] = rates[i][0]/normalization\n"
     ]
    },
    {
     "name": "stdout",
     "output_type": "stream",
     "text": [
      "35/117, Length: 73, Time: 8.0591, myHD: 0.44 RNAfoldHD: 0.45\n",
      "36/117, Length: 73, Time: 0.0232, myHD: 0.58 RNAfoldHD: 0.52\n",
      "37/117, Length: 76, Time: 0.0253, myHD: 0.45 RNAfoldHD: 0.29\n",
      "38/117, Length: 73, Time: 0.1382, myHD: 0.55 RNAfoldHD: 0.45\n"
     ]
    },
    {
     "name": "stderr",
     "output_type": "stream",
     "text": [
      "/Users/harrisonlabollita/Arizona State University/Sulc group/src/kinetic_RNA/helperfunctions.py:207: RuntimeWarning: overflow encountered in exp\n",
      "  updateRates.append([np.exp(deltaS/kB), 1, trialIndex[i]])\n",
      "/Users/harrisonlabollita/Arizona State University/Sulc group/src/kinetic_RNA/helperfunctions.py:41: RuntimeWarning: invalid value encountered in double_scalars\n",
      "  rates[i][0] = rates[i][0]/normalization\n"
     ]
    },
    {
     "name": "stdout",
     "output_type": "stream",
     "text": [
      "39/117, Length: 76, Time: 234.2694, myHD: 0.47 RNAfoldHD: 0.49\n",
      "40/117, Length: 74, Time: 0.0557, myHD: 0.57 RNAfoldHD: 0.38\n",
      "41/117, Length: 74, Time: 0.0878, myHD: 0.41 RNAfoldHD: 0.53\n",
      "42/117, Length: 73, Time: 0.0228, myHD: 0.52 RNAfoldHD: 0.45\n"
     ]
    },
    {
     "name": "stderr",
     "output_type": "stream",
     "text": [
      "/Users/harrisonlabollita/Arizona State University/Sulc group/src/kinetic_RNA/helperfunctions.py:207: RuntimeWarning: overflow encountered in exp\n",
      "  updateRates.append([np.exp(deltaS/kB), 1, trialIndex[i]])\n",
      "/Users/harrisonlabollita/Arizona State University/Sulc group/src/kinetic_RNA/helperfunctions.py:41: RuntimeWarning: invalid value encountered in double_scalars\n",
      "  rates[i][0] = rates[i][0]/normalization\n"
     ]
    },
    {
     "name": "stdout",
     "output_type": "stream",
     "text": [
      "43/117, Length: 72, Time: 0.0858, myHD: 0.53 RNAfoldHD: 0.43\n",
      "44/117, Length: 73, Time: 0.0256, myHD: 0.58 RNAfoldHD: 0.52\n",
      "45/117, Length: 74, Time: 0.0221, myHD: 0.51 RNAfoldHD: 0.41\n",
      "46/117, Length: 76, Time: 0.1147, myHD: 0.42 RNAfoldHD: 0.49\n",
      "47/117, Length: 75, Time: 0.2454, myHD: 0.36 RNAfoldHD: 0.28\n",
      "48/117, Length: 76, Time: 0.2626, myHD: 0.62 RNAfoldHD: 0.53\n",
      "49/117, Length: 74, Time: 0.3367, myHD: 0.42 RNAfoldHD: 0.36\n",
      "50/117, Length: 71, Time: 0.1670, myHD: 0.37 RNAfoldHD: 0.30\n",
      "51/117, Length: 73, Time: 0.0432, myHD: 0.52 RNAfoldHD: 0.36\n",
      "52/117, Length: 74, Time: 0.0157, myHD: 0.57 RNAfoldHD: 0.39\n",
      "53/117, Length: 71, Time: 0.0774, myHD: 0.45 RNAfoldHD: 0.28\n",
      "54/117, Length: 73, Time: 0.2127, myHD: 0.44 RNAfoldHD: 0.51\n",
      "55/117, Length: 74, Time: 0.0363, myHD: 0.46 RNAfoldHD: 0.36\n"
     ]
    },
    {
     "name": "stderr",
     "output_type": "stream",
     "text": [
      "/Users/harrisonlabollita/Arizona State University/Sulc group/src/kinetic_RNA/helperfunctions.py:207: RuntimeWarning: overflow encountered in exp\n",
      "  updateRates.append([np.exp(deltaS/kB), 1, trialIndex[i]])\n",
      "/Users/harrisonlabollita/Arizona State University/Sulc group/src/kinetic_RNA/helperfunctions.py:41: RuntimeWarning: invalid value encountered in double_scalars\n",
      "  rates[i][0] = rates[i][0]/normalization\n"
     ]
    },
    {
     "name": "stdout",
     "output_type": "stream",
     "text": [
      "56/117, Length: 73, Time: 92.0896, myHD: 0.41 RNAfoldHD: 0.38\n",
      "57/117, Length: 74, Time: 0.1387, myHD: 0.49 RNAfoldHD: 0.45\n",
      "58/117, Length: 71, Time: 0.0198, myHD: 0.45 RNAfoldHD: 0.28\n",
      "59/117, Length: 71, Time: 0.0911, myHD: 0.51 RNAfoldHD: 0.28\n",
      "60/117, Length: 76, Time: 0.0214, myHD: 0.55 RNAfoldHD: 0.41\n",
      "61/117, Length: 71, Time: 0.1652, myHD: 0.39 RNAfoldHD: 0.30\n",
      "62/117, Length: 73, Time: 0.2053, myHD: 0.38 RNAfoldHD: 0.51\n"
     ]
    },
    {
     "name": "stderr",
     "output_type": "stream",
     "text": [
      "/Users/harrisonlabollita/Arizona State University/Sulc group/src/kinetic_RNA/helperfunctions.py:207: RuntimeWarning: overflow encountered in exp\n",
      "  updateRates.append([np.exp(deltaS/kB), 1, trialIndex[i]])\n",
      "/Users/harrisonlabollita/Arizona State University/Sulc group/src/kinetic_RNA/helperfunctions.py:41: RuntimeWarning: invalid value encountered in double_scalars\n",
      "  rates[i][0] = rates[i][0]/normalization\n"
     ]
    },
    {
     "name": "stdout",
     "output_type": "stream",
     "text": [
      "63/117, Length: 73, Time: 6.3996, myHD: 0.60 RNAfoldHD: 0.27\n"
     ]
    },
    {
     "name": "stderr",
     "output_type": "stream",
     "text": [
      "/Users/harrisonlabollita/Arizona State University/Sulc group/src/kinetic_RNA/helperfunctions.py:207: RuntimeWarning: overflow encountered in exp\n",
      "  updateRates.append([np.exp(deltaS/kB), 1, trialIndex[i]])\n",
      "/Users/harrisonlabollita/Arizona State University/Sulc group/src/kinetic_RNA/helperfunctions.py:41: RuntimeWarning: invalid value encountered in double_scalars\n",
      "  rates[i][0] = rates[i][0]/normalization\n"
     ]
    },
    {
     "name": "stdout",
     "output_type": "stream",
     "text": [
      "64/117, Length: 77, Time: 8.2376, myHD: 0.47 RNAfoldHD: 0.49\n",
      "65/117, Length: 75, Time: 0.0440, myHD: 0.49 RNAfoldHD: 0.37\n",
      "66/117, Length: 73, Time: 0.0388, myHD: 0.47 RNAfoldHD: 0.26\n",
      "67/117, Length: 71, Time: 0.1511, myHD: 0.37 RNAfoldHD: 0.35\n",
      "68/117, Length: 72, Time: 0.0189, myHD: 0.61 RNAfoldHD: 0.25\n"
     ]
    },
    {
     "name": "stderr",
     "output_type": "stream",
     "text": [
      "/Users/harrisonlabollita/Arizona State University/Sulc group/src/kinetic_RNA/helperfunctions.py:207: RuntimeWarning: overflow encountered in exp\n",
      "  updateRates.append([np.exp(deltaS/kB), 1, trialIndex[i]])\n",
      "/Users/harrisonlabollita/Arizona State University/Sulc group/src/kinetic_RNA/helperfunctions.py:41: RuntimeWarning: invalid value encountered in double_scalars\n",
      "  rates[i][0] = rates[i][0]/normalization\n"
     ]
    },
    {
     "name": "stdout",
     "output_type": "stream",
     "text": [
      "69/117, Length: 74, Time: 0.3678, myHD: 0.49 RNAfoldHD: 0.31\n"
     ]
    },
    {
     "name": "stderr",
     "output_type": "stream",
     "text": [
      "/Users/harrisonlabollita/Arizona State University/Sulc group/src/kinetic_RNA/helperfunctions.py:207: RuntimeWarning: overflow encountered in exp\n",
      "  updateRates.append([np.exp(deltaS/kB), 1, trialIndex[i]])\n",
      "/Users/harrisonlabollita/Arizona State University/Sulc group/src/kinetic_RNA/helperfunctions.py:41: RuntimeWarning: invalid value encountered in double_scalars\n",
      "  rates[i][0] = rates[i][0]/normalization\n"
     ]
    },
    {
     "name": "stdout",
     "output_type": "stream",
     "text": [
      "70/117, Length: 77, Time: 0.3049, myHD: 0.36 RNAfoldHD: 0.26\n",
      "71/117, Length: 76, Time: 0.0324, myHD: 0.50 RNAfoldHD: 0.33\n",
      "72/117, Length: 73, Time: 0.0577, myHD: 0.58 RNAfoldHD: 0.47\n",
      "73/117, Length: 71, Time: 0.3519, myHD: 0.37 RNAfoldHD: 0.34\n"
     ]
    },
    {
     "name": "stderr",
     "output_type": "stream",
     "text": [
      "/Users/harrisonlabollita/Arizona State University/Sulc group/src/kinetic_RNA/helperfunctions.py:207: RuntimeWarning: overflow encountered in exp\n",
      "  updateRates.append([np.exp(deltaS/kB), 1, trialIndex[i]])\n",
      "/Users/harrisonlabollita/Arizona State University/Sulc group/src/kinetic_RNA/helperfunctions.py:41: RuntimeWarning: invalid value encountered in double_scalars\n",
      "  rates[i][0] = rates[i][0]/normalization\n"
     ]
    },
    {
     "name": "stdout",
     "output_type": "stream",
     "text": [
      "74/117, Length: 74, Time: 2.8177, myHD: 0.38 RNAfoldHD: 0.41\n"
     ]
    },
    {
     "name": "stderr",
     "output_type": "stream",
     "text": [
      "/Users/harrisonlabollita/Arizona State University/Sulc group/src/kinetic_RNA/helperfunctions.py:207: RuntimeWarning: overflow encountered in exp\n",
      "  updateRates.append([np.exp(deltaS/kB), 1, trialIndex[i]])\n",
      "/Users/harrisonlabollita/Arizona State University/Sulc group/src/kinetic_RNA/helperfunctions.py:41: RuntimeWarning: invalid value encountered in double_scalars\n",
      "  rates[i][0] = rates[i][0]/normalization\n"
     ]
    },
    {
     "name": "stdout",
     "output_type": "stream",
     "text": [
      "75/117, Length: 77, Time: 0.2407, myHD: 0.52 RNAfoldHD: 0.38\n",
      "76/117, Length: 74, Time: 0.0179, myHD: 0.49 RNAfoldHD: 0.35\n",
      "77/117, Length: 71, Time: 0.3983, myHD: 0.31 RNAfoldHD: 0.34\n",
      "78/117, Length: 71, Time: 0.0213, myHD: 0.62 RNAfoldHD: 0.31\n",
      "79/117, Length: 73, Time: 0.1119, myHD: 0.44 RNAfoldHD: 0.34\n",
      "80/117, Length: 73, Time: 0.0432, myHD: 0.49 RNAfoldHD: 0.40\n",
      "81/117, Length: 75, Time: 0.0659, myHD: 0.51 RNAfoldHD: 0.35\n"
     ]
    },
    {
     "name": "stderr",
     "output_type": "stream",
     "text": [
      "/Users/harrisonlabollita/Arizona State University/Sulc group/src/kinetic_RNA/helperfunctions.py:207: RuntimeWarning: overflow encountered in exp\n",
      "  updateRates.append([np.exp(deltaS/kB), 1, trialIndex[i]])\n",
      "/Users/harrisonlabollita/Arizona State University/Sulc group/src/kinetic_RNA/helperfunctions.py:41: RuntimeWarning: invalid value encountered in double_scalars\n",
      "  rates[i][0] = rates[i][0]/normalization\n"
     ]
    },
    {
     "name": "stdout",
     "output_type": "stream",
     "text": [
      "82/117, Length: 74, Time: 11.1863, myHD: 0.55 RNAfoldHD: 0.31\n",
      "83/117, Length: 72, Time: 0.0166, myHD: 0.58 RNAfoldHD: 0.38\n",
      "84/117, Length: 78, Time: 0.0234, myHD: 0.54 RNAfoldHD: 0.33\n"
     ]
    },
    {
     "name": "stderr",
     "output_type": "stream",
     "text": [
      "/Users/harrisonlabollita/Arizona State University/Sulc group/src/kinetic_RNA/helperfunctions.py:207: RuntimeWarning: overflow encountered in exp\n",
      "  updateRates.append([np.exp(deltaS/kB), 1, trialIndex[i]])\n",
      "/Users/harrisonlabollita/Arizona State University/Sulc group/src/kinetic_RNA/helperfunctions.py:41: RuntimeWarning: invalid value encountered in double_scalars\n",
      "  rates[i][0] = rates[i][0]/normalization\n",
      "/Users/harrisonlabollita/Arizona State University/Sulc group/src/kinetic_RNA/helperfunctions.py:207: RuntimeWarning: overflow encountered in exp\n",
      "  updateRates.append([np.exp(deltaS/kB), 1, trialIndex[i]])\n",
      "/Users/harrisonlabollita/Arizona State University/Sulc group/src/kinetic_RNA/helperfunctions.py:41: RuntimeWarning: invalid value encountered in double_scalars\n",
      "  rates[i][0] = rates[i][0]/normalization\n"
     ]
    },
    {
     "name": "stdout",
     "output_type": "stream",
     "text": [
      "85/117, Length: 73, Time: 156.4457, myHD: 0.49 RNAfoldHD: 0.38\n",
      "86/117, Length: 72, Time: 0.0783, myHD: 0.42 RNAfoldHD: 0.35\n",
      "87/117, Length: 76, Time: 0.0248, myHD: 0.55 RNAfoldHD: 0.30\n",
      "88/117, Length: 73, Time: 0.0541, myHD: 0.41 RNAfoldHD: 0.47\n",
      "89/117, Length: 75, Time: 0.0427, myHD: 0.56 RNAfoldHD: 0.37\n",
      "90/117, Length: 72, Time: 0.0472, myHD: 0.44 RNAfoldHD: 0.28\n",
      "91/117, Length: 73, Time: 0.0294, myHD: 0.49 RNAfoldHD: 0.40\n",
      "92/117, Length: 77, Time: 0.2034, myHD: 0.31 RNAfoldHD: 0.32\n",
      "93/117, Length: 74, Time: 2.7498, myHD: 0.30 RNAfoldHD: 0.41\n",
      "94/117, Length: 76, Time: 0.0268, myHD: 0.45 RNAfoldHD: 0.29\n",
      "95/117, Length: 74, Time: 0.0184, myHD: 0.57 RNAfoldHD: 0.38\n",
      "96/117, Length: 74, Time: 0.2210, myHD: 0.57 RNAfoldHD: 0.42\n"
     ]
    },
    {
     "name": "stderr",
     "output_type": "stream",
     "text": [
      "/Users/harrisonlabollita/Arizona State University/Sulc group/src/kinetic_RNA/helperfunctions.py:207: RuntimeWarning: overflow encountered in exp\n",
      "  updateRates.append([np.exp(deltaS/kB), 1, trialIndex[i]])\n",
      "/Users/harrisonlabollita/Arizona State University/Sulc group/src/kinetic_RNA/helperfunctions.py:41: RuntimeWarning: invalid value encountered in double_scalars\n",
      "  rates[i][0] = rates[i][0]/normalization\n"
     ]
    },
    {
     "name": "stdout",
     "output_type": "stream",
     "text": [
      "97/117, Length: 75, Time: 7.9630, myHD: 0.52 RNAfoldHD: 0.32\n"
     ]
    },
    {
     "name": "stderr",
     "output_type": "stream",
     "text": [
      "/Users/harrisonlabollita/Arizona State University/Sulc group/src/kinetic_RNA/helperfunctions.py:207: RuntimeWarning: overflow encountered in exp\n",
      "  updateRates.append([np.exp(deltaS/kB), 1, trialIndex[i]])\n",
      "/Users/harrisonlabollita/Arizona State University/Sulc group/src/kinetic_RNA/helperfunctions.py:41: RuntimeWarning: invalid value encountered in double_scalars\n",
      "  rates[i][0] = rates[i][0]/normalization\n"
     ]
    },
    {
     "name": "stdout",
     "output_type": "stream",
     "text": [
      "98/117, Length: 77, Time: 95.3396, myHD: 0.47 RNAfoldHD: 0.42\n",
      "99/117, Length: 74, Time: 0.2626, myHD: 0.58 RNAfoldHD: 0.42\n",
      "100/117, Length: 74, Time: 0.0741, myHD: 0.49 RNAfoldHD: 0.38\n"
     ]
    },
    {
     "name": "stderr",
     "output_type": "stream",
     "text": [
      "/Users/harrisonlabollita/Arizona State University/Sulc group/src/kinetic_RNA/helperfunctions.py:207: RuntimeWarning: overflow encountered in exp\n",
      "  updateRates.append([np.exp(deltaS/kB), 1, trialIndex[i]])\n",
      "/Users/harrisonlabollita/Arizona State University/Sulc group/src/kinetic_RNA/helperfunctions.py:41: RuntimeWarning: invalid value encountered in double_scalars\n",
      "  rates[i][0] = rates[i][0]/normalization\n"
     ]
    },
    {
     "name": "stdout",
     "output_type": "stream",
     "text": [
      "101/117, Length: 76, Time: 1.4765, myHD: 0.34 RNAfoldHD: 0.43\n",
      "102/117, Length: 73, Time: 0.0375, myHD: 0.60 RNAfoldHD: 0.51\n",
      "103/117, Length: 77, Time: 0.2157, myHD: 0.47 RNAfoldHD: 0.42\n",
      "104/117, Length: 72, Time: 0.0372, myHD: 0.53 RNAfoldHD: 0.28\n",
      "105/117, Length: 74, Time: 0.0357, myHD: 0.46 RNAfoldHD: 0.50\n",
      "106/117, Length: 76, Time: 0.0225, myHD: 0.47 RNAfoldHD: 0.37\n",
      "107/117, Length: 73, Time: 0.1902, myHD: 0.52 RNAfoldHD: 0.26\n",
      "108/117, Length: 72, Time: 0.0217, myHD: 0.50 RNAfoldHD: 0.26\n"
     ]
    },
    {
     "name": "stderr",
     "output_type": "stream",
     "text": [
      "/Users/harrisonlabollita/Arizona State University/Sulc group/src/kinetic_RNA/helperfunctions.py:207: RuntimeWarning: overflow encountered in exp\n",
      "  updateRates.append([np.exp(deltaS/kB), 1, trialIndex[i]])\n",
      "/Users/harrisonlabollita/Arizona State University/Sulc group/src/kinetic_RNA/helperfunctions.py:41: RuntimeWarning: invalid value encountered in double_scalars\n",
      "  rates[i][0] = rates[i][0]/normalization\n"
     ]
    },
    {
     "name": "stdout",
     "output_type": "stream",
     "text": [
      "109/117, Length: 74, Time: 49.8116, myHD: 0.49 RNAfoldHD: 0.39\n",
      "110/117, Length: 74, Time: 0.3783, myHD: 0.34 RNAfoldHD: 0.27\n",
      "111/117, Length: 77, Time: 0.0424, myHD: 0.42 RNAfoldHD: 0.39\n",
      "112/117, Length: 76, Time: 0.0855, myHD: 0.42 RNAfoldHD: 0.49\n",
      "113/117, Length: 74, Time: 0.0345, myHD: 0.46 RNAfoldHD: 0.50\n",
      "114/117, Length: 74, Time: 0.3678, myHD: 0.49 RNAfoldHD: 0.39\n",
      "115/117, Length: 76, Time: 0.0302, myHD: 0.55 RNAfoldHD: 0.37\n",
      "116/117, Length: 77, Time: 0.0204, myHD: 0.55 RNAfoldHD: 0.44\n",
      "117/117, Length: 73, Time: 0.0179, myHD: 0.58 RNAfoldHD: 0.26\n"
     ]
    },
    {
     "name": "stderr",
     "output_type": "stream",
     "text": [
      "/Users/harrisonlabollita/Arizona State University/Sulc group/src/kinetic_RNA/helperfunctions.py:207: RuntimeWarning: overflow encountered in exp\n",
      "  updateRates.append([np.exp(deltaS/kB), 1, trialIndex[i]])\n",
      "/Users/harrisonlabollita/Arizona State University/Sulc group/src/kinetic_RNA/helperfunctions.py:41: RuntimeWarning: invalid value encountered in double_scalars\n",
      "  rates[i][0] = rates[i][0]/normalization\n"
     ]
    }
   ],
   "source": [
    "total_misses = []\n",
    "rna_misses = []\n",
    "for i in range(len(sequences)):\n",
    "    seq = sequences[i]\n",
    "    dot = dotbrackets[i]\n",
    "    rnafold = viennaRNA[i]\n",
    "    start = time.time()\n",
    "    G = GILLESPIE.Gillespie(seq, [], maxTime = 5, toPrint = False, initTime = False)\n",
    "    structure = myReplace(G.runGillespie())\n",
    "    mistakes = compareStructs(structure, dot)\n",
    "    rna_mistake = compareStructs(rnafold, dot)\n",
    "    rna_mistake /= len(seq)\n",
    "    mistakes /= len(seq)\n",
    "    total_misses.append(mistakes)\n",
    "    rna_misses.append(rna_mistake)\n",
    "    stop = time.time()\n",
    "    print('{}/{}, Length: {}, Time: {:0.4f}, myHD: {:0.2f} RNAfoldHD: {:0.2f}'.format(i+1, len(sequences), len(seq), abs(stop-start), mistakes, rna_mistake))"
   ]
  },
  {
   "cell_type": "code",
   "execution_count": 5,
   "metadata": {},
   "outputs": [
    {
     "name": "stdout",
     "output_type": "stream",
     "text": [
      "myMean: 0.4892199552135531\n",
      "myMin: 0.2972972972972973\n",
      "myMax: 0.6197183098591549\n",
      "rnaMean: 0.37461736420292935\n",
      "rnaMin: 0.25\n",
      "rnaMax: 0.527027027027027\n"
     ]
    }
   ],
   "source": [
    "print('myMean:', np.mean(total_misses))\n",
    "print('myMin:', np.min(total_misses))\n",
    "print('myMax:', np.max(total_misses))\n",
    "print('rnaMean:', np.mean(rna_misses))\n",
    "print('rnaMin:', np.min(rna_misses))\n",
    "print('rnaMax:', np.max(rna_misses))"
   ]
  },
  {
   "cell_type": "markdown",
   "metadata": {},
   "source": [
    "# myFolder Results"
   ]
  },
  {
   "cell_type": "code",
   "execution_count": 10,
   "metadata": {},
   "outputs": [
    {
     "data": {
      "image/png": "[encoded data removed]",
      "text/plain": [
       "<Figure size 432x288 with 1 Axes>"
      ]
     },
     "metadata": {
      "needs_background": "light"
     },
     "output_type": "display_data"
    }
   ],
   "source": [
    "#myCorrect = [1 - total_misses[i] for i in range(len(total_misses))]\n",
    "plt.figure()\n",
    "plt.title('Kinetic Folder', fontsize = 20)\n",
    "plt.xlabel('Hamming Distance', fontsize = 15)\n",
    "plt.ylabel('Frequency', fontsize = 15)\n",
    "plt.grid(True, linestyle = ':', linewidth = 1)\n",
    "plt.hist(total_misses, bins = 5, density = True, histtype = 'bar', rwidth =0.95, color = 'black',linewidth = 2)\n",
    "plt.xlim([0,1])\n",
    "plt.show()\n",
    "#plt.savefig('myfolder.eps', format = 'eps')"
   ]
  },
  {
   "cell_type": "markdown",
   "metadata": {},
   "source": [
    "# ViennaRNA Results"
   ]
  },
  {
   "cell_type": "code",
   "execution_count": 52,
   "metadata": {},
   "outputs": [
    {
     "data": {
      "image/png": "[encoded data removed]",
      "text/plain": [
       "<Figure size 432x288 with 1 Axes>"
      ]
     },
     "metadata": {
      "needs_background": "light"
     },
     "output_type": "display_data"
    }
   ],
   "source": [
    "rnaCorrect = [1- rna_misses[i] for i in range(len(rna_misses))]\n",
    "plt.figure()\n",
    "plt.title('ViennaRNA Folder', fontsize = 20)\n",
    "plt.xlabel('Percentage Correct', fontsize = 15)\n",
    "plt.ylabel('Frequency', fontsize = 15)\n",
    "plt.grid(True, linestyle = ':', linewidth = 1)\n",
    "plt.hist(rnaCorrect, bins = 25, density = True, histtype = 'bar', rwidth = 0.9, color = 'black',linewidth = 2)\n",
    "plt.savefig('viennarna.eps', format = 'eps')"
   ]
  },
  {
   "cell_type": "markdown",
   "metadata": {},
   "source": [
    "## Pseudoknotted Dataset\n",
    "\n",
    "### Parameters\n",
    "**Dataset**: bad_seq\n",
    "\n",
    "**Seq. Length**: <\n",
    "\n",
    "**minBPinStem**: 3"
   ]
  },
  {
   "cell_type": "code",
   "execution_count": 3,
   "metadata": {},
   "outputs": [
    {
     "name": "stdout",
     "output_type": "stream",
     "text": [
      "Mean length: 29.3 ntds\n",
      "Max length: 37 ntds\n",
      "Min length: 21 ntds\n",
      "Dataset length: 15\n"
     ]
    }
   ],
   "source": [
    "seq_file = '/Users/harrisonlabollita/Arizona State University/Sulc group/data_set/src.txt'\n",
    "dot_file = '/Users/harrisonlabollita/Arizona State University/Sulc group/data_set/tgt.txt'\n",
    "rna_fold_file = '/Users/harrisonlabollita/Arizona State University/Sulc group/data_set/RNA_tgt.txt'\n",
    "sequences = []\n",
    "brackets = []\n",
    "rnaFold = []\n",
    "with open(seq_file, 'r') as file:\n",
    "    for line in file:\n",
    "        sequences.append(line.rstrip())\n",
    "with open(dot_file, 'r') as file:\n",
    "    for line in file:\n",
    "        brackets.append(line.rstrip())\n",
    "with open(rna_fold_file, 'r') as file:\n",
    "    for line in file:\n",
    "            rnaFold.append(line.rstrip())\n",
    "seqLength = [len(seq) for seq in sequences]\n",
    "print('Mean length: %0.1f ntds' %(np.mean(seqLength)))\n",
    "print('Max length: %d ntds' %(np.max(seqLength)))\n",
    "print('Min length: %d ntds' %(np.min(seqLength)))\n",
    "print('Dataset length:', len(sequences))"
   ]
  },
  {
   "cell_type": "markdown",
   "metadata": {},
   "source": [
    "# Results for Pseudoknotted structures"
   ]
  },
  {
   "cell_type": "code",
   "execution_count": 43,
   "metadata": {},
   "outputs": [
    {
     "name": "stderr",
     "output_type": "stream",
     "text": [
      "/Users/harrisonlabollita/Arizona State University/Sulc group/src/kinetic_RNA/helperfunctions.py:207: RuntimeWarning: overflow encountered in exp\n",
      "  updateRates.append([np.exp(deltaS/kB), 1, trialIndex[i]])\n",
      "/Users/harrisonlabollita/Arizona State University/Sulc group/src/kinetic_RNA/helperfunctions.py:41: RuntimeWarning: invalid value encountered in double_scalars\n",
      "  rates[i][0] = rates[i][0]/normalization\n"
     ]
    },
    {
     "name": "stdout",
     "output_type": "stream",
     "text": [
      "1/15, Length: 37, Time: 0.1892, myCorrect(%): 0.70 RNAfoldCorrect(%): 0.68\n",
      "Actual: .......(((((..((((..)))))....))))....\n",
      "myFolder: .......(((....((()))..........)))....\n",
      "rnaFold: ...........((.((((...........)))).)).\n",
      "2/15, Length: 26, Time: 0.0380, myCorrect(%): 0.77 RNAfoldCorrect(%): 0.77\n",
      "Actual: (((....((((()))......)))))\n",
      "myFolder: .......(((((.........)))))\n",
      "rnaFold: .......(((((.........)))))\n",
      "3/15, Length: 26, Time: 0.0503, myCorrect(%): 0.42 RNAfoldCorrect(%): 0.65\n",
      "Actual: .(((..(((((.))).....))))).\n",
      "myFolder: ..............(((.....))).\n",
      "rnaFold: ......(((((((....)).))))).\n"
     ]
    },
    {
     "name": "stderr",
     "output_type": "stream",
     "text": [
      "/Users/harrisonlabollita/Arizona State University/Sulc group/src/kinetic_RNA/helperfunctions.py:207: RuntimeWarning: overflow encountered in exp\n",
      "  updateRates.append([np.exp(deltaS/kB), 1, trialIndex[i]])\n",
      "/Users/harrisonlabollita/Arizona State University/Sulc group/src/kinetic_RNA/helperfunctions.py:41: RuntimeWarning: invalid value encountered in double_scalars\n",
      "  rates[i][0] = rates[i][0]/normalization\n"
     ]
    },
    {
     "name": "stdout",
     "output_type": "stream",
     "text": [
      "4/15, Length: 31, Time: 0.7644, myCorrect(%): 0.48 RNAfoldCorrect(%): 0.58\n",
      "Actual: .(((((.(((((()))))......)))))).\n",
      "myFolder: .....(((((((........)))..))))..\n",
      "rnaFold: .((((((.....)))))).............\n"
     ]
    },
    {
     "name": "stderr",
     "output_type": "stream",
     "text": [
      "/Users/harrisonlabollita/Arizona State University/Sulc group/src/kinetic_RNA/helperfunctions.py:207: RuntimeWarning: overflow encountered in exp\n",
      "  updateRates.append([np.exp(deltaS/kB), 1, trialIndex[i]])\n",
      "/Users/harrisonlabollita/Arizona State University/Sulc group/src/kinetic_RNA/helperfunctions.py:41: RuntimeWarning: invalid value encountered in double_scalars\n",
      "  rates[i][0] = rates[i][0]/normalization\n"
     ]
    },
    {
     "name": "stdout",
     "output_type": "stream",
     "text": [
      "5/15, Length: 33, Time: 0.7949, myCorrect(%): 0.58 RNAfoldCorrect(%): 0.64\n",
      "Actual: ..(((((..(((((()))))......)))))).\n",
      "myFolder: .....(((..(((....)))..........)))\n",
      "rnaFold: ........(((((((...........)))))))\n"
     ]
    },
    {
     "name": "stderr",
     "output_type": "stream",
     "text": [
      "/Users/harrisonlabollita/Arizona State University/Sulc group/src/kinetic_RNA/helperfunctions.py:207: RuntimeWarning: overflow encountered in exp\n",
      "  updateRates.append([np.exp(deltaS/kB), 1, trialIndex[i]])\n",
      "/Users/harrisonlabollita/Arizona State University/Sulc group/src/kinetic_RNA/helperfunctions.py:41: RuntimeWarning: invalid value encountered in double_scalars\n",
      "  rates[i][0] = rates[i][0]/normalization\n"
     ]
    },
    {
     "name": "stdout",
     "output_type": "stream",
     "text": [
      "6/15, Length: 37, Time: 3.5784, myCorrect(%): 0.46 RNAfoldCorrect(%): 0.68\n",
      "Actual: .......(((((..(((((()))))...))))))...\n",
      "myFolder: ....((((((...))).....))).............\n",
      "rnaFold: (((....(((((........))))).....)))....\n",
      "7/15, Length: 24, Time: 0.1647, myCorrect(%): 0.71 RNAfoldCorrect(%): 0.75\n",
      "Actual: .(((.(((((()))...)))))).\n",
      "myFolder: ..(((((((.)))......)))).\n",
      "rnaFold: .....((((((......)))))).\n",
      "8/15, Length: 26, Time: 0.2491, myCorrect(%): 0.54 RNAfoldCorrect(%): 0.77\n",
      "Actual: .(((.((((((()))...))))))).\n",
      "myFolder: ((((.((())))..........))).\n",
      "rnaFold: .....(((((((......))))))).\n",
      "9/15, Length: 21, Time: 0.0672, myCorrect(%): 0.67 RNAfoldCorrect(%): 0.38\n",
      "Actual: .((((((..((())))).))).\n",
      "myFolder: .((((...(((.)))).))).\n",
      "rnaFold: ........((((....)))).\n"
     ]
    },
    {
     "name": "stderr",
     "output_type": "stream",
     "text": [
      "/Users/harrisonlabollita/Arizona State University/Sulc group/src/kinetic_RNA/helperfunctions.py:207: RuntimeWarning: overflow encountered in exp\n",
      "  updateRates.append([np.exp(deltaS/kB), 1, trialIndex[i]])\n",
      "/Users/harrisonlabollita/Arizona State University/Sulc group/src/kinetic_RNA/helperfunctions.py:41: RuntimeWarning: invalid value encountered in double_scalars\n",
      "  rates[i][0] = rates[i][0]/normalization\n"
     ]
    },
    {
     "name": "stdout",
     "output_type": "stream",
     "text": [
      "10/15, Length: 30, Time: 0.7779, myCorrect(%): 0.60 RNAfoldCorrect(%): 0.70\n",
      "Actual: ((((.....((((())))......).))))\n",
      "myFolder: (((...((((.....)))......))))..\n",
      "rnaFold: .........((((.(.........).))))\n",
      "11/15, Length: 26, Time: 0.1088, myCorrect(%): 0.35 RNAfoldCorrect(%): 0.62\n",
      "Actual: .(((((.((((()))))..)))))..\n",
      "myFolder: .............(((....)))...\n",
      "rnaFold: .(((((......))))).........\n"
     ]
    },
    {
     "name": "stderr",
     "output_type": "stream",
     "text": [
      "/Users/harrisonlabollita/Arizona State University/Sulc group/src/kinetic_RNA/helperfunctions.py:207: RuntimeWarning: overflow encountered in exp\n",
      "  updateRates.append([np.exp(deltaS/kB), 1, trialIndex[i]])\n",
      "/Users/harrisonlabollita/Arizona State University/Sulc group/src/kinetic_RNA/helperfunctions.py:41: RuntimeWarning: invalid value encountered in double_scalars\n",
      "  rates[i][0] = rates[i][0]/normalization\n"
     ]
    },
    {
     "name": "stdout",
     "output_type": "stream",
     "text": [
      "12/15, Length: 33, Time: 0.7996, myCorrect(%): 0.52 RNAfoldCorrect(%): 0.73\n",
      "Actual: .((((.....((((())))......).))))..\n",
      "myFolder: ...........((((......(((..)))))))\n",
      "rnaFold: ..........((((((.........))))))..\n",
      "13/15, Length: 33, Time: 0.8087, myCorrect(%): 0.45 RNAfoldCorrect(%): 0.67\n",
      "Actual: .(((((.((((((())))).......)))))))\n",
      "myFolder: .(((............)))..............\n",
      "rnaFold: .......(((((((.(........).)))))))\n",
      "14/15, Length: 28, Time: 0.1981, myCorrect(%): 0.93 RNAfoldCorrect(%): 0.57\n",
      "Actual: .((((..(((()))).....))))....\n",
      "myFolder: .((((.((((.)))).....))))....\n",
      "rnaFold: .....((((((.........))))))..\n",
      "15/15, Length: 29, Time: 0.2428, myCorrect(%): 0.48 RNAfoldCorrect(%): 0.52\n",
      "Actual: .(((....((((()))..)))))......\n",
      "myFolder: ...........(((........)))....\n",
      "rnaFold: ....(((((((((.....))))).)))).\n"
     ]
    }
   ],
   "source": [
    "total_misses = []\n",
    "rna_misses = []\n",
    "for i in range(len(sequences)):\n",
    "    seq = sequences[i]\n",
    "    dot = brackets[i]\n",
    "    rnafold = rnaFold[i]\n",
    "    start = time.time()\n",
    "    G = GILLESPIE.Gillespie(seq, [], maxTime = 5, toPrint = False, initTime = False)\n",
    "    structure = myReplace((G.runGillespie()))\n",
    "    mistakes = compareStructs(structure, dot)\n",
    "    rna_mistake = compareStructs(rnafold, dot)\n",
    "    rna_mistake /= len(seq)\n",
    "    mistakes /= len(seq)\n",
    "    total_misses.append(mistakes)\n",
    "    rna_misses.append(rna_mistake)\n",
    "    stop = time.time()\n",
    "    print('{}/{}, Length: {}, Time: {:0.4f}, myCorrect(%): {:0.2f} RNAfoldCorrect(%): {:0.2f}'.format(i+1, len(sequences), len(seq), abs(stop-start), 1-mistakes, 1-rna_mistake))\n",
    "    print('Actual:', dot)\n",
    "    print('myFolder:',structure)\n",
    "    print('rnaFold:', rnafold)"
   ]
  },
  {
   "cell_type": "code",
   "execution_count": 44,
   "metadata": {},
   "outputs": [
    {
     "name": "stdout",
     "output_type": "stream",
     "text": [
      "myMean: 0.5769827201028537\n",
      "myMax: 0.9285714285714286\n",
      "myMin: 0.34615384615384615\n",
      "rnaMean: 0.6459742788218873\n",
      "rnaMax: 0.7692307692307692\n",
      "rnaMin: 0.38095238095238093\n"
     ]
    }
   ],
   "source": [
    "print('myMean:', 1- np.mean(total_misses))\n",
    "print('myMax:', 1-np.min(total_misses))\n",
    "print('myMin:', 1-np.max(total_misses))\n",
    "print('rnaMean:', 1-np.mean(rna_misses))\n",
    "print('rnaMax:', 1-np.min(rna_misses))\n",
    "print('rnaMin:', 1-np.max(rna_misses))"
   ]
  },
  {
   "cell_type": "markdown",
   "metadata": {},
   "source": [
    "# myFolder Results"
   ]
  },
  {
   "cell_type": "code",
   "execution_count": 45,
   "metadata": {},
   "outputs": [
    {
     "data": {
      "image/png": "[encoded data removed]",
      "text/plain": [
       "<Figure size 432x288 with 1 Axes>"
      ]
     },
     "metadata": {
      "needs_background": "light"
     },
     "output_type": "display_data"
    }
   ],
   "source": [
    "myCorrect = [1 - total_misses[i] for i in range(len(total_misses))]\n",
    "plt.figure()\n",
    "plt.title('Kinetic Folder', fontsize = 20)\n",
    "plt.xlabel('Percentage Correct', fontsize = 15)\n",
    "plt.ylabel('Frequency', fontsize = 15)\n",
    "plt.grid(True, linestyle = ':', linewidth = 1)\n",
    "plt.hist(myCorrect, bins = 25, density = True, histtype = 'bar', rwidth = 0.9, color = 'black',linewidth = 2)\n",
    "plt.savefig('myfolder_pseudo.eps', format = 'eps')"
   ]
  },
  {
   "cell_type": "markdown",
   "metadata": {},
   "source": [
    "# Vienna RNA Results"
   ]
  },
  {
   "cell_type": "code",
   "execution_count": 46,
   "metadata": {},
   "outputs": [
    {
     "data": {
      "image/png": "[encoded data removed]",
      "text/plain": [
       "<Figure size 432x288 with 1 Axes>"
      ]
     },
     "metadata": {
      "needs_background": "light"
     },
     "output_type": "display_data"
    }
   ],
   "source": [
    "rnaCorrect = [1 - rna_misses[i] for i in range(len(rna_misses))]\n",
    "plt.figure()\n",
    "plt.title('ViennaRNA Folder', fontsize = 20)\n",
    "plt.xlabel('Percentage Correct', fontsize = 15)\n",
    "plt.ylabel('Frequency', fontsize = 15)\n",
    "plt.grid(True, linestyle = ':', linewidth = 1)\n",
    "plt.hist(rnaCorrect, bins = 25, density = True, histtype = 'bar', rwidth = 0.9, color = 'black',linewidth = 2)\n",
    "plt.savefig('viennarna_pseudo.eps', format = 'eps')"
   ]
  },
  {
   "cell_type": "code",
   "execution_count": null,
   "metadata": {},
   "outputs": [],
   "source": []
  }
 ],
 "metadata": {
  "kernelspec": {
   "display_name": "Python 3",
   "language": "python",
   "name": "python3"
  },
  "language_info": {
   "codemirror_mode": {
    "name": "ipython",
    "version": 3
   },
   "file_extension": ".py",
   "mimetype": "text/x-python",
   "name": "python",
   "nbconvert_exporter": "python",
   "pygments_lexer": "ipython3",
   "version": "3.8.1"
  }
 },
 "nbformat": 4,
 "nbformat_minor": 4
}
