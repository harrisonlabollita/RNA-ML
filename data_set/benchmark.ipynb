{
 "cells": [
  {
   "cell_type": "markdown",
   "metadata": {},
   "source": [
    "# Benchmark RNA folder\n",
    "\n",
    "Benchmarking my RNA folder compared to ViennaRNA. \n",
    "## Bad_Seq Dataset\n",
    "### Parameters\n",
    "**Dataset**: bad_seq\n",
    "\n",
    "**Seq. Length**: < 80 ntds\n",
    "\n",
    "**minBPinStem**: 3"
   ]
  },
  {
   "cell_type": "code",
   "execution_count": 2,
   "metadata": {},
   "outputs": [],
   "source": [
    "import numpy as np\n",
    "import os, sys, glob\n",
    "import matplotlib.pyplot as plt\n",
    "sys.path.append('/Users/harrisonlabollita/Arizona State University/Sulc group/src/kinetic_RNA/')\n",
    "import gillespie as GILLESPIE\n",
    "import time\n",
    "import matplotlib.pyplot as plt \n",
    "import matplotlib\n",
    "matplotlib.rc('text', usetex = True)\n",
    "matplotlib.rc('font', **{'family':'serif', 'serif':['Computer Modern Roman, Times']})"
   ]
  },
  {
   "cell_type": "code",
   "execution_count": 42,
   "metadata": {},
   "outputs": [],
   "source": [
    "def str_append(s):\n",
    "    output = ''\n",
    "    output += s\n",
    "    return output\n",
    "\n",
    "def readFile(file):\n",
    "    f = open(file, 'r')\n",
    "    for i, line in enumerate(f):\n",
    "        if i == 1:\n",
    "            seq = line.rstrip()\n",
    "        if i == 2:\n",
    "            dots = line.split(' ')[1]\n",
    "            dots.rstrip()\n",
    "        if i == 3:\n",
    "            rnafold = line.split(' ')[1]\n",
    "            rnafold.rstrip()\n",
    "    return seq, dots, rnafold\n",
    "\n",
    "def compareStructs(pred, answer):\n",
    "    count = 0\n",
    "    for i in range(len(pred)):\n",
    "        if pred[i] != answer[i]:\n",
    "            count +=1\n",
    "    return count\n",
    "\n",
    "def myReplace(string):\n",
    "    newString = ''\n",
    "    for i in range(len(string)):\n",
    "        if string[i] == ']':\n",
    "            newString += ')'\n",
    "        elif string[i] == '[':\n",
    "            newString += '('\n",
    "        else:\n",
    "            newString += string[i]\n",
    "    return newString\n",
    "\n",
    "def getData(length, files):\n",
    "    sequences = []\n",
    "    brackets = []\n",
    "    viennaRNA = []\n",
    "    for file in files:\n",
    "        seq, dot, rnafold = readFile(file)\n",
    "        if len(seq) <= length:\n",
    "            sequences.append(seq)\n",
    "            brackets.append(dot)\n",
    "            viennaRNA.append(rnafold)\n",
    "    return sequences, brackets, viennaRNA"
   ]
  },
  {
   "cell_type": "code",
   "execution_count": 47,
   "metadata": {},
   "outputs": [
    {
     "name": "stdout",
     "output_type": "stream",
     "text": [
      "Length of dataset: 117\n",
      "Mean Length: 73\n",
      "Max Length: 78\n",
      "Min Length: 71\n"
     ]
    }
   ],
   "source": [
    "seq_files = glob.glob('/Users/harrisonlabollita/Arizona State University/Sulc group/data_set/bad_seq/*')\n",
    "sequences, dotbrackets, viennaRNA = getData(80, seq_files)\n",
    "seqLength = [len(seq) for seq in sequences]\n",
    "print('Length of dataset: %d' %(len(sequences)))\n",
    "print('Mean Length: %d' %(np.mean(seqLength)))\n",
    "print('Max Length: %d' %(np.max(seqLength)))\n",
    "print('Min Length: %d' %(np.min(seqLength)))"
   ]
  },
  {
   "cell_type": "code",
   "execution_count": 48,
   "metadata": {},
   "outputs": [
    {
     "name": "stdout",
     "output_type": "stream",
     "text": [
      "1/117, Length: 73, Time: 0.0485, myCorrect(%): 0.53 RNAfoldCorrect(%): 0.52\n",
      "2/117, Length: 73, Time: 0.0213, myCorrect(%): 0.47 RNAfoldCorrect(%): 0.74\n",
      "3/117, Length: 78, Time: 0.0983, myCorrect(%): 0.49 RNAfoldCorrect(%): 0.64\n",
      "4/117, Length: 76, Time: 0.0187, myCorrect(%): 0.47 RNAfoldCorrect(%): 0.70\n",
      "5/117, Length: 72, Time: 0.0181, myCorrect(%): 0.50 RNAfoldCorrect(%): 0.51\n",
      "6/117, Length: 77, Time: 0.0345, myCorrect(%): 0.53 RNAfoldCorrect(%): 0.65\n",
      "7/117, Length: 72, Time: 0.0202, myCorrect(%): 0.42 RNAfoldCorrect(%): 0.64\n",
      "8/117, Length: 73, Time: 0.0306, myCorrect(%): 0.45 RNAfoldCorrect(%): 0.60\n",
      "9/117, Length: 72, Time: 0.0200, myCorrect(%): 0.47 RNAfoldCorrect(%): 0.72\n",
      "10/117, Length: 74, Time: 0.0324, myCorrect(%): 0.51 RNAfoldCorrect(%): 0.51\n",
      "11/117, Length: 72, Time: 0.0319, myCorrect(%): 0.44 RNAfoldCorrect(%): 0.56\n",
      "12/117, Length: 74, Time: 0.0651, myCorrect(%): 0.62 RNAfoldCorrect(%): 0.61\n",
      "13/117, Length: 78, Time: 0.0220, myCorrect(%): 0.54 RNAfoldCorrect(%): 0.67\n",
      "14/117, Length: 74, Time: 0.3372, myCorrect(%): 0.53 RNAfoldCorrect(%): 0.69\n",
      "15/117, Length: 76, Time: 0.0221, myCorrect(%): 0.53 RNAfoldCorrect(%): 0.67\n",
      "16/117, Length: 72, Time: 0.9252, myCorrect(%): 0.54 RNAfoldCorrect(%): 0.61\n",
      "17/117, Length: 76, Time: 0.0238, myCorrect(%): 0.49 RNAfoldCorrect(%): 0.70\n",
      "18/117, Length: 74, Time: 0.0167, myCorrect(%): 0.43 RNAfoldCorrect(%): 0.74\n",
      "19/117, Length: 76, Time: 0.0186, myCorrect(%): 0.45 RNAfoldCorrect(%): 0.67\n"
     ]
    },
    {
     "name": "stderr",
     "output_type": "stream",
     "text": [
      "/Users/harrisonlabollita/Arizona State University/Sulc group/src/kinetic_RNA/helperfunctions.py:207: RuntimeWarning: overflow encountered in exp\n",
      "  updateRates.append([np.exp(deltaS/kB), 1, trialIndex[i]])\n",
      "/Users/harrisonlabollita/Arizona State University/Sulc group/src/kinetic_RNA/helperfunctions.py:41: RuntimeWarning: invalid value encountered in double_scalars\n",
      "  rates[i][0] = rates[i][0]/normalization\n"
     ]
    },
    {
     "name": "stdout",
     "output_type": "stream",
     "text": [
      "20/117, Length: 73, Time: 0.4873, myCorrect(%): 0.47 RNAfoldCorrect(%): 0.56\n"
     ]
    },
    {
     "name": "stderr",
     "output_type": "stream",
     "text": [
      "/Users/harrisonlabollita/Arizona State University/Sulc group/src/kinetic_RNA/helperfunctions.py:207: RuntimeWarning: overflow encountered in exp\n",
      "  updateRates.append([np.exp(deltaS/kB), 1, trialIndex[i]])\n",
      "/Users/harrisonlabollita/Arizona State University/Sulc group/src/kinetic_RNA/helperfunctions.py:41: RuntimeWarning: invalid value encountered in double_scalars\n",
      "  rates[i][0] = rates[i][0]/normalization\n"
     ]
    },
    {
     "name": "stdout",
     "output_type": "stream",
     "text": [
      "21/117, Length: 72, Time: 1.0268, myCorrect(%): 0.51 RNAfoldCorrect(%): 0.75\n",
      "22/117, Length: 74, Time: 0.0497, myCorrect(%): 0.51 RNAfoldCorrect(%): 0.62\n",
      "23/117, Length: 72, Time: 0.0194, myCorrect(%): 0.42 RNAfoldCorrect(%): 0.51\n",
      "24/117, Length: 75, Time: 0.0596, myCorrect(%): 0.49 RNAfoldCorrect(%): 0.65\n",
      "25/117, Length: 76, Time: 0.0320, myCorrect(%): 0.47 RNAfoldCorrect(%): 0.72\n",
      "26/117, Length: 72, Time: 0.0322, myCorrect(%): 0.53 RNAfoldCorrect(%): 0.56\n",
      "27/117, Length: 71, Time: 0.4191, myCorrect(%): 0.45 RNAfoldCorrect(%): 0.56\n",
      "28/117, Length: 72, Time: 0.0763, myCorrect(%): 0.51 RNAfoldCorrect(%): 0.58\n",
      "29/117, Length: 74, Time: 0.0535, myCorrect(%): 0.54 RNAfoldCorrect(%): 0.62\n",
      "30/117, Length: 74, Time: 0.4017, myCorrect(%): 0.59 RNAfoldCorrect(%): 0.64\n",
      "31/117, Length: 76, Time: 0.0519, myCorrect(%): 0.53 RNAfoldCorrect(%): 0.74\n",
      "32/117, Length: 74, Time: 0.0401, myCorrect(%): 0.54 RNAfoldCorrect(%): 0.59\n",
      "33/117, Length: 75, Time: 0.1199, myCorrect(%): 0.44 RNAfoldCorrect(%): 0.60\n",
      "34/117, Length: 72, Time: 0.0230, myCorrect(%): 0.58 RNAfoldCorrect(%): 0.69\n"
     ]
    },
    {
     "name": "stderr",
     "output_type": "stream",
     "text": [
      "/Users/harrisonlabollita/Arizona State University/Sulc group/src/kinetic_RNA/helperfunctions.py:207: RuntimeWarning: overflow encountered in exp\n",
      "  updateRates.append([np.exp(deltaS/kB), 1, trialIndex[i]])\n",
      "/Users/harrisonlabollita/Arizona State University/Sulc group/src/kinetic_RNA/helperfunctions.py:41: RuntimeWarning: invalid value encountered in double_scalars\n",
      "  rates[i][0] = rates[i][0]/normalization\n"
     ]
    },
    {
     "name": "stdout",
     "output_type": "stream",
     "text": [
      "35/117, Length: 73, Time: 8.1926, myCorrect(%): 0.55 RNAfoldCorrect(%): 0.55\n",
      "36/117, Length: 73, Time: 0.0245, myCorrect(%): 0.45 RNAfoldCorrect(%): 0.48\n",
      "37/117, Length: 76, Time: 0.0259, myCorrect(%): 0.47 RNAfoldCorrect(%): 0.71\n",
      "38/117, Length: 73, Time: 0.1373, myCorrect(%): 0.45 RNAfoldCorrect(%): 0.55\n"
     ]
    },
    {
     "name": "stderr",
     "output_type": "stream",
     "text": [
      "/Users/harrisonlabollita/Arizona State University/Sulc group/src/kinetic_RNA/helperfunctions.py:207: RuntimeWarning: overflow encountered in exp\n",
      "  updateRates.append([np.exp(deltaS/kB), 1, trialIndex[i]])\n",
      "/Users/harrisonlabollita/Arizona State University/Sulc group/src/kinetic_RNA/helperfunctions.py:41: RuntimeWarning: invalid value encountered in double_scalars\n",
      "  rates[i][0] = rates[i][0]/normalization\n"
     ]
    },
    {
     "name": "stdout",
     "output_type": "stream",
     "text": [
      "39/117, Length: 76, Time: 190.3543, myCorrect(%): 0.63 RNAfoldCorrect(%): 0.51\n",
      "40/117, Length: 74, Time: 0.0471, myCorrect(%): 0.43 RNAfoldCorrect(%): 0.62\n",
      "41/117, Length: 74, Time: 0.0711, myCorrect(%): 0.59 RNAfoldCorrect(%): 0.47\n",
      "42/117, Length: 73, Time: 0.0186, myCorrect(%): 0.42 RNAfoldCorrect(%): 0.55\n",
      "43/117, Length: 72, Time: 0.0739, myCorrect(%): 0.49 RNAfoldCorrect(%): 0.57\n",
      "44/117, Length: 73, Time: 0.0214, myCorrect(%): 0.51 RNAfoldCorrect(%): 0.48\n",
      "45/117, Length: 74, Time: 0.0190, myCorrect(%): 0.49 RNAfoldCorrect(%): 0.59\n",
      "46/117, Length: 76, Time: 0.0904, myCorrect(%): 0.47 RNAfoldCorrect(%): 0.51\n"
     ]
    },
    {
     "name": "stderr",
     "output_type": "stream",
     "text": [
      "/Users/harrisonlabollita/Arizona State University/Sulc group/src/kinetic_RNA/helperfunctions.py:207: RuntimeWarning: overflow encountered in exp\n",
      "  updateRates.append([np.exp(deltaS/kB), 1, trialIndex[i]])\n",
      "/Users/harrisonlabollita/Arizona State University/Sulc group/src/kinetic_RNA/helperfunctions.py:41: RuntimeWarning: invalid value encountered in double_scalars\n",
      "  rates[i][0] = rates[i][0]/normalization\n"
     ]
    },
    {
     "name": "stdout",
     "output_type": "stream",
     "text": [
      "47/117, Length: 75, Time: 0.1638, myCorrect(%): 0.56 RNAfoldCorrect(%): 0.72\n",
      "48/117, Length: 76, Time: 0.2128, myCorrect(%): 0.53 RNAfoldCorrect(%): 0.47\n",
      "49/117, Length: 74, Time: 0.3493, myCorrect(%): 0.65 RNAfoldCorrect(%): 0.64\n",
      "50/117, Length: 71, Time: 0.2204, myCorrect(%): 0.61 RNAfoldCorrect(%): 0.70\n",
      "51/117, Length: 73, Time: 0.0445, myCorrect(%): 0.53 RNAfoldCorrect(%): 0.64\n",
      "52/117, Length: 74, Time: 0.0153, myCorrect(%): 0.43 RNAfoldCorrect(%): 0.61\n",
      "53/117, Length: 71, Time: 0.0677, myCorrect(%): 0.52 RNAfoldCorrect(%): 0.72\n",
      "54/117, Length: 73, Time: 0.2023, myCorrect(%): 0.45 RNAfoldCorrect(%): 0.49\n",
      "55/117, Length: 74, Time: 0.0336, myCorrect(%): 0.54 RNAfoldCorrect(%): 0.64\n"
     ]
    },
    {
     "name": "stderr",
     "output_type": "stream",
     "text": [
      "/Users/harrisonlabollita/Arizona State University/Sulc group/src/kinetic_RNA/helperfunctions.py:207: RuntimeWarning: overflow encountered in exp\n",
      "  updateRates.append([np.exp(deltaS/kB), 1, trialIndex[i]])\n",
      "/Users/harrisonlabollita/Arizona State University/Sulc group/src/kinetic_RNA/helperfunctions.py:41: RuntimeWarning: invalid value encountered in double_scalars\n",
      "  rates[i][0] = rates[i][0]/normalization\n"
     ]
    },
    {
     "name": "stdout",
     "output_type": "stream",
     "text": [
      "56/117, Length: 73, Time: 134.3006, myCorrect(%): 0.37 RNAfoldCorrect(%): 0.62\n",
      "57/117, Length: 74, Time: 0.1464, myCorrect(%): 0.51 RNAfoldCorrect(%): 0.55\n",
      "58/117, Length: 71, Time: 0.0197, myCorrect(%): 0.46 RNAfoldCorrect(%): 0.72\n",
      "59/117, Length: 71, Time: 0.0991, myCorrect(%): 0.52 RNAfoldCorrect(%): 0.72\n",
      "60/117, Length: 76, Time: 0.0200, myCorrect(%): 0.53 RNAfoldCorrect(%): 0.59\n",
      "61/117, Length: 71, Time: 0.1838, myCorrect(%): 0.61 RNAfoldCorrect(%): 0.70\n"
     ]
    },
    {
     "name": "stderr",
     "output_type": "stream",
     "text": [
      "/Users/harrisonlabollita/Arizona State University/Sulc group/src/kinetic_RNA/helperfunctions.py:207: RuntimeWarning: overflow encountered in exp\n",
      "  updateRates.append([np.exp(deltaS/kB), 1, trialIndex[i]])\n",
      "/Users/harrisonlabollita/Arizona State University/Sulc group/src/kinetic_RNA/helperfunctions.py:41: RuntimeWarning: invalid value encountered in double_scalars\n",
      "  rates[i][0] = rates[i][0]/normalization\n"
     ]
    },
    {
     "name": "stdout",
     "output_type": "stream",
     "text": [
      "62/117, Length: 73, Time: 0.2314, myCorrect(%): 0.48 RNAfoldCorrect(%): 0.49\n"
     ]
    },
    {
     "name": "stderr",
     "output_type": "stream",
     "text": [
      "/Users/harrisonlabollita/Arizona State University/Sulc group/src/kinetic_RNA/helperfunctions.py:207: RuntimeWarning: overflow encountered in exp\n",
      "  updateRates.append([np.exp(deltaS/kB), 1, trialIndex[i]])\n",
      "/Users/harrisonlabollita/Arizona State University/Sulc group/src/kinetic_RNA/helperfunctions.py:41: RuntimeWarning: invalid value encountered in double_scalars\n",
      "  rates[i][0] = rates[i][0]/normalization\n"
     ]
    },
    {
     "name": "stdout",
     "output_type": "stream",
     "text": [
      "63/117, Length: 73, Time: 6.4911, myCorrect(%): 0.42 RNAfoldCorrect(%): 0.73\n"
     ]
    },
    {
     "name": "stderr",
     "output_type": "stream",
     "text": [
      "/Users/harrisonlabollita/Arizona State University/Sulc group/src/kinetic_RNA/helperfunctions.py:207: RuntimeWarning: overflow encountered in exp\n",
      "  updateRates.append([np.exp(deltaS/kB), 1, trialIndex[i]])\n",
      "/Users/harrisonlabollita/Arizona State University/Sulc group/src/kinetic_RNA/helperfunctions.py:41: RuntimeWarning: invalid value encountered in double_scalars\n",
      "  rates[i][0] = rates[i][0]/normalization\n",
      "/Users/harrisonlabollita/Arizona State University/Sulc group/src/kinetic_RNA/helperfunctions.py:207: RuntimeWarning: overflow encountered in exp\n",
      "  updateRates.append([np.exp(deltaS/kB), 1, trialIndex[i]])\n",
      "/Users/harrisonlabollita/Arizona State University/Sulc group/src/kinetic_RNA/helperfunctions.py:41: RuntimeWarning: invalid value encountered in double_scalars\n",
      "  rates[i][0] = rates[i][0]/normalization\n"
     ]
    },
    {
     "name": "stdout",
     "output_type": "stream",
     "text": [
      "64/117, Length: 77, Time: 9.2775, myCorrect(%): 0.61 RNAfoldCorrect(%): 0.51\n",
      "65/117, Length: 75, Time: 0.0436, myCorrect(%): 0.51 RNAfoldCorrect(%): 0.63\n",
      "66/117, Length: 73, Time: 0.0394, myCorrect(%): 0.51 RNAfoldCorrect(%): 0.74\n",
      "67/117, Length: 71, Time: 0.1592, myCorrect(%): 0.63 RNAfoldCorrect(%): 0.65\n",
      "68/117, Length: 72, Time: 0.0167, myCorrect(%): 0.39 RNAfoldCorrect(%): 0.75\n",
      "69/117, Length: 74, Time: 0.3427, myCorrect(%): 0.57 RNAfoldCorrect(%): 0.69\n",
      "70/117, Length: 77, Time: 0.2970, myCorrect(%): 0.71 RNAfoldCorrect(%): 0.74\n",
      "71/117, Length: 76, Time: 0.0291, myCorrect(%): 0.50 RNAfoldCorrect(%): 0.67\n",
      "72/117, Length: 73, Time: 0.0515, myCorrect(%): 0.51 RNAfoldCorrect(%): 0.53\n",
      "73/117, Length: 71, Time: 0.3501, myCorrect(%): 0.55 RNAfoldCorrect(%): 0.66\n",
      "74/117, Length: 74, Time: 2.3214, myCorrect(%): 0.68 RNAfoldCorrect(%): 0.59\n"
     ]
    },
    {
     "name": "stderr",
     "output_type": "stream",
     "text": [
      "/Users/harrisonlabollita/Arizona State University/Sulc group/src/kinetic_RNA/helperfunctions.py:207: RuntimeWarning: overflow encountered in exp\n",
      "  updateRates.append([np.exp(deltaS/kB), 1, trialIndex[i]])\n",
      "/Users/harrisonlabollita/Arizona State University/Sulc group/src/kinetic_RNA/helperfunctions.py:41: RuntimeWarning: invalid value encountered in double_scalars\n",
      "  rates[i][0] = rates[i][0]/normalization\n"
     ]
    },
    {
     "name": "stdout",
     "output_type": "stream",
     "text": [
      "75/117, Length: 77, Time: 0.2793, myCorrect(%): 0.56 RNAfoldCorrect(%): 0.62\n",
      "76/117, Length: 74, Time: 0.0178, myCorrect(%): 0.51 RNAfoldCorrect(%): 0.65\n",
      "77/117, Length: 71, Time: 0.3765, myCorrect(%): 0.55 RNAfoldCorrect(%): 0.66\n",
      "78/117, Length: 71, Time: 0.0163, myCorrect(%): 0.38 RNAfoldCorrect(%): 0.69\n",
      "79/117, Length: 73, Time: 0.1070, myCorrect(%): 0.56 RNAfoldCorrect(%): 0.66\n",
      "80/117, Length: 73, Time: 0.0407, myCorrect(%): 0.42 RNAfoldCorrect(%): 0.60\n",
      "81/117, Length: 75, Time: 0.0616, myCorrect(%): 0.49 RNAfoldCorrect(%): 0.65\n"
     ]
    },
    {
     "name": "stderr",
     "output_type": "stream",
     "text": [
      "/Users/harrisonlabollita/Arizona State University/Sulc group/src/kinetic_RNA/helperfunctions.py:207: RuntimeWarning: overflow encountered in exp\n",
      "  updateRates.append([np.exp(deltaS/kB), 1, trialIndex[i]])\n",
      "/Users/harrisonlabollita/Arizona State University/Sulc group/src/kinetic_RNA/helperfunctions.py:41: RuntimeWarning: invalid value encountered in double_scalars\n",
      "  rates[i][0] = rates[i][0]/normalization\n"
     ]
    },
    {
     "name": "stdout",
     "output_type": "stream",
     "text": [
      "82/117, Length: 74, Time: 11.7921, myCorrect(%): 0.62 RNAfoldCorrect(%): 0.69\n",
      "83/117, Length: 72, Time: 0.0186, myCorrect(%): 0.42 RNAfoldCorrect(%): 0.62\n",
      "84/117, Length: 78, Time: 0.0296, myCorrect(%): 0.46 RNAfoldCorrect(%): 0.67\n",
      "85/117, Length: 73, Time: 179.0611, myCorrect(%): 0.62 RNAfoldCorrect(%): 0.62\n",
      "86/117, Length: 72, Time: 0.0815, myCorrect(%): 0.46 RNAfoldCorrect(%): 0.65\n",
      "87/117, Length: 76, Time: 0.0235, myCorrect(%): 0.49 RNAfoldCorrect(%): 0.70\n",
      "88/117, Length: 73, Time: 0.0511, myCorrect(%): 0.51 RNAfoldCorrect(%): 0.53\n",
      "89/117, Length: 75, Time: 0.0415, myCorrect(%): 0.51 RNAfoldCorrect(%): 0.63\n"
     ]
    },
    {
     "name": "stderr",
     "output_type": "stream",
     "text": [
      "/Users/harrisonlabollita/Arizona State University/Sulc group/src/kinetic_RNA/helperfunctions.py:207: RuntimeWarning: overflow encountered in exp\n",
      "  updateRates.append([np.exp(deltaS/kB), 1, trialIndex[i]])\n",
      "/Users/harrisonlabollita/Arizona State University/Sulc group/src/kinetic_RNA/helperfunctions.py:41: RuntimeWarning: invalid value encountered in double_scalars\n",
      "  rates[i][0] = rates[i][0]/normalization\n",
      "/Users/harrisonlabollita/Arizona State University/Sulc group/src/kinetic_RNA/helperfunctions.py:207: RuntimeWarning: overflow encountered in exp\n",
      "  updateRates.append([np.exp(deltaS/kB), 1, trialIndex[i]])\n",
      "/Users/harrisonlabollita/Arizona State University/Sulc group/src/kinetic_RNA/helperfunctions.py:41: RuntimeWarning: invalid value encountered in double_scalars\n",
      "  rates[i][0] = rates[i][0]/normalization\n"
     ]
    },
    {
     "name": "stdout",
     "output_type": "stream",
     "text": [
      "90/117, Length: 72, Time: 0.0378, myCorrect(%): 0.53 RNAfoldCorrect(%): 0.72\n",
      "91/117, Length: 73, Time: 0.0304, myCorrect(%): 0.53 RNAfoldCorrect(%): 0.60\n",
      "92/117, Length: 77, Time: 0.2148, myCorrect(%): 0.66 RNAfoldCorrect(%): 0.68\n",
      "93/117, Length: 74, Time: 2.2228, myCorrect(%): 0.73 RNAfoldCorrect(%): 0.59\n",
      "94/117, Length: 76, Time: 0.0542, myCorrect(%): 0.55 RNAfoldCorrect(%): 0.71\n",
      "95/117, Length: 74, Time: 0.0169, myCorrect(%): 0.43 RNAfoldCorrect(%): 0.62\n",
      "96/117, Length: 74, Time: 0.1875, myCorrect(%): 0.42 RNAfoldCorrect(%): 0.58\n"
     ]
    },
    {
     "name": "stderr",
     "output_type": "stream",
     "text": [
      "/Users/harrisonlabollita/Arizona State University/Sulc group/src/kinetic_RNA/helperfunctions.py:207: RuntimeWarning: overflow encountered in exp\n",
      "  updateRates.append([np.exp(deltaS/kB), 1, trialIndex[i]])\n",
      "/Users/harrisonlabollita/Arizona State University/Sulc group/src/kinetic_RNA/helperfunctions.py:41: RuntimeWarning: invalid value encountered in double_scalars\n",
      "  rates[i][0] = rates[i][0]/normalization\n"
     ]
    },
    {
     "name": "stdout",
     "output_type": "stream",
     "text": [
      "97/117, Length: 75, Time: 8.8258, myCorrect(%): 0.59 RNAfoldCorrect(%): 0.68\n"
     ]
    },
    {
     "name": "stderr",
     "output_type": "stream",
     "text": [
      "/Users/harrisonlabollita/Arizona State University/Sulc group/src/kinetic_RNA/helperfunctions.py:207: RuntimeWarning: overflow encountered in exp\n",
      "  updateRates.append([np.exp(deltaS/kB), 1, trialIndex[i]])\n",
      "/Users/harrisonlabollita/Arizona State University/Sulc group/src/kinetic_RNA/helperfunctions.py:41: RuntimeWarning: invalid value encountered in double_scalars\n",
      "  rates[i][0] = rates[i][0]/normalization\n"
     ]
    },
    {
     "name": "stdout",
     "output_type": "stream",
     "text": [
      "98/117, Length: 77, Time: 156.3280, myCorrect(%): 0.64 RNAfoldCorrect(%): 0.58\n",
      "99/117, Length: 74, Time: 0.1891, myCorrect(%): 0.55 RNAfoldCorrect(%): 0.58\n",
      "100/117, Length: 74, Time: 0.0373, myCorrect(%): 0.49 RNAfoldCorrect(%): 0.62\n"
     ]
    },
    {
     "name": "stderr",
     "output_type": "stream",
     "text": [
      "/Users/harrisonlabollita/Arizona State University/Sulc group/src/kinetic_RNA/helperfunctions.py:207: RuntimeWarning: overflow encountered in exp\n",
      "  updateRates.append([np.exp(deltaS/kB), 1, trialIndex[i]])\n",
      "/Users/harrisonlabollita/Arizona State University/Sulc group/src/kinetic_RNA/helperfunctions.py:41: RuntimeWarning: invalid value encountered in double_scalars\n",
      "  rates[i][0] = rates[i][0]/normalization\n"
     ]
    },
    {
     "name": "stdout",
     "output_type": "stream",
     "text": [
      "101/117, Length: 76, Time: 1.2800, myCorrect(%): 0.61 RNAfoldCorrect(%): 0.57\n",
      "102/117, Length: 73, Time: 0.0377, myCorrect(%): 0.42 RNAfoldCorrect(%): 0.49\n",
      "103/117, Length: 77, Time: 0.2655, myCorrect(%): 0.53 RNAfoldCorrect(%): 0.58\n",
      "104/117, Length: 72, Time: 0.0368, myCorrect(%): 0.42 RNAfoldCorrect(%): 0.72\n",
      "105/117, Length: 74, Time: 0.0352, myCorrect(%): 0.57 RNAfoldCorrect(%): 0.50\n",
      "106/117, Length: 76, Time: 0.0213, myCorrect(%): 0.53 RNAfoldCorrect(%): 0.63\n",
      "107/117, Length: 73, Time: 0.1810, myCorrect(%): 0.47 RNAfoldCorrect(%): 0.74\n",
      "108/117, Length: 72, Time: 0.0221, myCorrect(%): 0.42 RNAfoldCorrect(%): 0.74\n"
     ]
    },
    {
     "name": "stderr",
     "output_type": "stream",
     "text": [
      "/Users/harrisonlabollita/Arizona State University/Sulc group/src/kinetic_RNA/helperfunctions.py:207: RuntimeWarning: overflow encountered in exp\n",
      "  updateRates.append([np.exp(deltaS/kB), 1, trialIndex[i]])\n",
      "/Users/harrisonlabollita/Arizona State University/Sulc group/src/kinetic_RNA/helperfunctions.py:41: RuntimeWarning: invalid value encountered in double_scalars\n",
      "  rates[i][0] = rates[i][0]/normalization\n"
     ]
    },
    {
     "name": "stdout",
     "output_type": "stream",
     "text": [
      "109/117, Length: 74, Time: 32.9506, myCorrect(%): 0.68 RNAfoldCorrect(%): 0.61\n",
      "110/117, Length: 74, Time: 0.4078, myCorrect(%): 0.64 RNAfoldCorrect(%): 0.73\n",
      "111/117, Length: 77, Time: 0.0450, myCorrect(%): 0.53 RNAfoldCorrect(%): 0.61\n",
      "112/117, Length: 76, Time: 0.0844, myCorrect(%): 0.53 RNAfoldCorrect(%): 0.51\n",
      "113/117, Length: 74, Time: 0.0366, myCorrect(%): 0.57 RNAfoldCorrect(%): 0.50\n",
      "114/117, Length: 74, Time: 0.4108, myCorrect(%): 0.59 RNAfoldCorrect(%): 0.61\n",
      "115/117, Length: 76, Time: 0.0316, myCorrect(%): 0.55 RNAfoldCorrect(%): 0.63\n",
      "116/117, Length: 77, Time: 0.0260, myCorrect(%): 0.53 RNAfoldCorrect(%): 0.56\n",
      "117/117, Length: 73, Time: 0.0186, myCorrect(%): 0.47 RNAfoldCorrect(%): 0.74\n"
     ]
    },
    {
     "name": "stderr",
     "output_type": "stream",
     "text": [
      "/Users/harrisonlabollita/Arizona State University/Sulc group/src/kinetic_RNA/helperfunctions.py:207: RuntimeWarning: overflow encountered in exp\n",
      "  updateRates.append([np.exp(deltaS/kB), 1, trialIndex[i]])\n",
      "/Users/harrisonlabollita/Arizona State University/Sulc group/src/kinetic_RNA/helperfunctions.py:41: RuntimeWarning: invalid value encountered in double_scalars\n",
      "  rates[i][0] = rates[i][0]/normalization\n"
     ]
    }
   ],
   "source": [
    "total_misses = []\n",
    "rna_misses = []\n",
    "for i in range(len(sequences)):\n",
    "    seq = sequences[i]\n",
    "    dot = dotbrackets[i]\n",
    "    rnafold = viennaRNA[i]\n",
    "    start = time.time()\n",
    "    G = GILLESPIE.Gillespie(seq, [], maxTime = 5, toPrint = False, initTime = False)\n",
    "    structure = myReplace(G.runGillespie())\n",
    "    mistakes = compareStructs(structure, dot)\n",
    "    rna_mistake = compareStructs(rnafold, dot)\n",
    "    rna_mistake /= len(seq)\n",
    "    mistakes /= len(seq)\n",
    "    total_misses.append(mistakes)\n",
    "    rna_misses.append(rna_mistake)\n",
    "    stop = time.time()\n",
    "    print('{}/{}, Length: {}, Time: {:0.4f}, myCorrect(%): {:0.2f} RNAfoldCorrect(%): {:0.2f}'.format(i+1, len(sequences), len(seq), abs(stop-start), 1-mistakes, 1-rna_mistake))"
   ]
  },
  {
   "cell_type": "code",
   "execution_count": 49,
   "metadata": {},
   "outputs": [
    {
     "name": "stdout",
     "output_type": "stream",
     "text": [
      "myMean: 0.5177179161150155\n",
      "myMax: 0.7297297297297297\n",
      "myMin: 0.36986301369863017\n",
      "rnaMean: 0.6253826357970707\n",
      "rnaMax: 0.75\n",
      "rnaMin: 0.472972972972973\n"
     ]
    }
   ],
   "source": [
    "print('myMean:', 1- np.mean(total_misses))\n",
    "print('myMax:', 1-np.min(total_misses))\n",
    "print('myMin:', 1-np.max(total_misses))\n",
    "print('rnaMean:', 1-np.mean(rna_misses))\n",
    "print('rnaMax:', 1-np.min(rna_misses))\n",
    "print('rnaMin:', 1-np.max(rna_misses))"
   ]
  },
  {
   "cell_type": "markdown",
   "metadata": {},
   "source": [
    "# Results\n",
    "|**Stats** | **myFolder** | **ViennaRNA** |\n",
    "|:--------:|:------------:|:-------------:|\n",
    "| Mean     |    0.52      |        0.63   |  \n",
    "| Best     |      0.73    |     0.75      |\n",
    "| Worst    |      0.37    |      0.47     |"
   ]
  },
  {
   "cell_type": "markdown",
   "metadata": {},
   "source": [
    "# myFolder Results"
   ]
  },
  {
   "cell_type": "code",
   "execution_count": 50,
   "metadata": {},
   "outputs": [
    {
     "data": {
      "image/png": "[encoded data removed]",
      "text/plain": [
       "<Figure size 432x288 with 1 Axes>"
      ]
     },
     "metadata": {
      "needs_background": "light"
     },
     "output_type": "display_data"
    }
   ],
   "source": [
    "myCorrect = [1 - total_misses[i] for i in range(len(total_misses))]\n",
    "plt.figure()\n",
    "plt.title('Kinetic Folder', fontsize = 20)\n",
    "plt.xlabel('Percentage Correct', fontsize = 15)\n",
    "plt.ylabel('Frequency', fontsize = 15)\n",
    "plt.grid(True, linestyle = ':', linewidth = 1)\n",
    "plt.hist(myCorrect, bins = 25, density = True, histtype = 'bar', rwidth = 0.9, color = 'black',linewidth = 2)\n",
    "plt.savefig('myfolder.eps', format = 'eps')"
   ]
  },
  {
   "cell_type": "markdown",
   "metadata": {},
   "source": [
    "# ViennaRNA Results"
   ]
  },
  {
   "cell_type": "code",
   "execution_count": 52,
   "metadata": {},
   "outputs": [
    {
     "data": {
      "image/png": "[encoded data removed]",
      "text/plain": [
       "<Figure size 432x288 with 1 Axes>"
      ]
     },
     "metadata": {
      "needs_background": "light"
     },
     "output_type": "display_data"
    }
   ],
   "source": [
    "rnaCorrect = [1- rna_misses[i] for i in range(len(rna_misses))]\n",
    "plt.figure()\n",
    "plt.title('ViennaRNA Folder', fontsize = 20)\n",
    "plt.xlabel('Percentage Correct', fontsize = 15)\n",
    "plt.ylabel('Frequency', fontsize = 15)\n",
    "plt.grid(True, linestyle = ':', linewidth = 1)\n",
    "plt.hist(rnaCorrect, bins = 25, density = True, histtype = 'bar', rwidth = 0.9, color = 'black',linewidth = 2)\n",
    "plt.savefig('viennarna.eps', format = 'eps')"
   ]
  },
  {
   "cell_type": "markdown",
   "metadata": {},
   "source": [
    "## Pseudoknotted Dataset\n",
    "\n",
    "### Parameters\n",
    "**Dataset**: bad_seq\n",
    "\n",
    "**Seq. Length**: <\n",
    "\n",
    "**minBPinStem**: 3"
   ]
  },
  {
   "cell_type": "code",
   "execution_count": 3,
   "metadata": {},
   "outputs": [
    {
     "name": "stdout",
     "output_type": "stream",
     "text": [
      "Mean length: 29.3 ntds\n",
      "Max length: 37 ntds\n",
      "Min length: 21 ntds\n",
      "Dataset length: 15\n"
     ]
    }
   ],
   "source": [
    "seq_file = '/Users/harrisonlabollita/Arizona State University/Sulc group/data_set/src.txt'\n",
    "dot_file = '/Users/harrisonlabollita/Arizona State University/Sulc group/data_set/tgt.txt'\n",
    "rna_fold_file = '/Users/harrisonlabollita/Arizona State University/Sulc group/data_set/RNA_tgt.txt'\n",
    "sequences = []\n",
    "brackets = []\n",
    "rnaFold = []\n",
    "with open(seq_file, 'r') as file:\n",
    "    for line in file:\n",
    "        sequences.append(line.rstrip())\n",
    "with open(dot_file, 'r') as file:\n",
    "    for line in file:\n",
    "        brackets.append(line.rstrip())\n",
    "with open(rna_fold_file, 'r') as file:\n",
    "    for line in file:\n",
    "            rnaFold.append(line.rstrip())\n",
    "seqLength = [len(seq) for seq in sequences]\n",
    "print('Mean length: %0.1f ntds' %(np.mean(seqLength)))\n",
    "print('Max length: %d ntds' %(np.max(seqLength)))\n",
    "print('Min length: %d ntds' %(np.min(seqLength)))\n",
    "print('Dataset length:', len(sequences))"
   ]
  },
  {
   "cell_type": "markdown",
   "metadata": {},
   "source": [
    "# Results for Pseudoknotted structures"
   ]
  },
  {
   "cell_type": "code",
   "execution_count": 43,
   "metadata": {},
   "outputs": [
    {
     "name": "stderr",
     "output_type": "stream",
     "text": [
      "/Users/harrisonlabollita/Arizona State University/Sulc group/src/kinetic_RNA/helperfunctions.py:207: RuntimeWarning: overflow encountered in exp\n",
      "  updateRates.append([np.exp(deltaS/kB), 1, trialIndex[i]])\n",
      "/Users/harrisonlabollita/Arizona State University/Sulc group/src/kinetic_RNA/helperfunctions.py:41: RuntimeWarning: invalid value encountered in double_scalars\n",
      "  rates[i][0] = rates[i][0]/normalization\n"
     ]
    },
    {
     "name": "stdout",
     "output_type": "stream",
     "text": [
      "1/15, Length: 37, Time: 0.1892, myCorrect(%): 0.70 RNAfoldCorrect(%): 0.68\n",
      "Actual: .......(((((..((((..)))))....))))....\n",
      "myFolder: .......(((....((()))..........)))....\n",
      "rnaFold: ...........((.((((...........)))).)).\n",
      "2/15, Length: 26, Time: 0.0380, myCorrect(%): 0.77 RNAfoldCorrect(%): 0.77\n",
      "Actual: (((....((((()))......)))))\n",
      "myFolder: .......(((((.........)))))\n",
      "rnaFold: .......(((((.........)))))\n",
      "3/15, Length: 26, Time: 0.0503, myCorrect(%): 0.42 RNAfoldCorrect(%): 0.65\n",
      "Actual: .(((..(((((.))).....))))).\n",
      "myFolder: ..............(((.....))).\n",
      "rnaFold: ......(((((((....)).))))).\n"
     ]
    },
    {
     "name": "stderr",
     "output_type": "stream",
     "text": [
      "/Users/harrisonlabollita/Arizona State University/Sulc group/src/kinetic_RNA/helperfunctions.py:207: RuntimeWarning: overflow encountered in exp\n",
      "  updateRates.append([np.exp(deltaS/kB), 1, trialIndex[i]])\n",
      "/Users/harrisonlabollita/Arizona State University/Sulc group/src/kinetic_RNA/helperfunctions.py:41: RuntimeWarning: invalid value encountered in double_scalars\n",
      "  rates[i][0] = rates[i][0]/normalization\n"
     ]
    },
    {
     "name": "stdout",
     "output_type": "stream",
     "text": [
      "4/15, Length: 31, Time: 0.7644, myCorrect(%): 0.48 RNAfoldCorrect(%): 0.58\n",
      "Actual: .(((((.(((((()))))......)))))).\n",
      "myFolder: .....(((((((........)))..))))..\n",
      "rnaFold: .((((((.....)))))).............\n"
     ]
    },
    {
     "name": "stderr",
     "output_type": "stream",
     "text": [
      "/Users/harrisonlabollita/Arizona State University/Sulc group/src/kinetic_RNA/helperfunctions.py:207: RuntimeWarning: overflow encountered in exp\n",
      "  updateRates.append([np.exp(deltaS/kB), 1, trialIndex[i]])\n",
      "/Users/harrisonlabollita/Arizona State University/Sulc group/src/kinetic_RNA/helperfunctions.py:41: RuntimeWarning: invalid value encountered in double_scalars\n",
      "  rates[i][0] = rates[i][0]/normalization\n"
     ]
    },
    {
     "name": "stdout",
     "output_type": "stream",
     "text": [
      "5/15, Length: 33, Time: 0.7949, myCorrect(%): 0.58 RNAfoldCorrect(%): 0.64\n",
      "Actual: ..(((((..(((((()))))......)))))).\n",
      "myFolder: .....(((..(((....)))..........)))\n",
      "rnaFold: ........(((((((...........)))))))\n"
     ]
    },
    {
     "name": "stderr",
     "output_type": "stream",
     "text": [
      "/Users/harrisonlabollita/Arizona State University/Sulc group/src/kinetic_RNA/helperfunctions.py:207: RuntimeWarning: overflow encountered in exp\n",
      "  updateRates.append([np.exp(deltaS/kB), 1, trialIndex[i]])\n",
      "/Users/harrisonlabollita/Arizona State University/Sulc group/src/kinetic_RNA/helperfunctions.py:41: RuntimeWarning: invalid value encountered in double_scalars\n",
      "  rates[i][0] = rates[i][0]/normalization\n"
     ]
    },
    {
     "name": "stdout",
     "output_type": "stream",
     "text": [
      "6/15, Length: 37, Time: 3.5784, myCorrect(%): 0.46 RNAfoldCorrect(%): 0.68\n",
      "Actual: .......(((((..(((((()))))...))))))...\n",
      "myFolder: ....((((((...))).....))).............\n",
      "rnaFold: (((....(((((........))))).....)))....\n",
      "7/15, Length: 24, Time: 0.1647, myCorrect(%): 0.71 RNAfoldCorrect(%): 0.75\n",
      "Actual: .(((.(((((()))...)))))).\n",
      "myFolder: ..(((((((.)))......)))).\n",
      "rnaFold: .....((((((......)))))).\n",
      "8/15, Length: 26, Time: 0.2491, myCorrect(%): 0.54 RNAfoldCorrect(%): 0.77\n",
      "Actual: .(((.((((((()))...))))))).\n",
      "myFolder: ((((.((())))..........))).\n",
      "rnaFold: .....(((((((......))))))).\n",
      "9/15, Length: 21, Time: 0.0672, myCorrect(%): 0.67 RNAfoldCorrect(%): 0.38\n",
      "Actual: .((((((..((())))).))).\n",
      "myFolder: .((((...(((.)))).))).\n",
      "rnaFold: ........((((....)))).\n"
     ]
    },
    {
     "name": "stderr",
     "output_type": "stream",
     "text": [
      "/Users/harrisonlabollita/Arizona State University/Sulc group/src/kinetic_RNA/helperfunctions.py:207: RuntimeWarning: overflow encountered in exp\n",
      "  updateRates.append([np.exp(deltaS/kB), 1, trialIndex[i]])\n",
      "/Users/harrisonlabollita/Arizona State University/Sulc group/src/kinetic_RNA/helperfunctions.py:41: RuntimeWarning: invalid value encountered in double_scalars\n",
      "  rates[i][0] = rates[i][0]/normalization\n"
     ]
    },
    {
     "name": "stdout",
     "output_type": "stream",
     "text": [
      "10/15, Length: 30, Time: 0.7779, myCorrect(%): 0.60 RNAfoldCorrect(%): 0.70\n",
      "Actual: ((((.....((((())))......).))))\n",
      "myFolder: (((...((((.....)))......))))..\n",
      "rnaFold: .........((((.(.........).))))\n",
      "11/15, Length: 26, Time: 0.1088, myCorrect(%): 0.35 RNAfoldCorrect(%): 0.62\n",
      "Actual: .(((((.((((()))))..)))))..\n",
      "myFolder: .............(((....)))...\n",
      "rnaFold: .(((((......))))).........\n"
     ]
    },
    {
     "name": "stderr",
     "output_type": "stream",
     "text": [
      "/Users/harrisonlabollita/Arizona State University/Sulc group/src/kinetic_RNA/helperfunctions.py:207: RuntimeWarning: overflow encountered in exp\n",
      "  updateRates.append([np.exp(deltaS/kB), 1, trialIndex[i]])\n",
      "/Users/harrisonlabollita/Arizona State University/Sulc group/src/kinetic_RNA/helperfunctions.py:41: RuntimeWarning: invalid value encountered in double_scalars\n",
      "  rates[i][0] = rates[i][0]/normalization\n"
     ]
    },
    {
     "name": "stdout",
     "output_type": "stream",
     "text": [
      "12/15, Length: 33, Time: 0.7996, myCorrect(%): 0.52 RNAfoldCorrect(%): 0.73\n",
      "Actual: .((((.....((((())))......).))))..\n",
      "myFolder: ...........((((......(((..)))))))\n",
      "rnaFold: ..........((((((.........))))))..\n",
      "13/15, Length: 33, Time: 0.8087, myCorrect(%): 0.45 RNAfoldCorrect(%): 0.67\n",
      "Actual: .(((((.((((((())))).......)))))))\n",
      "myFolder: .(((............)))..............\n",
      "rnaFold: .......(((((((.(........).)))))))\n",
      "14/15, Length: 28, Time: 0.1981, myCorrect(%): 0.93 RNAfoldCorrect(%): 0.57\n",
      "Actual: .((((..(((()))).....))))....\n",
      "myFolder: .((((.((((.)))).....))))....\n",
      "rnaFold: .....((((((.........))))))..\n",
      "15/15, Length: 29, Time: 0.2428, myCorrect(%): 0.48 RNAfoldCorrect(%): 0.52\n",
      "Actual: .(((....((((()))..)))))......\n",
      "myFolder: ...........(((........)))....\n",
      "rnaFold: ....(((((((((.....))))).)))).\n"
     ]
    }
   ],
   "source": [
    "total_misses = []\n",
    "rna_misses = []\n",
    "for i in range(len(sequences)):\n",
    "    seq = sequences[i]\n",
    "    dot = brackets[i]\n",
    "    rnafold = rnaFold[i]\n",
    "    start = time.time()\n",
    "    G = GILLESPIE.Gillespie(seq, [], maxTime = 5, toPrint = False, initTime = False)\n",
    "    structure = myReplace((G.runGillespie()))\n",
    "    mistakes = compareStructs(structure, dot)\n",
    "    rna_mistake = compareStructs(rnafold, dot)\n",
    "    rna_mistake /= len(seq)\n",
    "    mistakes /= len(seq)\n",
    "    total_misses.append(mistakes)\n",
    "    rna_misses.append(rna_mistake)\n",
    "    stop = time.time()\n",
    "    print('{}/{}, Length: {}, Time: {:0.4f}, myCorrect(%): {:0.2f} RNAfoldCorrect(%): {:0.2f}'.format(i+1, len(sequences), len(seq), abs(stop-start), 1-mistakes, 1-rna_mistake))\n",
    "    print('Actual:', dot)\n",
    "    print('myFolder:',structure)\n",
    "    print('rnaFold:', rnafold)"
   ]
  },
  {
   "cell_type": "code",
   "execution_count": 44,
   "metadata": {},
   "outputs": [
    {
     "name": "stdout",
     "output_type": "stream",
     "text": [
      "myMean: 0.5769827201028537\n",
      "myMax: 0.9285714285714286\n",
      "myMin: 0.34615384615384615\n",
      "rnaMean: 0.6459742788218873\n",
      "rnaMax: 0.7692307692307692\n",
      "rnaMin: 0.38095238095238093\n"
     ]
    }
   ],
   "source": [
    "print('myMean:', 1- np.mean(total_misses))\n",
    "print('myMax:', 1-np.min(total_misses))\n",
    "print('myMin:', 1-np.max(total_misses))\n",
    "print('rnaMean:', 1-np.mean(rna_misses))\n",
    "print('rnaMax:', 1-np.min(rna_misses))\n",
    "print('rnaMin:', 1-np.max(rna_misses))"
   ]
  },
  {
   "cell_type": "markdown",
   "metadata": {},
   "source": [
    "# myFolder Results"
   ]
  },
  {
   "cell_type": "code",
   "execution_count": 45,
   "metadata": {},
   "outputs": [
    {
     "data": {
      "image/png": "[encoded data removed]",
      "text/plain": [
       "<Figure size 432x288 with 1 Axes>"
      ]
     },
     "metadata": {
      "needs_background": "light"
     },
     "output_type": "display_data"
    }
   ],
   "source": [
    "myCorrect = [1 - total_misses[i] for i in range(len(total_misses))]\n",
    "plt.figure()\n",
    "plt.title('Kinetic Folder', fontsize = 20)\n",
    "plt.xlabel('Percentage Correct', fontsize = 15)\n",
    "plt.ylabel('Frequency', fontsize = 15)\n",
    "plt.grid(True, linestyle = ':', linewidth = 1)\n",
    "plt.hist(myCorrect, bins = 25, density = True, histtype = 'bar', rwidth = 0.9, color = 'black',linewidth = 2)\n",
    "plt.savefig('myfolder_pseudo.eps', format = 'eps')"
   ]
  },
  {
   "cell_type": "markdown",
   "metadata": {},
   "source": [
    "# Vienna RNA Results"
   ]
  },
  {
   "cell_type": "code",
   "execution_count": 46,
   "metadata": {},
   "outputs": [
    {
     "data": {
      "image/png": "[encoded data removed]",
      "text/plain": [
       "<Figure size 432x288 with 1 Axes>"
      ]
     },
     "metadata": {
      "needs_background": "light"
     },
     "output_type": "display_data"
    }
   ],
   "source": [
    "rnaCorrect = [1 - rna_misses[i] for i in range(len(rna_misses))]\n",
    "plt.figure()\n",
    "plt.title('ViennaRNA Folder', fontsize = 20)\n",
    "plt.xlabel('Percentage Correct', fontsize = 15)\n",
    "plt.ylabel('Frequency', fontsize = 15)\n",
    "plt.grid(True, linestyle = ':', linewidth = 1)\n",
    "plt.hist(rnaCorrect, bins = 25, density = True, histtype = 'bar', rwidth = 0.9, color = 'black',linewidth = 2)\n",
    "plt.savefig('viennarna_pseudo.eps', format = 'eps')"
   ]
  },
  {
   "cell_type": "code",
   "execution_count": null,
   "metadata": {},
   "outputs": [],
   "source": []
  }
 ],
 "metadata": {
  "kernelspec": {
   "display_name": "Python 3",
   "language": "python",
   "name": "python3"
  },
  "language_info": {
   "codemirror_mode": {
    "name": "ipython",
    "version": 3
   },
   "file_extension": ".py",
   "mimetype": "text/x-python",
   "name": "python",
   "nbconvert_exporter": "python",
   "pygments_lexer": "ipython3",
   "version": "3.8.1"
  }
 },
 "nbformat": 4,
 "nbformat_minor": 4
}
