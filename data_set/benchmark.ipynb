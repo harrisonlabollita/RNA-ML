{
 "cells": [
  {
   "cell_type": "markdown",
   "metadata": {},
   "source": [
    "# Benchmark RNA folder\n",
    "\n",
    "Benchmarking my RNA folder compared to ViennaRNA. \n",
    "\n",
    "## Parameters\n",
    "**Dataset**: bad_seq\n",
    "\n",
    "**Seq. Length**: < 80 ntds\n",
    "\n",
    "**minBPinStem**: 3"
   ]
  },
  {
   "cell_type": "code",
   "execution_count": 21,
   "metadata": {},
   "outputs": [],
   "source": [
    "import numpy as np\n",
    "import os, sys, glob\n",
    "import matplotlib.pyplot as plt\n",
    "sys.path.append('/Users/harrisonlabollita/Arizona State University/Sulc group/src/kinetic_RNA/')\n",
    "import gillespie as GILLESPIE\n",
    "import time\n",
    "import matplotlib.pyplot as plt \n",
    "import matplotlib\n",
    "matplotlib.rc('text', usetex = True)\n",
    "matplotlib.rc('font', **{'family':'serif', 'serif':['Computer Modern Roman, Times']})"
   ]
  },
  {
   "cell_type": "code",
   "execution_count": 2,
   "metadata": {},
   "outputs": [],
   "source": [
    "def str_append(s):\n",
    "    output = ''\n",
    "    output += s\n",
    "    return output\n",
    "\n",
    "def readFile(file):\n",
    "    f = open(file, 'r')\n",
    "    for i, line in enumerate(f):\n",
    "        if i == 1:\n",
    "            seq = line.rstrip()\n",
    "        if i == 2:\n",
    "            dots = line.split(' ')[1]\n",
    "            dots.rstrip()\n",
    "        if i == 3:\n",
    "            rnafold = line.split(' ')[1]\n",
    "            rnafold.rstrip()\n",
    "    return seq, dots, rnafold\n",
    "\n",
    "def compareStructs(pred, answer):\n",
    "    count = 0\n",
    "    for i in range(len(pred)):\n",
    "        if pred[i] != answer[i]:\n",
    "            count +=1\n",
    "    return count\n",
    "\n",
    "def switchRep(structure):\n",
    "    structure.replace('[', '(')\n",
    "    structure.replace(']', ')')\n",
    "    return structure\n",
    "\n",
    "def getData(length, files):\n",
    "    sequences = []\n",
    "    brackets = []\n",
    "    viennaRNA = []\n",
    "    for file in files:\n",
    "        seq, dot, rnafold = readFile(file)\n",
    "        if len(seq) <= length:\n",
    "            sequences.append(seq)\n",
    "            brackets.append(dot)\n",
    "            viennaRNA.append(rnafold)\n",
    "    return sequences, brackets, viennaRNA"
   ]
  },
  {
   "cell_type": "code",
   "execution_count": 9,
   "metadata": {},
   "outputs": [
    {
     "name": "stdout",
     "output_type": "stream",
     "text": [
      "Length of dataset: 117\n",
      "Mean Length: 73\n",
      "Max Length: 78\n",
      "Min Length: 71\n"
     ]
    }
   ],
   "source": [
    "seq_files = glob.glob('/Users/harrisonlabollita/Arizona State University/Sulc group/data_set/bad_seq/*')\n",
    "sequences, dotbrackets, viennaRNA = getData(80, seq_files)\n",
    "seqLength = [len(seq) for seq in sequences]\n",
    "print('Length of dataset: %d' %(len(sequences)))\n",
    "print('Mean Length: %d' %(np.mean(seqLength)))\n",
    "print('Max Length: %d' %(np.max(seqLength)))\n",
    "print('Min Length: %d' %(np.min(seqLength)))"
   ]
  },
  {
   "cell_type": "code",
   "execution_count": 10,
   "metadata": {},
   "outputs": [
    {
     "name": "stderr",
     "output_type": "stream",
     "text": [
      "/Users/harrisonlabollita/Arizona State University/Sulc group/src/kinetic_RNA/helperfunctions.py:207: RuntimeWarning: overflow encountered in exp\n",
      "  updateRates.append([np.exp(deltaS/kB), 1, trialIndex[i]])\n",
      "/Users/harrisonlabollita/Arizona State University/Sulc group/src/kinetic_RNA/helperfunctions.py:41: RuntimeWarning: invalid value encountered in double_scalars\n",
      "  rates[i][0] = rates[i][0]/normalization\n"
     ]
    },
    {
     "name": "stdout",
     "output_type": "stream",
     "text": [
      "1/117, Length: 73, Time: 0.0430, myCorrect(%): 0.53 RNAfoldCorrect(%): 0.52\n",
      "2/117, Length: 73, Time: 0.0191, myCorrect(%): 0.47 RNAfoldCorrect(%): 0.74\n",
      "3/117, Length: 78, Time: 0.1034, myCorrect(%): 0.41 RNAfoldCorrect(%): 0.64\n",
      "4/117, Length: 76, Time: 0.0190, myCorrect(%): 0.47 RNAfoldCorrect(%): 0.70\n",
      "5/117, Length: 72, Time: 0.0184, myCorrect(%): 0.50 RNAfoldCorrect(%): 0.51\n",
      "6/117, Length: 77, Time: 0.0346, myCorrect(%): 0.51 RNAfoldCorrect(%): 0.65\n",
      "7/117, Length: 72, Time: 0.0209, myCorrect(%): 0.50 RNAfoldCorrect(%): 0.64\n",
      "8/117, Length: 73, Time: 0.0327, myCorrect(%): 0.45 RNAfoldCorrect(%): 0.60\n",
      "9/117, Length: 72, Time: 0.0192, myCorrect(%): 0.47 RNAfoldCorrect(%): 0.72\n",
      "10/117, Length: 74, Time: 0.0339, myCorrect(%): 0.51 RNAfoldCorrect(%): 0.51\n",
      "11/117, Length: 72, Time: 0.0331, myCorrect(%): 0.50 RNAfoldCorrect(%): 0.56\n",
      "12/117, Length: 74, Time: 0.0640, myCorrect(%): 0.59 RNAfoldCorrect(%): 0.61\n",
      "13/117, Length: 78, Time: 0.0226, myCorrect(%): 0.46 RNAfoldCorrect(%): 0.67\n"
     ]
    },
    {
     "name": "stderr",
     "output_type": "stream",
     "text": [
      "/Users/harrisonlabollita/Arizona State University/Sulc group/src/kinetic_RNA/helperfunctions.py:207: RuntimeWarning: overflow encountered in exp\n",
      "  updateRates.append([np.exp(deltaS/kB), 1, trialIndex[i]])\n",
      "/Users/harrisonlabollita/Arizona State University/Sulc group/src/kinetic_RNA/helperfunctions.py:41: RuntimeWarning: invalid value encountered in double_scalars\n",
      "  rates[i][0] = rates[i][0]/normalization\n"
     ]
    },
    {
     "name": "stdout",
     "output_type": "stream",
     "text": [
      "14/117, Length: 74, Time: 0.3144, myCorrect(%): 0.50 RNAfoldCorrect(%): 0.69\n",
      "15/117, Length: 76, Time: 0.0216, myCorrect(%): 0.45 RNAfoldCorrect(%): 0.67\n",
      "16/117, Length: 72, Time: 0.9012, myCorrect(%): 0.50 RNAfoldCorrect(%): 0.61\n",
      "17/117, Length: 76, Time: 0.0317, myCorrect(%): 0.49 RNAfoldCorrect(%): 0.70\n",
      "18/117, Length: 74, Time: 0.0187, myCorrect(%): 0.43 RNAfoldCorrect(%): 0.74\n",
      "19/117, Length: 76, Time: 0.0194, myCorrect(%): 0.45 RNAfoldCorrect(%): 0.67\n"
     ]
    },
    {
     "name": "stderr",
     "output_type": "stream",
     "text": [
      "/Users/harrisonlabollita/Arizona State University/Sulc group/src/kinetic_RNA/helperfunctions.py:207: RuntimeWarning: overflow encountered in exp\n",
      "  updateRates.append([np.exp(deltaS/kB), 1, trialIndex[i]])\n",
      "/Users/harrisonlabollita/Arizona State University/Sulc group/src/kinetic_RNA/helperfunctions.py:41: RuntimeWarning: invalid value encountered in double_scalars\n",
      "  rates[i][0] = rates[i][0]/normalization\n"
     ]
    },
    {
     "name": "stdout",
     "output_type": "stream",
     "text": [
      "20/117, Length: 73, Time: 0.4613, myCorrect(%): 0.45 RNAfoldCorrect(%): 0.56\n"
     ]
    },
    {
     "name": "stderr",
     "output_type": "stream",
     "text": [
      "/Users/harrisonlabollita/Arizona State University/Sulc group/src/kinetic_RNA/helperfunctions.py:207: RuntimeWarning: overflow encountered in exp\n",
      "  updateRates.append([np.exp(deltaS/kB), 1, trialIndex[i]])\n",
      "/Users/harrisonlabollita/Arizona State University/Sulc group/src/kinetic_RNA/helperfunctions.py:41: RuntimeWarning: invalid value encountered in double_scalars\n",
      "  rates[i][0] = rates[i][0]/normalization\n"
     ]
    },
    {
     "name": "stdout",
     "output_type": "stream",
     "text": [
      "21/117, Length: 72, Time: 1.0695, myCorrect(%): 0.50 RNAfoldCorrect(%): 0.75\n",
      "22/117, Length: 74, Time: 0.0607, myCorrect(%): 0.46 RNAfoldCorrect(%): 0.62\n",
      "23/117, Length: 72, Time: 0.0230, myCorrect(%): 0.50 RNAfoldCorrect(%): 0.51\n",
      "24/117, Length: 75, Time: 0.0762, myCorrect(%): 0.49 RNAfoldCorrect(%): 0.65\n",
      "25/117, Length: 76, Time: 0.0437, myCorrect(%): 0.45 RNAfoldCorrect(%): 0.72\n",
      "26/117, Length: 72, Time: 0.0484, myCorrect(%): 0.44 RNAfoldCorrect(%): 0.56\n"
     ]
    },
    {
     "name": "stderr",
     "output_type": "stream",
     "text": [
      "/Users/harrisonlabollita/Arizona State University/Sulc group/src/kinetic_RNA/helperfunctions.py:207: RuntimeWarning: overflow encountered in exp\n",
      "  updateRates.append([np.exp(deltaS/kB), 1, trialIndex[i]])\n",
      "/Users/harrisonlabollita/Arizona State University/Sulc group/src/kinetic_RNA/helperfunctions.py:41: RuntimeWarning: invalid value encountered in double_scalars\n",
      "  rates[i][0] = rates[i][0]/normalization\n"
     ]
    },
    {
     "name": "stdout",
     "output_type": "stream",
     "text": [
      "27/117, Length: 71, Time: 0.5879, myCorrect(%): 0.38 RNAfoldCorrect(%): 0.56\n",
      "28/117, Length: 72, Time: 0.0999, myCorrect(%): 0.51 RNAfoldCorrect(%): 0.58\n",
      "29/117, Length: 74, Time: 0.0631, myCorrect(%): 0.54 RNAfoldCorrect(%): 0.62\n",
      "30/117, Length: 74, Time: 0.4603, myCorrect(%): 0.54 RNAfoldCorrect(%): 0.64\n",
      "31/117, Length: 76, Time: 0.0333, myCorrect(%): 0.45 RNAfoldCorrect(%): 0.74\n",
      "32/117, Length: 74, Time: 0.0311, myCorrect(%): 0.54 RNAfoldCorrect(%): 0.59\n",
      "33/117, Length: 75, Time: 0.1193, myCorrect(%): 0.44 RNAfoldCorrect(%): 0.60\n",
      "34/117, Length: 72, Time: 0.0190, myCorrect(%): 0.50 RNAfoldCorrect(%): 0.69\n",
      "35/117, Length: 73, Time: 6.3100, myCorrect(%): 0.70 RNAfoldCorrect(%): 0.55\n",
      "36/117, Length: 73, Time: 0.0226, myCorrect(%): 0.51 RNAfoldCorrect(%): 0.48\n",
      "37/117, Length: 76, Time: 0.0254, myCorrect(%): 0.55 RNAfoldCorrect(%): 0.71\n",
      "38/117, Length: 73, Time: 0.1357, myCorrect(%): 0.52 RNAfoldCorrect(%): 0.55\n"
     ]
    },
    {
     "name": "stderr",
     "output_type": "stream",
     "text": [
      "/Users/harrisonlabollita/Arizona State University/Sulc group/src/kinetic_RNA/helperfunctions.py:207: RuntimeWarning: overflow encountered in exp\n",
      "  updateRates.append([np.exp(deltaS/kB), 1, trialIndex[i]])\n",
      "/Users/harrisonlabollita/Arizona State University/Sulc group/src/kinetic_RNA/helperfunctions.py:41: RuntimeWarning: invalid value encountered in double_scalars\n",
      "  rates[i][0] = rates[i][0]/normalization\n"
     ]
    },
    {
     "name": "stdout",
     "output_type": "stream",
     "text": [
      "39/117, Length: 76, Time: 217.9798, myCorrect(%): 0.50 RNAfoldCorrect(%): 0.51\n",
      "40/117, Length: 74, Time: 0.0500, myCorrect(%): 0.49 RNAfoldCorrect(%): 0.62\n",
      "41/117, Length: 74, Time: 0.0692, myCorrect(%): 0.59 RNAfoldCorrect(%): 0.47\n",
      "42/117, Length: 73, Time: 0.0191, myCorrect(%): 0.48 RNAfoldCorrect(%): 0.55\n",
      "43/117, Length: 72, Time: 0.0646, myCorrect(%): 0.53 RNAfoldCorrect(%): 0.57\n",
      "44/117, Length: 73, Time: 0.0256, myCorrect(%): 0.51 RNAfoldCorrect(%): 0.48\n",
      "45/117, Length: 74, Time: 0.0187, myCorrect(%): 0.50 RNAfoldCorrect(%): 0.59\n",
      "46/117, Length: 76, Time: 0.0977, myCorrect(%): 0.58 RNAfoldCorrect(%): 0.51\n",
      "47/117, Length: 75, Time: 0.1732, myCorrect(%): 0.64 RNAfoldCorrect(%): 0.72\n",
      "48/117, Length: 76, Time: 0.2245, myCorrect(%): 0.38 RNAfoldCorrect(%): 0.47\n",
      "49/117, Length: 74, Time: 0.3481, myCorrect(%): 0.59 RNAfoldCorrect(%): 0.64\n",
      "50/117, Length: 71, Time: 0.1579, myCorrect(%): 0.61 RNAfoldCorrect(%): 0.70\n",
      "51/117, Length: 73, Time: 0.0424, myCorrect(%): 0.45 RNAfoldCorrect(%): 0.64\n",
      "52/117, Length: 74, Time: 0.0165, myCorrect(%): 0.43 RNAfoldCorrect(%): 0.61\n",
      "53/117, Length: 71, Time: 0.0774, myCorrect(%): 0.51 RNAfoldCorrect(%): 0.72\n"
     ]
    },
    {
     "name": "stderr",
     "output_type": "stream",
     "text": [
      "/Users/harrisonlabollita/Arizona State University/Sulc group/src/kinetic_RNA/helperfunctions.py:207: RuntimeWarning: overflow encountered in exp\n",
      "  updateRates.append([np.exp(deltaS/kB), 1, trialIndex[i]])\n",
      "/Users/harrisonlabollita/Arizona State University/Sulc group/src/kinetic_RNA/helperfunctions.py:41: RuntimeWarning: invalid value encountered in double_scalars\n",
      "  rates[i][0] = rates[i][0]/normalization\n"
     ]
    },
    {
     "name": "stdout",
     "output_type": "stream",
     "text": [
      "54/117, Length: 73, Time: 0.2054, myCorrect(%): 0.48 RNAfoldCorrect(%): 0.49\n",
      "55/117, Length: 74, Time: 0.0352, myCorrect(%): 0.54 RNAfoldCorrect(%): 0.64\n"
     ]
    },
    {
     "name": "stderr",
     "output_type": "stream",
     "text": [
      "/Users/harrisonlabollita/Arizona State University/Sulc group/src/kinetic_RNA/helperfunctions.py:207: RuntimeWarning: overflow encountered in exp\n",
      "  updateRates.append([np.exp(deltaS/kB), 1, trialIndex[i]])\n",
      "/Users/harrisonlabollita/Arizona State University/Sulc group/src/kinetic_RNA/helperfunctions.py:41: RuntimeWarning: invalid value encountered in double_scalars\n",
      "  rates[i][0] = rates[i][0]/normalization\n"
     ]
    },
    {
     "name": "stdout",
     "output_type": "stream",
     "text": [
      "56/117, Length: 73, Time: 281.8295, myCorrect(%): 0.49 RNAfoldCorrect(%): 0.62\n",
      "57/117, Length: 74, Time: 0.1305, myCorrect(%): 0.47 RNAfoldCorrect(%): 0.55\n",
      "58/117, Length: 71, Time: 0.0204, myCorrect(%): 0.46 RNAfoldCorrect(%): 0.72\n",
      "59/117, Length: 71, Time: 0.0958, myCorrect(%): 0.61 RNAfoldCorrect(%): 0.72\n",
      "60/117, Length: 76, Time: 0.0222, myCorrect(%): 0.45 RNAfoldCorrect(%): 0.59\n",
      "61/117, Length: 71, Time: 0.1621, myCorrect(%): 0.44 RNAfoldCorrect(%): 0.70\n",
      "62/117, Length: 73, Time: 0.2100, myCorrect(%): 0.59 RNAfoldCorrect(%): 0.49\n"
     ]
    },
    {
     "name": "stderr",
     "output_type": "stream",
     "text": [
      "/Users/harrisonlabollita/Arizona State University/Sulc group/src/kinetic_RNA/helperfunctions.py:207: RuntimeWarning: overflow encountered in exp\n",
      "  updateRates.append([np.exp(deltaS/kB), 1, trialIndex[i]])\n",
      "/Users/harrisonlabollita/Arizona State University/Sulc group/src/kinetic_RNA/helperfunctions.py:41: RuntimeWarning: invalid value encountered in double_scalars\n",
      "  rates[i][0] = rates[i][0]/normalization\n"
     ]
    },
    {
     "name": "stdout",
     "output_type": "stream",
     "text": [
      "63/117, Length: 73, Time: 5.7562, myCorrect(%): 0.40 RNAfoldCorrect(%): 0.73\n"
     ]
    },
    {
     "name": "stderr",
     "output_type": "stream",
     "text": [
      "/Users/harrisonlabollita/Arizona State University/Sulc group/src/kinetic_RNA/helperfunctions.py:207: RuntimeWarning: overflow encountered in exp\n",
      "  updateRates.append([np.exp(deltaS/kB), 1, trialIndex[i]])\n",
      "/Users/harrisonlabollita/Arizona State University/Sulc group/src/kinetic_RNA/helperfunctions.py:41: RuntimeWarning: invalid value encountered in double_scalars\n",
      "  rates[i][0] = rates[i][0]/normalization\n"
     ]
    },
    {
     "name": "stdout",
     "output_type": "stream",
     "text": [
      "64/117, Length: 77, Time: 7.2700, myCorrect(%): 0.51 RNAfoldCorrect(%): 0.51\n",
      "65/117, Length: 75, Time: 0.0449, myCorrect(%): 0.51 RNAfoldCorrect(%): 0.63\n",
      "66/117, Length: 73, Time: 0.0435, myCorrect(%): 0.62 RNAfoldCorrect(%): 0.74\n",
      "67/117, Length: 71, Time: 0.1685, myCorrect(%): 0.55 RNAfoldCorrect(%): 0.65\n",
      "68/117, Length: 72, Time: 0.0171, myCorrect(%): 0.39 RNAfoldCorrect(%): 0.75\n"
     ]
    },
    {
     "name": "stderr",
     "output_type": "stream",
     "text": [
      "/Users/harrisonlabollita/Arizona State University/Sulc group/src/kinetic_RNA/helperfunctions.py:207: RuntimeWarning: overflow encountered in exp\n",
      "  updateRates.append([np.exp(deltaS/kB), 1, trialIndex[i]])\n",
      "/Users/harrisonlabollita/Arizona State University/Sulc group/src/kinetic_RNA/helperfunctions.py:41: RuntimeWarning: invalid value encountered in double_scalars\n",
      "  rates[i][0] = rates[i][0]/normalization\n"
     ]
    },
    {
     "name": "stdout",
     "output_type": "stream",
     "text": [
      "69/117, Length: 74, Time: 0.3572, myCorrect(%): 0.51 RNAfoldCorrect(%): 0.69\n"
     ]
    },
    {
     "name": "stderr",
     "output_type": "stream",
     "text": [
      "/Users/harrisonlabollita/Arizona State University/Sulc group/src/kinetic_RNA/helperfunctions.py:207: RuntimeWarning: overflow encountered in exp\n",
      "  updateRates.append([np.exp(deltaS/kB), 1, trialIndex[i]])\n",
      "/Users/harrisonlabollita/Arizona State University/Sulc group/src/kinetic_RNA/helperfunctions.py:41: RuntimeWarning: invalid value encountered in double_scalars\n",
      "  rates[i][0] = rates[i][0]/normalization\n"
     ]
    },
    {
     "name": "stdout",
     "output_type": "stream",
     "text": [
      "70/117, Length: 77, Time: 0.3071, myCorrect(%): 0.66 RNAfoldCorrect(%): 0.74\n",
      "71/117, Length: 76, Time: 0.0308, myCorrect(%): 0.50 RNAfoldCorrect(%): 0.67\n",
      "72/117, Length: 73, Time: 0.0518, myCorrect(%): 0.51 RNAfoldCorrect(%): 0.53\n"
     ]
    },
    {
     "name": "stderr",
     "output_type": "stream",
     "text": [
      "/Users/harrisonlabollita/Arizona State University/Sulc group/src/kinetic_RNA/helperfunctions.py:207: RuntimeWarning: overflow encountered in exp\n",
      "  updateRates.append([np.exp(deltaS/kB), 1, trialIndex[i]])\n",
      "/Users/harrisonlabollita/Arizona State University/Sulc group/src/kinetic_RNA/helperfunctions.py:41: RuntimeWarning: invalid value encountered in double_scalars\n",
      "  rates[i][0] = rates[i][0]/normalization\n"
     ]
    },
    {
     "name": "stdout",
     "output_type": "stream",
     "text": [
      "73/117, Length: 71, Time: 0.3558, myCorrect(%): 0.51 RNAfoldCorrect(%): 0.66\n"
     ]
    },
    {
     "name": "stderr",
     "output_type": "stream",
     "text": [
      "/Users/harrisonlabollita/Arizona State University/Sulc group/src/kinetic_RNA/helperfunctions.py:207: RuntimeWarning: overflow encountered in exp\n",
      "  updateRates.append([np.exp(deltaS/kB), 1, trialIndex[i]])\n",
      "/Users/harrisonlabollita/Arizona State University/Sulc group/src/kinetic_RNA/helperfunctions.py:41: RuntimeWarning: invalid value encountered in double_scalars\n",
      "  rates[i][0] = rates[i][0]/normalization\n"
     ]
    },
    {
     "name": "stdout",
     "output_type": "stream",
     "text": [
      "74/117, Length: 74, Time: 2.3584, myCorrect(%): 0.54 RNAfoldCorrect(%): 0.59\n",
      "75/117, Length: 77, Time: 0.2596, myCorrect(%): 0.64 RNAfoldCorrect(%): 0.62\n",
      "76/117, Length: 74, Time: 0.0185, myCorrect(%): 0.51 RNAfoldCorrect(%): 0.65\n",
      "77/117, Length: 71, Time: 0.3335, myCorrect(%): 0.61 RNAfoldCorrect(%): 0.66\n",
      "78/117, Length: 71, Time: 0.0170, myCorrect(%): 0.38 RNAfoldCorrect(%): 0.69\n",
      "79/117, Length: 73, Time: 0.1058, myCorrect(%): 0.51 RNAfoldCorrect(%): 0.66\n",
      "80/117, Length: 73, Time: 0.0423, myCorrect(%): 0.51 RNAfoldCorrect(%): 0.60\n",
      "81/117, Length: 75, Time: 0.0642, myCorrect(%): 0.57 RNAfoldCorrect(%): 0.65\n"
     ]
    },
    {
     "name": "stderr",
     "output_type": "stream",
     "text": [
      "/Users/harrisonlabollita/Arizona State University/Sulc group/src/kinetic_RNA/helperfunctions.py:207: RuntimeWarning: overflow encountered in exp\n",
      "  updateRates.append([np.exp(deltaS/kB), 1, trialIndex[i]])\n",
      "/Users/harrisonlabollita/Arizona State University/Sulc group/src/kinetic_RNA/helperfunctions.py:41: RuntimeWarning: invalid value encountered in double_scalars\n",
      "  rates[i][0] = rates[i][0]/normalization\n"
     ]
    },
    {
     "name": "stdout",
     "output_type": "stream",
     "text": [
      "82/117, Length: 74, Time: 8.2987, myCorrect(%): 0.59 RNAfoldCorrect(%): 0.69\n",
      "83/117, Length: 72, Time: 0.0164, myCorrect(%): 0.42 RNAfoldCorrect(%): 0.62\n",
      "84/117, Length: 78, Time: 0.0250, myCorrect(%): 0.54 RNAfoldCorrect(%): 0.67\n"
     ]
    },
    {
     "name": "stderr",
     "output_type": "stream",
     "text": [
      "/Users/harrisonlabollita/Arizona State University/Sulc group/src/kinetic_RNA/helperfunctions.py:207: RuntimeWarning: overflow encountered in exp\n",
      "  updateRates.append([np.exp(deltaS/kB), 1, trialIndex[i]])\n",
      "/Users/harrisonlabollita/Arizona State University/Sulc group/src/kinetic_RNA/helperfunctions.py:41: RuntimeWarning: invalid value encountered in double_scalars\n",
      "  rates[i][0] = rates[i][0]/normalization\n",
      "/Users/harrisonlabollita/Arizona State University/Sulc group/src/kinetic_RNA/helperfunctions.py:207: RuntimeWarning: overflow encountered in exp\n",
      "  updateRates.append([np.exp(deltaS/kB), 1, trialIndex[i]])\n",
      "/Users/harrisonlabollita/Arizona State University/Sulc group/src/kinetic_RNA/helperfunctions.py:41: RuntimeWarning: invalid value encountered in double_scalars\n",
      "  rates[i][0] = rates[i][0]/normalization\n"
     ]
    },
    {
     "name": "stdout",
     "output_type": "stream",
     "text": [
      "85/117, Length: 73, Time: 228.0654, myCorrect(%): 0.51 RNAfoldCorrect(%): 0.62\n",
      "86/117, Length: 72, Time: 0.0830, myCorrect(%): 0.58 RNAfoldCorrect(%): 0.65\n",
      "87/117, Length: 76, Time: 0.0238, myCorrect(%): 0.53 RNAfoldCorrect(%): 0.70\n",
      "88/117, Length: 73, Time: 0.0594, myCorrect(%): 0.51 RNAfoldCorrect(%): 0.53\n",
      "89/117, Length: 75, Time: 0.0424, myCorrect(%): 0.51 RNAfoldCorrect(%): 0.63\n",
      "90/117, Length: 72, Time: 0.0379, myCorrect(%): 0.53 RNAfoldCorrect(%): 0.72\n",
      "91/117, Length: 73, Time: 0.0286, myCorrect(%): 0.45 RNAfoldCorrect(%): 0.60\n",
      "92/117, Length: 77, Time: 0.2100, myCorrect(%): 0.71 RNAfoldCorrect(%): 0.68\n"
     ]
    },
    {
     "name": "stderr",
     "output_type": "stream",
     "text": [
      "/Users/harrisonlabollita/Arizona State University/Sulc group/src/kinetic_RNA/helperfunctions.py:207: RuntimeWarning: overflow encountered in exp\n",
      "  updateRates.append([np.exp(deltaS/kB), 1, trialIndex[i]])\n",
      "/Users/harrisonlabollita/Arizona State University/Sulc group/src/kinetic_RNA/helperfunctions.py:41: RuntimeWarning: invalid value encountered in double_scalars\n",
      "  rates[i][0] = rates[i][0]/normalization\n"
     ]
    },
    {
     "name": "stdout",
     "output_type": "stream",
     "text": [
      "93/117, Length: 74, Time: 2.3358, myCorrect(%): 0.47 RNAfoldCorrect(%): 0.59\n",
      "94/117, Length: 76, Time: 0.0263, myCorrect(%): 0.55 RNAfoldCorrect(%): 0.71\n",
      "95/117, Length: 74, Time: 0.0169, myCorrect(%): 0.43 RNAfoldCorrect(%): 0.62\n",
      "96/117, Length: 74, Time: 0.1940, myCorrect(%): 0.43 RNAfoldCorrect(%): 0.58\n"
     ]
    },
    {
     "name": "stderr",
     "output_type": "stream",
     "text": [
      "/Users/harrisonlabollita/Arizona State University/Sulc group/src/kinetic_RNA/helperfunctions.py:207: RuntimeWarning: overflow encountered in exp\n",
      "  updateRates.append([np.exp(deltaS/kB), 1, trialIndex[i]])\n",
      "/Users/harrisonlabollita/Arizona State University/Sulc group/src/kinetic_RNA/helperfunctions.py:41: RuntimeWarning: invalid value encountered in double_scalars\n",
      "  rates[i][0] = rates[i][0]/normalization\n"
     ]
    },
    {
     "name": "stdout",
     "output_type": "stream",
     "text": [
      "97/117, Length: 75, Time: 8.1601, myCorrect(%): 0.49 RNAfoldCorrect(%): 0.68\n"
     ]
    },
    {
     "name": "stderr",
     "output_type": "stream",
     "text": [
      "/Users/harrisonlabollita/Arizona State University/Sulc group/src/kinetic_RNA/helperfunctions.py:207: RuntimeWarning: overflow encountered in exp\n",
      "  updateRates.append([np.exp(deltaS/kB), 1, trialIndex[i]])\n",
      "/Users/harrisonlabollita/Arizona State University/Sulc group/src/kinetic_RNA/helperfunctions.py:41: RuntimeWarning: invalid value encountered in double_scalars\n",
      "  rates[i][0] = rates[i][0]/normalization\n"
     ]
    },
    {
     "name": "stdout",
     "output_type": "stream",
     "text": [
      "98/117, Length: 77, Time: 168.3881, myCorrect(%): 0.60 RNAfoldCorrect(%): 0.58\n",
      "99/117, Length: 74, Time: 0.2057, myCorrect(%): 0.53 RNAfoldCorrect(%): 0.58\n",
      "100/117, Length: 74, Time: 0.0416, myCorrect(%): 0.49 RNAfoldCorrect(%): 0.62\n"
     ]
    },
    {
     "name": "stderr",
     "output_type": "stream",
     "text": [
      "/Users/harrisonlabollita/Arizona State University/Sulc group/src/kinetic_RNA/helperfunctions.py:207: RuntimeWarning: overflow encountered in exp\n",
      "  updateRates.append([np.exp(deltaS/kB), 1, trialIndex[i]])\n",
      "/Users/harrisonlabollita/Arizona State University/Sulc group/src/kinetic_RNA/helperfunctions.py:41: RuntimeWarning: invalid value encountered in double_scalars\n",
      "  rates[i][0] = rates[i][0]/normalization\n"
     ]
    },
    {
     "name": "stdout",
     "output_type": "stream",
     "text": [
      "101/117, Length: 76, Time: 1.2757, myCorrect(%): 0.45 RNAfoldCorrect(%): 0.57\n",
      "102/117, Length: 73, Time: 0.0394, myCorrect(%): 0.51 RNAfoldCorrect(%): 0.49\n",
      "103/117, Length: 77, Time: 0.2276, myCorrect(%): 0.53 RNAfoldCorrect(%): 0.58\n",
      "104/117, Length: 72, Time: 0.0360, myCorrect(%): 0.42 RNAfoldCorrect(%): 0.72\n",
      "105/117, Length: 74, Time: 0.0353, myCorrect(%): 0.51 RNAfoldCorrect(%): 0.50\n",
      "106/117, Length: 76, Time: 0.0210, myCorrect(%): 0.53 RNAfoldCorrect(%): 0.63\n"
     ]
    },
    {
     "name": "stderr",
     "output_type": "stream",
     "text": [
      "/Users/harrisonlabollita/Arizona State University/Sulc group/src/kinetic_RNA/helperfunctions.py:207: RuntimeWarning: overflow encountered in exp\n",
      "  updateRates.append([np.exp(deltaS/kB), 1, trialIndex[i]])\n",
      "/Users/harrisonlabollita/Arizona State University/Sulc group/src/kinetic_RNA/helperfunctions.py:41: RuntimeWarning: invalid value encountered in double_scalars\n",
      "  rates[i][0] = rates[i][0]/normalization\n"
     ]
    },
    {
     "name": "stdout",
     "output_type": "stream",
     "text": [
      "107/117, Length: 73, Time: 0.1792, myCorrect(%): 0.45 RNAfoldCorrect(%): 0.74\n",
      "108/117, Length: 72, Time: 0.0226, myCorrect(%): 0.50 RNAfoldCorrect(%): 0.74\n"
     ]
    },
    {
     "name": "stderr",
     "output_type": "stream",
     "text": [
      "/Users/harrisonlabollita/Arizona State University/Sulc group/src/kinetic_RNA/helperfunctions.py:207: RuntimeWarning: overflow encountered in exp\n",
      "  updateRates.append([np.exp(deltaS/kB), 1, trialIndex[i]])\n",
      "/Users/harrisonlabollita/Arizona State University/Sulc group/src/kinetic_RNA/helperfunctions.py:41: RuntimeWarning: invalid value encountered in double_scalars\n",
      "  rates[i][0] = rates[i][0]/normalization\n"
     ]
    },
    {
     "name": "stdout",
     "output_type": "stream",
     "text": [
      "109/117, Length: 74, Time: 28.9077, myCorrect(%): 0.62 RNAfoldCorrect(%): 0.61\n",
      "110/117, Length: 74, Time: 0.3751, myCorrect(%): 0.65 RNAfoldCorrect(%): 0.73\n",
      "111/117, Length: 77, Time: 0.0445, myCorrect(%): 0.58 RNAfoldCorrect(%): 0.61\n",
      "112/117, Length: 76, Time: 0.0859, myCorrect(%): 0.58 RNAfoldCorrect(%): 0.51\n",
      "113/117, Length: 74, Time: 0.0353, myCorrect(%): 0.54 RNAfoldCorrect(%): 0.50\n",
      "114/117, Length: 74, Time: 0.5095, myCorrect(%): 0.59 RNAfoldCorrect(%): 0.61\n",
      "115/117, Length: 76, Time: 0.0299, myCorrect(%): 0.45 RNAfoldCorrect(%): 0.63\n",
      "116/117, Length: 77, Time: 0.0206, myCorrect(%): 0.45 RNAfoldCorrect(%): 0.56\n",
      "117/117, Length: 73, Time: 0.0182, myCorrect(%): 0.47 RNAfoldCorrect(%): 0.74\n"
     ]
    }
   ],
   "source": [
    "total_misses = []\n",
    "rna_misses = []\n",
    "for i in range(len(sequences)):\n",
    "    seq = sequences[i]\n",
    "    dot = dotbrackets[i]\n",
    "    rnafold = viennaRNA[i]\n",
    "    start = time.time()\n",
    "    G = GILLESPIE.Gillespie(seq, [], maxTime = 5, toPrint = False, initTime = False)\n",
    "    structure = switchRep(G.runGillespie())\n",
    "    mistakes = compareStructs(structure, dot)\n",
    "    rna_mistake = compareStructs(rnafold, dot)\n",
    "    rna_mistake /= len(seq)\n",
    "    mistakes /= len(seq)\n",
    "    total_misses.append(mistakes)\n",
    "    rna_misses.append(rna_mistake)\n",
    "    stop = time.time()\n",
    "    print('{}/{}, Length: {}, Time: {:0.4f}, myCorrect(%): {:0.2f} RNAfoldCorrect(%): {:0.2f}'.format(i+1, len(sequences), len(seq), abs(stop-start), 1-mistakes, 1-rna_mistake))"
   ]
  },
  {
   "cell_type": "code",
   "execution_count": 16,
   "metadata": {},
   "outputs": [
    {
     "name": "stdout",
     "output_type": "stream",
     "text": [
      "myMean: 0.5095064872360898\n",
      "myMax: 0.7142857142857143\n",
      "myMin: 0.3802816901408451\n",
      "rnaMean: 0.6253826357970707\n",
      "rnaMax: 0.75\n",
      "rnaMin: 0.472972972972973\n"
     ]
    }
   ],
   "source": [
    "print('myMean:', 1- np.mean(total_misses))\n",
    "print('myMax:', 1-np.min(total_misses))\n",
    "print('myMin:', 1-np.max(total_misses))\n",
    "print('rnaMean:', 1-np.mean(rna_misses))\n",
    "print('rnaMax:', 1-np.min(rna_misses))\n",
    "print('rnaMin:', 1-np.max(rna_misses))"
   ]
  },
  {
   "cell_type": "markdown",
   "metadata": {},
   "source": [
    "# Results\n",
    "|**Stats** | **myFolder** | **ViennaRNA** |\n",
    "|:--------:|:------------:|:-------------:|\n",
    "| Mean     |    0.51      |        0.63   |  \n",
    "| Best     |      0.71    |     0.75      |\n",
    "| Worst    |      0.38    |      0.47     |"
   ]
  },
  {
   "cell_type": "markdown",
   "metadata": {},
   "source": [
    "# myFolder Results"
   ]
  },
  {
   "cell_type": "code",
   "execution_count": 37,
   "metadata": {},
   "outputs": [
    {
     "data": {
      "image/png": "[encoded data removed]",
      "text/plain": [
       "<Figure size 432x288 with 1 Axes>"
      ]
     },
     "metadata": {
      "needs_background": "light"
     },
     "output_type": "display_data"
    }
   ],
   "source": [
    "myCorrect = [1 - total_misses[i] for i in range(len(total_misses))]\n",
    "plt.figure()\n",
    "plt.title('Kinetic Folder', fontsize = 20)\n",
    "plt.xlabel('Percentage Correct', fontsize = 15)\n",
    "plt.ylabel('Frequency', fontsize = 15)\n",
    "plt.grid(True, linestyle = ':', linewidth = 1)\n",
    "plt.hist(myCorrect, bins = 25, density = True, histtype = 'bar', rwidth = 0.9, color = 'black',linewidth = 2)\n",
    "plt.savefig('myfolder.eps', format = 'eps')"
   ]
  },
  {
   "cell_type": "markdown",
   "metadata": {},
   "source": [
    "# ViennaRNA Results"
   ]
  },
  {
   "cell_type": "code",
   "execution_count": 36,
   "metadata": {},
   "outputs": [
    {
     "data": {
      "image/png": "[encoded data removed]",
      "text/plain": [
       "<Figure size 432x288 with 1 Axes>"
      ]
     },
     "metadata": {
      "needs_background": "light"
     },
     "output_type": "display_data"
    }
   ],
   "source": [
    "rnaCorrect = [1 - rna_misses[i] for i in range(len(rna_misses))]\n",
    "plt.figure()\n",
    "plt.title('ViennaRNA Folder', fontsize = 20)\n",
    "plt.xlabel('Percentage Correct', fontsize = 15)\n",
    "plt.ylabel('Frequency', fontsize = 15)\n",
    "plt.grid(True, linestyle = ':', linewidth = 1)\n",
    "plt.hist(rnaCorrect, bins = 25, density = True, histtype = 'bar', rwidth = 0.9, color = 'black',linewidth = 2)\n",
    "plt.savefig('viennarna.eps', format = 'eps')"
   ]
  },
  {
   "cell_type": "code",
   "execution_count": null,
   "metadata": {},
   "outputs": [],
   "source": []
  }
 ],
 "metadata": {
  "kernelspec": {
   "display_name": "Python 3",
   "language": "python",
   "name": "python3"
  },
  "language_info": {
   "codemirror_mode": {
    "name": "ipython",
    "version": 3
   },
   "file_extension": ".py",
   "mimetype": "text/x-python",
   "name": "python",
   "nbconvert_exporter": "python",
   "pygments_lexer": "ipython3",
   "version": "3.8.1"
  }
 },
 "nbformat": 4,
 "nbformat_minor": 4
}
