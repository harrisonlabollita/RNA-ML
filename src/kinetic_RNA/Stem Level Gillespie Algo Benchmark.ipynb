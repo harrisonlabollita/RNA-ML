{
 "cells": [
  {
   "cell_type": "markdown",
   "metadata": {},
   "source": [
    "# Gillespie Benchmark Performance Figure"
   ]
  },
  {
   "cell_type": "code",
   "execution_count": 1,
   "metadata": {},
   "outputs": [],
   "source": [
    "import numpy as np\n",
    "import helperfunctions as hf\n",
    "import RFE_landscape as RFE\n",
    "import matplotlib.pyplot as plt\n",
    "import glob, sys, os\n",
    "import RNA\n",
    "import matplotlib\n",
    "matplotlib.rc('text', usetex = True)\n",
    "matplotlib.rc('font', **{'family':'serif', 'serif':['Computer Modern Roman, Times']})"
   ]
  },
  {
   "cell_type": "code",
   "execution_count": 2,
   "metadata": {},
   "outputs": [],
   "source": [
    "class Gillespie:\n",
    "\n",
    "    def __init__(self, sequence, frozen, maxTime, toPrint = True):\n",
    "\n",
    "        # We begin by initializing all the components that we will need throughout the algorithm.\n",
    "        # This includes all possible stems, structures, entropies, and gibbs free energy.\n",
    "\n",
    "        self.sequence = sequence # sequence that we will fold\n",
    "        self.frozen = frozen # if we have a frozen stem that we would like to include in the final calculation\n",
    "\n",
    "       # STableBPs,             STableStructure,     compatibilityMatrix,       allStructures,                           stemEnergies,      stemEntropies,      totalEntropies\n",
    "        self.allPossibleStems, self.STableStructure, self.compatibilityMatrix, self.allStructures, self.allStructures2, self.stemEnergies, self.stemEntropies, self.totalEntropies = self.initialize(sequence)\n",
    "\n",
    "        self.allPossibleStems2 = [ [self.allPossibleStems[i], i] for i in range(len(self.allPossibleStems))]\n",
    "\n",
    "        # need to convert the enthalpy to the gibbs free energy\n",
    "        self.stemGFEnergies = hf.LegendreTransform(self.stemEnergies, self.stemEntropies, 310.15)\n",
    "\n",
    "        # intialize the current structure arrays\n",
    "        self.currentStructure = []\n",
    "        self.stemsInCurrentStructure = []\n",
    "\n",
    "        # initial starting values for the flux, time, and cutoff\n",
    "        self.totalFlux = 0\n",
    "        self.maxTime = maxTime\n",
    "        self.time = 0\n",
    "\n",
    "        self.nextPossibleStems = [] #initialize\n",
    "        self.nextPossibleRates = [] #initialize\n",
    "\n",
    "        self.toPrint = toPrint\n",
    "\n",
    "    def initialize(self, sequence):\n",
    "        # See Kimich et. al (https://www.biorxiv.org/content/10.1101/338921v1)\n",
    "\n",
    "        # Call RNALandscape to initialize all the quantities that we will need throughtout our algorithm\n",
    "\n",
    "        q = RFE.RNALandscape([sequence])\n",
    "        q.calculateFELandscape()\n",
    "\n",
    "        sequenceInNumbers = q.sequenceInNumbers\n",
    "        numStems = q.numStems\n",
    "        STableStructure = q.STableStructure\n",
    "        STableBPs = q.STableBPs\n",
    "        compatibilityMatrix = q.C\n",
    "        stemEnergies, stemEntropies = hf.calculateStemFreeEnergiesPairwise(numStems, STableStructure, sequenceInNumbers)\n",
    "        allLoopEntropies = q.allLoopEntropies\n",
    "        allBondEntropies = q.allBondEntropies\n",
    "        allDuplexEntropies = q.allDuplexEntropies\n",
    "        allStructures = hf.structure2stem(q.structures, STableBPs)\n",
    "        allStructures2 = q.structures\n",
    "\n",
    "        totalEntropies = hf.totalEntropyPerStructure(allLoopEntropies, allBondEntropies, allDuplexEntropies)\n",
    "\n",
    "        return(STableBPs, STableStructure, compatibilityMatrix, allStructures, allStructures2, stemEnergies, stemEntropies, totalEntropies)\n",
    "\n",
    "    def convert2dot(self, currentStructure):\n",
    "        # Function to convert the notation of the current structure to dot bracket notation\n",
    "        # Not written to handle pseudoknots yet\n",
    "        representation = ''\n",
    "        dotbracket = [0]*len(self.sequence)\n",
    "        # find the pseudoknots first and add those in the dotbracket notation\n",
    "\n",
    "        for i in range(len(currentStructure)):\n",
    "            for j in range(len(currentStructure[i])):\n",
    "                open = currentStructure[i][j][0]\n",
    "                close = currentStructure[i][j][1]\n",
    "                dotbracket[open] = 1\n",
    "                dotbracket[close] = 2\n",
    "        # convert 0's, 1's, and 2's into '.', '(', ')'\n",
    "\n",
    "        for element in dotbracket:\n",
    "            if element == 0:\n",
    "                representation += '.'\n",
    "            elif element == 1:\n",
    "                representation += '('\n",
    "            else:\n",
    "                representation += ')'\n",
    "\n",
    "        return(representation)\n",
    "\n",
    "    def MonteCarloStep(self):\n",
    "\n",
    "        # Begin with any frozen contraints that will need to be considered, but we will add this\n",
    "        # component last\n",
    "\n",
    "        # This is our first move!\n",
    "        if not self.time:\n",
    "            C = self.compatibilityMatrix #for readability we rename this\n",
    "\n",
    "            # generate two random numbers\n",
    "            r1 = np.random.random()\n",
    "            r2 = np.random.random()\n",
    "\n",
    "            # calculate the transition rates for all the states, this done using the kineticFunctions file.\n",
    "            self.allRates = hf.calculateStemRates(self.stemEntropies, kB =  0.0019872, T = 310.15, kind = 1)\n",
    "            self.ratesBreak = hf.calculateStemRates(self.stemGFEnergies, kB = 0.0019872, T = 310.15, kind = 0)\n",
    "            self.totalFlux = sum([r[0] for r in self.allRates]) # the sum off all the rates\n",
    "            self.time += abs(np.log(r2))\n",
    "            #self.time += (abs(np.log(r2))/self.totalFlux) # increment the reaction time for next state\n",
    "            normalizedRates = hf.normalize(self.allRates) # normalize the rates such that they sum to one\n",
    "\n",
    "\n",
    "            for i in range(len(normalizedRates)):\n",
    "                trial = hf.partialSum(normalizedRates[:i])\n",
    "\n",
    "                if trial >= r1:\n",
    "                    stateEntropy = self.stemEntropies[i]\n",
    "                    nextMove = self.allPossibleStems[i]\n",
    "                    self.currentStructure.append(nextMove)  # append the stem to the current structure\n",
    "                    self.stemsInCurrentStructure.append(i)  # append the index of this stem into a list to keep track of what stems are coming in and out of current structure\n",
    "                    # update the user on what move was made\n",
    "                    if self.toPrint:\n",
    "                        print('Time: %0.4fs | Added Stem: %s | Current Structure: %s' %(self.time, str(nextMove), self.convert2dot(self.currentStructure)))\n",
    "\n",
    "\n",
    "                    # we now need to calculate the next set of possible moves and\n",
    "                    # the rates corresponding to these moves\n",
    "\n",
    "                    for m in range(len(self.allPossibleStems)):\n",
    "                        if C[i, m] and m != i:\n",
    "                            self.nextPossibleStems.append([self.allPossibleStems[m], m]) # format of this array will be [stem_m , and m = index of stem from larger array]\n",
    "\n",
    "                    trialStructures, trialIndices = hf.makeTrialStructures(self.currentStructure, self.nextPossibleStems, self.allStructures, len(self.sequence))\n",
    "                    self.nextPossibleRates = hf.updateReactionRates(trialStructures, trialIndices, self.allStructures, self.totalEntropies, stateEntropy, len(self.sequence))\n",
    "                    self.nextPossibleRates.insert(0, self.ratesBreak[i])\n",
    "\n",
    "                    self.totalFlux = sum([r[0] for r in self.nextPossibleRates])\n",
    "\n",
    "                    self.nextPossibleRates = hf.normalize(self.nextPossibleRates)\n",
    "                    return(self)\n",
    "\n",
    "        else:\n",
    "        # Now we are in our 2+ move.\n",
    "\n",
    "        # generate two random numbers\n",
    "            r1 = np.random.random()\n",
    "            r2 = np.random.random()\n",
    "\n",
    "        # update time\n",
    "            #self.time += (abs(np.log(r2))/self.totalFlux)\n",
    "            self.time += abs(np.log(r2))\n",
    "            # find the next move\n",
    "            for i in range(len(self.nextPossibleRates)):\n",
    "                trial = hf.partialSum(self.nextPossibleRates[:i])\n",
    "\n",
    "                if trial >= r1:\n",
    "\n",
    "                    if self.nextPossibleRates[i][1]: # this will be true if we have chosen to add a stem\n",
    "                        stateEntropy = (0.0019872)* np.log(self.nextPossibleRates[i][0])\n",
    "                        index = self.nextPossibleRates[i][2] # the index of the stem that we will add\n",
    "                        nextMove = hf.findStem(index, self.nextPossibleStems)\n",
    "                        stemIndex = nextMove[1]\n",
    "\n",
    "                        self.currentStructure.append(nextMove[0])\n",
    "                        self.stemsInCurrentStructure.append(stemIndex)\n",
    "                        if self.toPrint:\n",
    "                            print('Time: %0.4fs | Added Stem: %s | Current Structure: %s' %(self.time, str(nextMove[0]), self.convert2dot(self.currentStructure)))\n",
    "                        # check for new stems that could be compatible with the structure\n",
    "                        self.nextPossibleStems = hf.findNewStems(self.stemsInCurrentStructure, self.allPossibleStems2, self.allStructures2)\n",
    "                        trialStructures, trialIndices = hf.makeTrialStructures(self.currentStructure, self.nextPossibleStems, self.allStructures, len(self.sequence))\n",
    "                        self.nextPossibleRates = hf.updateReactionRates(trialStructures, trialIndices, self.allStructures, self.totalEntropies, stateEntropy, len(self.sequence))\n",
    "\n",
    "                        for ind in self.stemsInCurrentStructure:\n",
    "                            self.nextPossibleRates.insert(0, hf.findRate(ind, self.ratesBreak))\n",
    "                        self.totalFlux = sum([r[0] for r in self.nextPossibleRates])\n",
    "                        self.nextPossibleRates = hf.normalize(self.nextPossibleRates)\n",
    "                        return(self)\n",
    "\n",
    "                    else:\n",
    "                        # we have chosen to break a stem\n",
    "                        # We will now find the stem to break in our current structure, then populate a list of new\n",
    "                        # new stems to consider for the next move.\n",
    "                        stemIndexToRemove = self.nextPossibleRates[i][2]\n",
    "                        stemToBreak = hf.findStem(stemIndexToRemove, self.allPossibleStems2)\n",
    "                        stateEntropy = (0.0019872) * np.log(self.nextPossibleRates[i][0])\n",
    "                        for k in range(len(self.stemsInCurrentStructure)): #searching for the stem to break\n",
    "                            if stemIndexToRemove == self.stemsInCurrentStructure[k]:\n",
    "                                del self.currentStructure[k]\n",
    "                                del self.stemsInCurrentStructure[k]\n",
    "                                if self.toPrint:\n",
    "                                    print('Time: %0.4fs | Broke Stem: %s | Current Structure: %s' %(self.time, str(stemToBreak[0]), self.convert2dot(self.currentStructure)))\n",
    "\n",
    "                                if len(self.currentStructure) == 0:\n",
    "\n",
    "                                    self.nextPossibleRates = hf.normalize(self.allRates)\n",
    "                                    self.nextPossibleStems = self.allPossibleStems2\n",
    "                                    self.totalFlux = sum([r[0] for r in self.nextPossibleRates])\n",
    "                                else:\n",
    "                                    self.nextPossibleStems = hf.findNewStems(self.stemsInCurrentStructure, self.allPossibleStems2, self.allStructures2)\n",
    "                                    trialStructures, trialIndices = hf.makeTrialStructures(self.currentStructure, self.nextPossibleStems, self.allStructures, len(self.sequence))\n",
    "                                    self.nextPossibleRates = hf.updateReactionRates(trialStructures, trialIndices, self.allStructures, self.totalEntropies, stateEntropy, len(self.sequence))\n",
    "                                    for ind in self.stemsInCurrentStructure:\n",
    "                                        self.nextPossibleRates.insert(0, hf.findRate(ind, self.ratesBreak))\n",
    "                                    self.totalFlux = sum([r[0] for r in self.nextPossibleRates])\n",
    "                                    self.nextPossibleRates = hf.normalize(self.nextPossibleRates)\n",
    "                                return(self)\n",
    "\n",
    "    def runGillespie(self):\n",
    "        # run the gillespie algorithm until we reach maxTime\n",
    "        while self.time < self.maxTime:\n",
    "            self.MonteCarloStep()\n",
    "        return(self.convert2dot(self.currentStructure))"
   ]
  },
  {
   "cell_type": "code",
   "execution_count": 3,
   "metadata": {},
   "outputs": [],
   "source": [
    "def readFile(file):\n",
    "    record = {}\n",
    "    dots = ''\n",
    "    with open(file, \"r\") as f:\n",
    "        for i, line in enumerate(f):\n",
    "            if i == 0:\n",
    "                if len(line.split()[0]) < 4:\n",
    "                    length = int(line.split()[0])\n",
    "                    if length < 50:\n",
    "                        for line in f.readlines()[1:]:\n",
    "                            l = [x for x in line.split() if x != '']\n",
    "                            n = int(l[0])\n",
    "                            base = l[1]\n",
    "                            partner = int(l[4])\n",
    "                            record[n] = [base, partner]\n",
    "    seq = \"\".join([record[x][0] for x in sorted(record.keys())])\n",
    "    \n",
    "    for x in sorted(record.keys()):\n",
    "        val = record[x][1]\n",
    "        if val > x:\n",
    "            s = '('\n",
    "            dots += str_append(s)\n",
    "        elif val == 0:\n",
    "            s = '.'\n",
    "            dots += str_append(s)\n",
    "        elif val < x:\n",
    "            s = ')'\n",
    "            dots += str_append(s)\n",
    "    return seq, dots\n",
    "\n",
    "def compareStructs(pred, answer):\n",
    "    count = 0\n",
    "    for i in range(len(pred)):\n",
    "        if pred[i] != answer[i]:\n",
    "            count +=1\n",
    "    return count\n",
    "\n",
    "def str_append(s):\n",
    "    output = ''\n",
    "    output += s\n",
    "    return output"
   ]
  },
  {
   "cell_type": "code",
   "execution_count": 4,
   "metadata": {},
   "outputs": [],
   "source": [
    "seq_files = glob.glob('/Users/harrisonlabollita/Library/Mobile Documents/com~apple~CloudDocs/Arizona State University/Sulc group/data_set/ct_files/*')"
   ]
  },
  {
   "cell_type": "code",
   "execution_count": 5,
   "metadata": {},
   "outputs": [],
   "source": [
    "sequences = []\n",
    "dotbrackets = []\n",
    "seqLength = []\n",
    "\n",
    "for file in seq_files:\n",
    "    seq, dots = readFile(file)\n",
    "    if seq != 0:\n",
    "        sequences.append(seq)\n",
    "        dotbrackets.append(dots)\n",
    "        seqLength.append(len(seq))"
   ]
  },
  {
   "cell_type": "code",
   "execution_count": 6,
   "metadata": {},
   "outputs": [],
   "source": [
    "sequences2 = [ seq for seq in sequences if len(seq) > 0]\n",
    "dotbrackets2 = [dot for dot in dotbrackets if len(dot) > 0]"
   ]
  },
  {
   "cell_type": "code",
   "execution_count": 9,
   "metadata": {},
   "outputs": [
    {
     "name": "stdout",
     "output_type": "stream",
     "text": [
      "34.32142857142857\n",
      "46\n",
      "27\n"
     ]
    }
   ],
   "source": [
    "seqLength = [len(seq) for seq in sequences2]\n",
    "print(np.mean(seqLength))\n",
    "print(np.max(seqLength))\n",
    "print(np.min(seqLength))"
   ]
  },
  {
   "cell_type": "code",
   "execution_count": 29,
   "metadata": {},
   "outputs": [
    {
     "data": {
      "image/png": "[encoded data removed]",
      "text/plain": [
       "<Figure size 576x432 with 1 Axes>"
      ]
     },
     "metadata": {},
     "output_type": "display_data"
    }
   ],
   "source": [
    "plt.figure(figsize = (8,6))\n",
    "plt.title(r'{\\bf RFam RNA Sequences}', fontsize = 17)\n",
    "plt.grid(True, linestyle = ':', linewidth = 1)\n",
    "plt.hist(seqLength, bins = 10, histtype = 'bar', rwidth = 0.9, color = 'black', linewidth = 2)\n",
    "plt.xlabel(r'{\\bf Sequence Length}', fontsize = 15)\n",
    "plt.text(42.25, 8.5, r'Mean: %d ntds' %(34), fontsize = 15)\n",
    "plt.text(42.25, 8, r'Max: %d ntds' %(46), fontsize = 15)\n",
    "plt.text(42.25, 7.5, r'Min: %d ntds' %(27), fontsize = 15)\n",
    "plt.savefig('rfam.eps', format = 'eps')\n",
    "plt.show()"
   ]
  },
  {
   "cell_type": "code",
   "execution_count": 16,
   "metadata": {},
   "outputs": [],
   "source": [
    "vienna_mistakes = []\n",
    "for i in range(len(sequences2)-1):\n",
    "    pred = RNA.fold(sequences2[i])[0]\n",
    "    mist = compareStructs(pred, dotbrackets2[i])\n",
    "    mist /= len(sequences2[i])\n",
    "    vienna_mistakes.append(mist)   "
   ]
  },
  {
   "cell_type": "code",
   "execution_count": 17,
   "metadata": {},
   "outputs": [
    {
     "name": "stdout",
     "output_type": "stream",
     "text": [
      "27\n",
      "0.09897273675741847\n",
      "0.0\n",
      "0.5714285714285714\n"
     ]
    }
   ],
   "source": [
    "print(len(vienna_mistakes))\n",
    "print(np.mean(vienna_mistakes))\n",
    "print(np.min(vienna_mistakes))\n",
    "print(np.max(vienna_mistakes))"
   ]
  },
  {
   "cell_type": "code",
   "execution_count": 28,
   "metadata": {},
   "outputs": [
    {
     "data": {
      "image/png": "[encoded data removed]",
      "text/plain": [
       "<Figure size 576x432 with 1 Axes>"
      ]
     },
     "metadata": {},
     "output_type": "display_data"
    }
   ],
   "source": [
    "plt.figure(figsize = (8,6))\n",
    "plt.grid(True, linestyle = ':', linewidth = 1)\n",
    "plt.hist(vienna_mistakes, bins = 10, histtype = 'bar', rwidth = 0.9, color = 'black',linewidth = 2)\n",
    "plt.text(0.2, 12, r'Mean: %0.2f ' %(np.mean(vienna_mistakes)), fontsize = 15)\n",
    "plt.text(0.2, 11, r'Max: %0.2f ' %(np.max(vienna_mistakes)), fontsize = 15)\n",
    "plt.text(0.2, 10, r'Min: %0.2f ' %(np.min(vienna_mistakes)), fontsize = 15)\n",
    "plt.title(r'{\\bf ViennaRNA Benchmark}', fontsize = 17)\n",
    "plt.xlabel(r'{\\bf Percentage Incorrect}', fontsize = 15)\n",
    "plt.savefig('v_rna_bench.eps', format = 'eps')\n",
    "plt.show()"
   ]
  },
  {
   "cell_type": "code",
   "execution_count": 22,
   "metadata": {},
   "outputs": [
    {
     "ename": "AttributeError",
     "evalue": "'RNALandscape' object has no attribute 'fileTxt'",
     "output_type": "error",
     "traceback": [
      "\u001b[0;31m---------------------------------------------------------------------------\u001b[0m",
      "\u001b[0;31mAttributeError\u001b[0m                            Traceback (most recent call last)",
      "\u001b[0;32m<ipython-input-22-285889e692d6>\u001b[0m in \u001b[0;36m<module>\u001b[0;34m()\u001b[0m\n\u001b[1;32m      1\u001b[0m \u001b[0mtotal_misses\u001b[0m \u001b[0;34m=\u001b[0m \u001b[0;34m[\u001b[0m\u001b[0;34m]\u001b[0m\u001b[0;34m\u001b[0m\u001b[0m\n\u001b[1;32m      2\u001b[0m \u001b[0;32mfor\u001b[0m \u001b[0mi\u001b[0m \u001b[0;32min\u001b[0m \u001b[0mrange\u001b[0m\u001b[0;34m(\u001b[0m\u001b[0mlen\u001b[0m\u001b[0;34m(\u001b[0m\u001b[0msequences2\u001b[0m\u001b[0;34m)\u001b[0m\u001b[0;34m)\u001b[0m\u001b[0;34m:\u001b[0m\u001b[0;34m\u001b[0m\u001b[0m\n\u001b[0;32m----> 3\u001b[0;31m     \u001b[0mG\u001b[0m \u001b[0;34m=\u001b[0m \u001b[0mGillespie\u001b[0m\u001b[0;34m(\u001b[0m\u001b[0msequences2\u001b[0m\u001b[0;34m[\u001b[0m\u001b[0mi\u001b[0m\u001b[0;34m]\u001b[0m\u001b[0;34m,\u001b[0m \u001b[0;34m[\u001b[0m\u001b[0;34m]\u001b[0m\u001b[0;34m,\u001b[0m \u001b[0mmaxTime\u001b[0m \u001b[0;34m=\u001b[0m \u001b[0;36m5\u001b[0m\u001b[0;34m,\u001b[0m \u001b[0mtoPrint\u001b[0m \u001b[0;34m=\u001b[0m \u001b[0;32mFalse\u001b[0m\u001b[0;34m)\u001b[0m\u001b[0;34m\u001b[0m\u001b[0m\n\u001b[0m\u001b[1;32m      4\u001b[0m     \u001b[0mstructure\u001b[0m \u001b[0;34m=\u001b[0m \u001b[0mG\u001b[0m\u001b[0;34m.\u001b[0m\u001b[0mrunGillespie\u001b[0m\u001b[0;34m(\u001b[0m\u001b[0;34m)\u001b[0m\u001b[0;34m\u001b[0m\u001b[0m\n\u001b[1;32m      5\u001b[0m     \u001b[0mmistakes\u001b[0m \u001b[0;34m=\u001b[0m \u001b[0mcompareStructs\u001b[0m\u001b[0;34m(\u001b[0m\u001b[0mstructure\u001b[0m\u001b[0;34m,\u001b[0m \u001b[0mdotbrackets2\u001b[0m\u001b[0;34m[\u001b[0m\u001b[0mi\u001b[0m\u001b[0;34m]\u001b[0m\u001b[0;34m)\u001b[0m\u001b[0;34m\u001b[0m\u001b[0m\n",
      "\u001b[0;32m<ipython-input-2-295aaa7a8325>\u001b[0m in \u001b[0;36m__init__\u001b[0;34m(self, sequence, frozen, maxTime, toPrint)\u001b[0m\n\u001b[1;32m     10\u001b[0m \u001b[0;34m\u001b[0m\u001b[0m\n\u001b[1;32m     11\u001b[0m        \u001b[0;31m# STableBPs,             STableStructure,     compatibilityMatrix,       allStructures,                           stemEnergies,      stemEntropies,      totalEntropies\u001b[0m\u001b[0;34m\u001b[0m\u001b[0;34m\u001b[0m\u001b[0m\n\u001b[0;32m---> 12\u001b[0;31m         \u001b[0mself\u001b[0m\u001b[0;34m.\u001b[0m\u001b[0mallPossibleStems\u001b[0m\u001b[0;34m,\u001b[0m \u001b[0mself\u001b[0m\u001b[0;34m.\u001b[0m\u001b[0mSTableStructure\u001b[0m\u001b[0;34m,\u001b[0m \u001b[0mself\u001b[0m\u001b[0;34m.\u001b[0m\u001b[0mcompatibilityMatrix\u001b[0m\u001b[0;34m,\u001b[0m \u001b[0mself\u001b[0m\u001b[0;34m.\u001b[0m\u001b[0mallStructures\u001b[0m\u001b[0;34m,\u001b[0m \u001b[0mself\u001b[0m\u001b[0;34m.\u001b[0m\u001b[0mallStructures2\u001b[0m\u001b[0;34m,\u001b[0m \u001b[0mself\u001b[0m\u001b[0;34m.\u001b[0m\u001b[0mstemEnergies\u001b[0m\u001b[0;34m,\u001b[0m \u001b[0mself\u001b[0m\u001b[0;34m.\u001b[0m\u001b[0mstemEntropies\u001b[0m\u001b[0;34m,\u001b[0m \u001b[0mself\u001b[0m\u001b[0;34m.\u001b[0m\u001b[0mtotalEntropies\u001b[0m \u001b[0;34m=\u001b[0m \u001b[0mself\u001b[0m\u001b[0;34m.\u001b[0m\u001b[0minitialize\u001b[0m\u001b[0;34m(\u001b[0m\u001b[0msequence\u001b[0m\u001b[0;34m)\u001b[0m\u001b[0;34m\u001b[0m\u001b[0m\n\u001b[0m\u001b[1;32m     13\u001b[0m \u001b[0;34m\u001b[0m\u001b[0m\n\u001b[1;32m     14\u001b[0m         \u001b[0mself\u001b[0m\u001b[0;34m.\u001b[0m\u001b[0mallPossibleStems2\u001b[0m \u001b[0;34m=\u001b[0m \u001b[0;34m[\u001b[0m \u001b[0;34m[\u001b[0m\u001b[0mself\u001b[0m\u001b[0;34m.\u001b[0m\u001b[0mallPossibleStems\u001b[0m\u001b[0;34m[\u001b[0m\u001b[0mi\u001b[0m\u001b[0;34m]\u001b[0m\u001b[0;34m,\u001b[0m \u001b[0mi\u001b[0m\u001b[0;34m]\u001b[0m \u001b[0;32mfor\u001b[0m \u001b[0mi\u001b[0m \u001b[0;32min\u001b[0m \u001b[0mrange\u001b[0m\u001b[0;34m(\u001b[0m\u001b[0mlen\u001b[0m\u001b[0;34m(\u001b[0m\u001b[0mself\u001b[0m\u001b[0;34m.\u001b[0m\u001b[0mallPossibleStems\u001b[0m\u001b[0;34m)\u001b[0m\u001b[0;34m)\u001b[0m\u001b[0;34m]\u001b[0m\u001b[0;34m\u001b[0m\u001b[0m\n",
      "\u001b[0;32m<ipython-input-2-295aaa7a8325>\u001b[0m in \u001b[0;36minitialize\u001b[0;34m(self, sequence)\u001b[0m\n\u001b[1;32m     37\u001b[0m \u001b[0;34m\u001b[0m\u001b[0m\n\u001b[1;32m     38\u001b[0m         \u001b[0mq\u001b[0m \u001b[0;34m=\u001b[0m \u001b[0mRFE\u001b[0m\u001b[0;34m.\u001b[0m\u001b[0mRNALandscape\u001b[0m\u001b[0;34m(\u001b[0m\u001b[0;34m[\u001b[0m\u001b[0msequence\u001b[0m\u001b[0;34m]\u001b[0m\u001b[0;34m)\u001b[0m\u001b[0;34m\u001b[0m\u001b[0m\n\u001b[0;32m---> 39\u001b[0;31m         \u001b[0mq\u001b[0m\u001b[0;34m.\u001b[0m\u001b[0mcalculateFELandscape\u001b[0m\u001b[0;34m(\u001b[0m\u001b[0;34m)\u001b[0m\u001b[0;34m\u001b[0m\u001b[0m\n\u001b[0m\u001b[1;32m     40\u001b[0m \u001b[0;34m\u001b[0m\u001b[0m\n\u001b[1;32m     41\u001b[0m         \u001b[0msequenceInNumbers\u001b[0m \u001b[0;34m=\u001b[0m \u001b[0mq\u001b[0m\u001b[0;34m.\u001b[0m\u001b[0msequenceInNumbers\u001b[0m\u001b[0;34m\u001b[0m\u001b[0m\n",
      "\u001b[0;32m~/Library/Mobile Documents/com~apple~CloudDocs/Arizona State University/Sulc group/src/kinetic_RNA/RFE_landscape.py\u001b[0m in \u001b[0;36mcalculateFELandscape\u001b[0;34m(self)\u001b[0m\n\u001b[1;32m    432\u001b[0m         (self.bondFECounts, self.dangling5Count, self.dangling3Count,\n\u001b[1;32m    433\u001b[0m          \u001b[0mself\u001b[0m\u001b[0;34m.\u001b[0m\u001b[0mallNumVs\u001b[0m\u001b[0;34m,\u001b[0m \u001b[0mself\u001b[0m\u001b[0;34m.\u001b[0m\u001b[0mallComponentGraphs\u001b[0m\u001b[0;34m,\u001b[0m \u001b[0mself\u001b[0m\u001b[0;34m.\u001b[0m\u001b[0mstructureGraphList\u001b[0m\u001b[0;34m,\u001b[0m\u001b[0;34m\u001b[0m\u001b[0m\n\u001b[0;32m--> 434\u001b[0;31m          self.allWhichStructureGraph,self.unboundButCouldBindCounts) = self.calculateFreeEnergies()\n\u001b[0m\u001b[1;32m    435\u001b[0m \u001b[0;34m\u001b[0m\u001b[0m\n\u001b[1;32m    436\u001b[0m         \u001b[0;32mif\u001b[0m \u001b[0mself\u001b[0m\u001b[0;34m.\u001b[0m\u001b[0mprintProgressUpdate\u001b[0m\u001b[0;34m:\u001b[0m\u001b[0;34m\u001b[0m\u001b[0m\n",
      "\u001b[0;32m~/Library/Mobile Documents/com~apple~CloudDocs/Arizona State University/Sulc group/src/kinetic_RNA/RFE_landscape.py\u001b[0m in \u001b[0;36mcalculateFreeEnergies\u001b[0;34m(self)\u001b[0m\n\u001b[1;32m    861\u001b[0m \u001b[0;34m\u001b[0m\u001b[0m\n\u001b[1;32m    862\u001b[0m             \u001b[0;32mif\u001b[0m \u001b[0mwhichStruct\u001b[0m \u001b[0;34m%\u001b[0m \u001b[0;36m100000\u001b[0m \u001b[0;34m==\u001b[0m \u001b[0;36m0\u001b[0m \u001b[0;32mand\u001b[0m \u001b[0mwhichStruct\u001b[0m \u001b[0;34m>\u001b[0m \u001b[0;36m0\u001b[0m\u001b[0;34m:\u001b[0m\u001b[0;34m\u001b[0m\u001b[0m\n\u001b[0;32m--> 863\u001b[0;31m                 \u001b[0mmyPrintFxn\u001b[0m\u001b[0;34m(\u001b[0m\u001b[0;34m'Calculating free energies: whichStruct = '\u001b[0m \u001b[0;34m+\u001b[0m \u001b[0mstr\u001b[0m\u001b[0;34m(\u001b[0m\u001b[0mwhichStruct\u001b[0m\u001b[0;34m)\u001b[0m\u001b[0;34m,\u001b[0m \u001b[0mself\u001b[0m\u001b[0;34m.\u001b[0m\u001b[0mfileTxt\u001b[0m\u001b[0;34m)\u001b[0m\u001b[0;34m\u001b[0m\u001b[0m\n\u001b[0m\u001b[1;32m    864\u001b[0m                 \u001b[0mmyPrintFxn\u001b[0m\u001b[0;34m(\u001b[0m\u001b[0;34m'Time elapsed since start of CHECK = '\u001b[0m \u001b[0;34m+\u001b[0m \u001b[0mstr\u001b[0m\u001b[0;34m(\u001b[0m\u001b[0mtime\u001b[0m\u001b[0;34m.\u001b[0m\u001b[0mtime\u001b[0m\u001b[0;34m(\u001b[0m\u001b[0;34m)\u001b[0m \u001b[0;34m-\u001b[0m \u001b[0mself\u001b[0m\u001b[0;34m.\u001b[0m\u001b[0mcheckFxnStartTime\u001b[0m\u001b[0;34m)\u001b[0m\u001b[0;34m,\u001b[0m \u001b[0mself\u001b[0m\u001b[0;34m.\u001b[0m\u001b[0mfileTxt\u001b[0m\u001b[0;34m)\u001b[0m\u001b[0;34m\u001b[0m\u001b[0m\n\u001b[1;32m    865\u001b[0m                 \u001b[0;31m#myPrintFxn('', self.fileTxt) #add an extra line for clarity\u001b[0m\u001b[0;34m\u001b[0m\u001b[0;34m\u001b[0m\u001b[0m\n",
      "\u001b[0;31mAttributeError\u001b[0m: 'RNALandscape' object has no attribute 'fileTxt'"
     ]
    }
   ],
   "source": [
    "total_misses = []\n",
    "for i in range(len(sequences2)):\n",
    "    G = Gillespie(sequences2[i], [], maxTime = 5, toPrint = False)\n",
    "    structure = G.runGillespie()\n",
    "    mistakes = compareStructs(structure, dotbrackets2[i])\n",
    "    mistakes /= len(sequences2[i])\n",
    "    total_misses.append(mistakes)"
   ]
  },
  {
   "cell_type": "code",
   "execution_count": 23,
   "metadata": {},
   "outputs": [
    {
     "name": "stdout",
     "output_type": "stream",
     "text": [
      "26\n",
      "0.3823918907306047\n",
      "0.20689655172413793\n",
      "0.5365853658536586\n"
     ]
    }
   ],
   "source": [
    "print(len(total_misses))\n",
    "print(np.mean(total_misses))\n",
    "print(np.min(total_misses))\n",
    "print(np.max(total_misses))"
   ]
  },
  {
   "cell_type": "code",
   "execution_count": 30,
   "metadata": {},
   "outputs": [
    {
     "data": {
      "image/png": "[encoded data removed]",
      "text/plain": [
       "<Figure size 576x432 with 1 Axes>"
      ]
     },
     "metadata": {},
     "output_type": "display_data"
    }
   ],
   "source": [
    "plt.figure(figsize = (8,6))\n",
    "plt.grid(True, linestyle = ':', linewidth = 1)\n",
    "plt.hist(total_misses, bins = 10, histtype = 'bar', rwidth = 0.9, color = 'black',linewidth = 2)\n",
    "plt.text(0.22, 8, r'Mean: %0.2f ' %(np.mean(total_misses)), fontsize = 15)\n",
    "plt.text(0.22, 7.5, r'Max: %0.2f ' %(np.max(total_misses)), fontsize = 15)\n",
    "plt.text(0.22, 7, r'Min: %0.2f ' %(np.min(total_misses)), fontsize = 15)\n",
    "plt.title(r'{\\bf Gillespie Benchmark}', fontsize = 17)\n",
    "plt.xlabel(r'{\\bf Percentage Incorrect}', fontsize = 15)\n",
    "plt.savefig('gill_bench.eps', format = 'eps')\n",
    "plt.show()"
   ]
  },
  {
   "cell_type": "code",
   "execution_count": null,
   "metadata": {},
   "outputs": [],
   "source": []
  }
 ],
 "metadata": {
  "kernelspec": {
   "display_name": "Python 3",
   "language": "python",
   "name": "python3"
  },
  "language_info": {
   "codemirror_mode": {
    "name": "ipython",
    "version": 3
   },
   "file_extension": ".py",
   "mimetype": "text/x-python",
   "name": "python",
   "nbconvert_exporter": "python",
   "pygments_lexer": "ipython3",
   "version": "3.6.4"
  }
 },
 "nbformat": 4,
 "nbformat_minor": 2
}
