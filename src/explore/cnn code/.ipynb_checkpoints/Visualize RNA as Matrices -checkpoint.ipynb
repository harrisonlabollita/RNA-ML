{
 "cells": [
  {
   "cell_type": "markdown",
   "metadata": {},
   "source": [
    "# Visualize RNA Input Data for Convolutional Neural Network"
   ]
  },
  {
   "cell_type": "markdown",
   "metadata": {},
   "source": [
    "A convolutional neural networks (CNN) are a class of of neural networks that are designed specifically for image processing. Recently,[ _Zhang et. al. (2019)_ ](https://www.frontiersin.org/articles/10.3389/fgene.2019.00467/full) created a convolutional neural network to predict RNA secondary structures. I would like to implement there technique and further improve on their architecture by implementing more advanced machine learning techniques. However, to begin, I will recreate there method of transforming the input data of RNA sequences into matrices that can be interpretted as images to the CNN."
   ]
  },
  {
   "cell_type": "markdown",
   "metadata": {},
   "source": [
    "# Sequences to Matrices"
   ]
  },
  {
   "cell_type": "markdown",
   "metadata": {},
   "source": [
    "Given an RNA sequences, I will turn it into a 2D image. The algorithm can be found on pg. 5 in [ _Zhang et. al. (2019)_ ](https://www.frontiersin.org/articles/10.3389/fgene.2019.00467/full). The code I have written to implement this algorithm is"
   ]
  },
  {
   "cell_type": "code",
   "execution_count": 1,
   "metadata": {},
   "outputs": [],
   "source": [
    "import numpy as np\n",
    "\n",
    "# Helper function for finding possible base pairs\n",
    "def pairs(a, b, x):\n",
    "    if a == 'A' and b == 'U' or a == 'U' and b == 'A':\n",
    "        return 2.0\n",
    "    elif a == 'G' and b == 'C' or a == 'C' and b == 'G':\n",
    "        return 3.0\n",
    "    elif a == 'U' and b == 'G' or a == 'G' and b == 'U':\n",
    "        return x\n",
    "    else:\n",
    "        return 0\n",
    "\n",
    "def RNAmatrix(seq):\n",
    "    N = len(seq)\n",
    "    rnaMatrix = np.zeros((N, N)) # Create empty matrx\n",
    "    for i in range(N):\n",
    "        for j in range(N):\n",
    "            weight = 0\n",
    "            rnaMatrix[i][j] = pairs(seq[i], seq[j], 0.8) # Can R_i pair with R_j ? \n",
    "            if rnaMatrix[i][j] > 0: # Yes\n",
    "                alpha = 0\n",
    "                while i - alpha >= 0 and j + alpha <N: # Loop through possible other pairs in the sequence\n",
    "                    P = pairs(seq[i -alpha], seq[j + alpha], 0.8)\n",
    "                    if P == 0:\n",
    "                        break\n",
    "                    else:\n",
    "                        weight += np.exp(-0.5 * alpha * alpha) * P\n",
    "                        alpha +=1\n",
    "            if weight > 0: # Loop through possible other pairs in the sequence\n",
    "                beta = 1\n",
    "                while i + beta < N and j - beta >=0:\n",
    "                    P = pairs(seq[i + beta], seq[j - beta], 0.8)\n",
    "                    if P == 0:\n",
    "                        break\n",
    "                    else:\n",
    "                        weight += np.exp(-0.5 * beta * beta) * P\n",
    "                        beta +=1\n",
    "            rnaMatrix[i][j] = weight # Set the matrix element equal to the weight \n",
    "    rnaMatrix /= np.amax(rnaMatrix) # Normalize the matrix between 0 and 1\n",
    "    rnaMatrix = np.array(rnaMatrix) # Transform to array\n",
    "    return rnaMatrix"
   ]
  },
  {
   "cell_type": "code",
   "execution_count": null,
   "metadata": {},
   "outputs": [],
   "source": []
  }
 ],
 "metadata": {
  "kernelspec": {
   "display_name": "Python 3",
   "language": "python",
   "name": "python3"
  },
  "language_info": {
   "codemirror_mode": {
    "name": "ipython",
    "version": 3
   },
   "file_extension": ".py",
   "mimetype": "text/x-python",
   "name": "python",
   "nbconvert_exporter": "python",
   "pygments_lexer": "ipython3",
   "version": "3.6.4"
  }
 },
 "nbformat": 4,
 "nbformat_minor": 2
}
