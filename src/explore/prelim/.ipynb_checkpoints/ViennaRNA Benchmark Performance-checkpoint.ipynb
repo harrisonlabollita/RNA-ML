{
 "cells": [
  {
   "cell_type": "markdown",
   "metadata": {},
   "source": [
    "# ViennaRNA Benchmark Performance\n",
    "*Harrison LaBollita*"
   ]
  },
  {
   "cell_type": "markdown",
   "metadata": {},
   "source": [
    "As a benchmark, we perform statistical analysis on the performance of the *C* package *ViennaRNA* written to predict the secondary structure of RNA sequeneces. This package is maintained by [this group](https://www.tbi.univie.ac.at/RNA/).\n",
    "\n",
    "We compare *ViennaRNA*'s prediction of the dot-bracket representation to the target dot-bracket representation for that sequence. We keep track of the number of incorrect predictions per sequences, as well as, what was incorrectly predicted, i.e., predicted a '.' instead of '(', etc. We have then histogramed the results to show the distribution of the number of prediction mistakes per sequence."
   ]
  },
  {
   "cell_type": "code",
   "execution_count": 1,
   "metadata": {},
   "outputs": [],
   "source": [
    "import numpy as np\n",
    "import RNA\n",
    "import matplotlib.pyplot as plt\n",
    "import csv\n",
    "\n",
    "filename = '/Users/harrisonlabollita/Library/Mobile Documents/com~apple~CloudDocs/Arizona State University/Sulc group/src/code/RNA_data_set.csv'\n",
    "\n",
    "def readData(filename):\n",
    "    # Input: filename (as .csv)\n",
    "    # Output: RNA sequences, dot Bracket representation, and free energy\n",
    "    with open(filename) as f:\n",
    "        next(f)\n",
    "        sequs = csv.reader(f)\n",
    "        data = []\n",
    "        for seq in sequs:\n",
    "            data.append(seq)\n",
    "        data = np.asarray(data)\n",
    "        seq, dot, free = refineData(data)\n",
    "    return seq, dot, free\n",
    "\n",
    "def refineData(data):\n",
    "    freeEnergy = []\n",
    "    sequences = []\n",
    "    dotBrackets = []\n",
    "    for i in range(len(data)):\n",
    "        sequences.append(data[i][0])\n",
    "        dotBrackets.append(data[i][1])\n",
    "        freeEnergy.append(data[i][2])\n",
    "    sequences = np.asarray(sequences)\n",
    "    dotBrackets = np.asarray(dotBrackets)\n",
    "    freeEnergy = np.asarray(freeEnergy)\n",
    "    return sequences, dotBrackets, freeEnergy\n",
    "\n",
    "def viennaPredict(sequences):\n",
    "    predictions = []\n",
    "    energies = []\n",
    "    for i in range(len(sequences)):\n",
    "        pred, energy = RNA.fold(sequences[i])\n",
    "        predictions.append(pred)\n",
    "        energies.append(energy)\n",
    "\n",
    "    return predictions, energies\n",
    "\n",
    "\n",
    "def compare(prediction, target):\n",
    "    if prediction == target:\n",
    "        return 0\n",
    "    else:\n",
    "        if target == '(':\n",
    "            return 1\n",
    "        elif target == ')':\n",
    "            return 2\n",
    "        else:\n",
    "            return 3"
   ]
  },
  {
   "cell_type": "code",
   "execution_count": 2,
   "metadata": {},
   "outputs": [],
   "source": [
    "sequences, dotBrackets, freeEnergies = readData(filename)\n",
    "vPredictions, vEnergies = viennaPredict(sequences)"
   ]
  },
  {
   "cell_type": "code",
   "execution_count": 18,
   "metadata": {},
   "outputs": [
    {
     "name": "stdout",
     "output_type": "stream",
     "text": [
      "|--------------------------|\n",
      "|   ViennaRNA Performance  |\n",
      "|--------------------------|\n",
      "|  Accuracy   |    45.41   |\n",
      "|  Mean       |    8       |\n",
      "|  StDev      |    5.60    |\n",
      "|  Worst      |    27.00   |\n",
      "|  openErr    |    28.05   |\n",
      "|  closeErr   |    28.14   |\n",
      "|  dotErr     |    43.81   |\n",
      "|--------------------------|\n"
     ]
    }
   ],
   "source": [
    "incorrect = [] # Array to track how many mistakes Vienna RNA made for each sequence, the length will give us the total number of incorrect.\n",
    "correct = 0 # counter for the number of sequences Vienna RNA correctly predicts\n",
    "openErrors = []\n",
    "closeErrors = []\n",
    "dotErrors = []\n",
    "incorrect_sequences = []\n",
    "incorrect_dotBrackets = []\n",
    "\n",
    "for i in range(len(dotBrackets)):\n",
    "    # Loop throught all of the source dot-bracket representations\n",
    "    mistake = 0 # counter for the number of mistakes that Vienna RNA made\n",
    "    open = 0\n",
    "    close = 0\n",
    "    dot = 0\n",
    "    for j in range(len(dotBrackets[i])):\n",
    "        # Run through each sequence of dot-brackets\n",
    "        val = compare(vPredictions[i][j], dotBrackets[i][j])\n",
    "        if val == 0:\n",
    "            mistake +=0\n",
    "        else:\n",
    "            mistake += 1\n",
    "            if val == 1:\n",
    "                open +=1\n",
    "            elif val == 2:\n",
    "                close +=1\n",
    "            else:\n",
    "                dot += 1\n",
    "    if mistake == 0:\n",
    "        # if the mistake counter is still 0, then Vienna RNA correctly predcited the base pairs\n",
    "        correct += 1\n",
    "    else:\n",
    "        incorrect.append(mistake)\n",
    "        incorrect_sequences.append(sequences[i])\n",
    "        incorrect_dotBrackets.append(dotBrackets[i])\n",
    "        openErrors.append(open)\n",
    "        closeErrors.append(close)\n",
    "        dotErrors.append(dot)\n",
    "\n",
    "totalErrors = np.sum(openErrors) + np.sum(closeErrors) + np.sum(dotErrors)\n",
    "lessThan = 0\n",
    "for i in range(len(incorrect)):\n",
    "    if incorrect[i] < 10:\n",
    "        lessThan+=1\n",
    "\n",
    "print('|--------------------------|')\n",
    "print('|   ViennaRNA Performance  |')\n",
    "print('|--------------------------|')\n",
    "print('|  Accuracy   |    %0.2f   |' %((correct/len(dotBrackets))*100))\n",
    "print('|  Mean       |    %d       |' %(np.mean(incorrect)))\n",
    "print('|  StDev      |    %0.2f    |' %(np.std(incorrect)))\n",
    "print('|  Worst      |    %0.2f   |' %(max(incorrect)))\n",
    "print('|  openErr    |    %0.2f   |' %((np.sum(openErrors)/totalErrors)*100))\n",
    "print('|  closeErr   |    %0.2f   |' %((np.sum(closeErrors)/totalErrors)*100))\n",
    "print('|  dotErr     |    %0.2f   |'  %((np.sum(dotErrors)/totalErrors)*100))\n",
    "print('|--------------------------|')"
   ]
  },
  {
   "cell_type": "markdown",
   "metadata": {},
   "source": [
    "## ViennaRNA Performance\n",
    "The performance of *ViennaRNA* tabularized. We have the accuarcy, the mean number of mistakes per sequence, the standard deviation. The worst sequence predicted had 27 mistakes in the prediction. We have also found what percent of the total number of mistakes were open parentheses, closed parentheses, and dots.\n",
    "\n",
    "| ViennaRNA | Performance |\n",
    "| :--------: | :--------:|\n",
    "| Accuarcy | 45.41% |\n",
    "| Mean     |   8  |\n",
    "| StDev   |   5.60 |\n",
    "| Worst  |  27 |\n",
    "| openErr | 28.05% | \n",
    "| closeErr | 28.14% |\n",
    "| dotError | 43.81% | "
   ]
  },
  {
   "cell_type": "markdown",
   "metadata": {},
   "source": [
    "### The Worst Prediction"
   ]
  },
  {
   "cell_type": "code",
   "execution_count": 21,
   "metadata": {},
   "outputs": [
    {
     "name": "stdout",
     "output_type": "stream",
     "text": [
      "GUGUCUAGGACGGGGUUUAAACACGACCUC\n",
      "((((.((((......)))).))))......\n",
      "..............................\n",
      "27\n"
     ]
    }
   ],
   "source": [
    "print(incorrect_sequences[np.argmax(incorrect)])\n",
    "print(incorrect_dotBrackets[np.argmax(incorrect)])\n",
    "print(vPredictions[np.argmax(incorrect)])\n",
    "print(incorrect[np.argmax(incorrect)])"
   ]
  },
  {
   "cell_type": "markdown",
   "metadata": {},
   "source": [
    "## Histogram of Results"
   ]
  },
  {
   "cell_type": "code",
   "execution_count": 23,
   "metadata": {},
   "outputs": [
    {
     "data": {
      "image/png": "[encoded data removed]",
      "text/plain": [
       "<Figure size 432x288 with 1 Axes>"
      ]
     },
     "metadata": {},
     "output_type": "display_data"
    }
   ],
   "source": [
    "plt.figure()\n",
    "plt.title('ViennaRNA Performance')\n",
    "plt.grid(True, linestyle = ':', linewidth = 1)\n",
    "plt.hist(incorrect, bins = 10, histtype = 'bar', rwidth = 0.9, color = 'black', alpha = 0.9, linewidth = 2)\n",
    "plt.text(20, 17500, r'Mean: %d' %(np.mean(incorrect)))\n",
    "plt.text(20, 16300, r'StDev: %0.2f' %(np.std(incorrect)))\n",
    "plt.text(20, 15000, r'< 10 errs: %d' %(lessThan))\n",
    "plt.xlabel('Errors/Sequence')\n",
    "plt.ylabel('Frequency')\n",
    "plt.show()"
   ]
  }
 ],
 "metadata": {
  "kernelspec": {
   "display_name": "Python 3",
   "language": "python",
   "name": "python3"
  },
  "language_info": {
   "codemirror_mode": {
    "name": "ipython",
    "version": 3
   },
   "file_extension": ".py",
   "mimetype": "text/x-python",
   "name": "python",
   "nbconvert_exporter": "python",
   "pygments_lexer": "ipython3",
   "version": "3.6.4"
  }
 },
 "nbformat": 4,
 "nbformat_minor": 2
}
