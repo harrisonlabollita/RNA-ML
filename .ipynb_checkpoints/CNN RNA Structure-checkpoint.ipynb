{
 "cells": [
  {
   "cell_type": "markdown",
   "metadata": {},
   "source": [
    "# Convolutional Neural Network for RNA Structure Prediction"
   ]
  },
  {
   "cell_type": "code",
   "execution_count": null,
   "metadata": {},
   "outputs": [],
   "source": [
    "import numpy as np\n",
    "import matplotlib.pyplot as plt\n",
    "import prepare_data as data\n",
    "import time"
   ]
  },
  {
   "cell_type": "code",
   "execution_count": 2,
   "metadata": {},
   "outputs": [],
   "source": [
    "filename_train_src = '/Users/harrisonlabollita/Library/Mobile Documents/com~apple~CloudDocs/Arizona State University/Sulc group/src/code/RNAtrain_src.txt'\n",
    "filename_train_tgt = '/Users/harrisonlabollita/Library/Mobile Documents/com~apple~CloudDocs/Arizona State University/Sulc group/src/code/RNAtrain_tgt.txt'\n",
    "filename_test_src = '/Users/harrisonlabollita/Library/Mobile Documents/com~apple~CloudDocs/Arizona State University/Sulc group/src/code/RNAtest_src.txt'\n",
    "filename_test_tgt = '/Users/harrisonlabollita/Library/Mobile Documents/com~apple~CloudDocs/Arizona State University/Sulc group/src/code/RNAtest_tgt.txt'"
   ]
  },
  {
   "cell_type": "code",
   "execution_count": 3,
   "metadata": {},
   "outputs": [
    {
     "name": "stdout",
     "output_type": "stream",
     "text": [
      "DATASET INFO\n",
      "Number of sequences in training set: 80000\n",
      "Number of sequences in testing set: 20000\n",
      "Length of sequences: 30\n",
      "Converting training sequences to matrices\n",
      "Done!\n",
      "Converting testing sequences to matrices\n",
      "Done!\n",
      "Sequence to matrices total time: 874.210\n"
     ]
    }
   ],
   "source": [
    "train_src = np.array(data.RNAsequences(filename_train_src))\n",
    "train_tgt = np.array(data.structureRep(filename_train_tgt))\n",
    "test_src = np.array(data.RNAsequences(filename_test_src))\n",
    "test_tgt = np.array(data.structureRep(filename_test_tgt))\n",
    "\n",
    "data.training_information(train_src, test_src)\n",
    "\n",
    "start = time.time()\n",
    "print('Converting training sequences to matrices')\n",
    "train_src = data.seqs2matrices(train_src)\n",
    "train_src = train_src.reshape(len(train_src), 30, 30, 1)\n",
    "print('Done!')\n",
    "print('Converting testing sequences to matrices')\n",
    "test_src = data.seqs2matrices(test_src)\n",
    "test_src = test_src.reshape(len(test_src), 30, 30, 1)\n",
    "print('Done!')\n",
    "end = time.time()\n",
    "print('Sequence to matrices total time: %0.3f'%(end - start))"
   ]
  },
  {
   "cell_type": "code",
   "execution_count": 5,
   "metadata": {},
   "outputs": [
    {
     "ename": "TypeError",
     "evalue": "Invalid shape (30, 30, 1) for image data",
     "output_type": "error",
     "traceback": [
      "\u001b[0;31m---------------------------------------------------------------------------\u001b[0m",
      "\u001b[0;31mTypeError\u001b[0m                                 Traceback (most recent call last)",
      "\u001b[0;32m<ipython-input-5-79eb1ea146b0>\u001b[0m in \u001b[0;36m<module>\u001b[0;34m()\u001b[0m\n\u001b[1;32m      1\u001b[0m \u001b[0mplt\u001b[0m\u001b[0;34m.\u001b[0m\u001b[0mfigure\u001b[0m\u001b[0;34m(\u001b[0m\u001b[0;34m)\u001b[0m\u001b[0;34m\u001b[0m\u001b[0m\n\u001b[0;32m----> 2\u001b[0;31m \u001b[0mplt\u001b[0m\u001b[0;34m.\u001b[0m\u001b[0mimshow\u001b[0m\u001b[0;34m(\u001b[0m\u001b[0mtrain_src\u001b[0m\u001b[0;34m[\u001b[0m\u001b[0;36m0\u001b[0m\u001b[0;34m]\u001b[0m\u001b[0;34m,\u001b[0m \u001b[0mcmap\u001b[0m \u001b[0;34m=\u001b[0m \u001b[0;34m'binary'\u001b[0m\u001b[0;34m)\u001b[0m\u001b[0;34m\u001b[0m\u001b[0m\n\u001b[0m\u001b[1;32m      3\u001b[0m \u001b[0mplt\u001b[0m\u001b[0;34m.\u001b[0m\u001b[0mshow\u001b[0m\u001b[0;34m(\u001b[0m\u001b[0;34m)\u001b[0m\u001b[0;34m\u001b[0m\u001b[0m\n",
      "\u001b[0;32m/anaconda3/lib/python3.6/site-packages/matplotlib/pyplot.py\u001b[0m in \u001b[0;36mimshow\u001b[0;34m(X, cmap, norm, aspect, interpolation, alpha, vmin, vmax, origin, extent, shape, filternorm, filterrad, imlim, resample, url, data, **kwargs)\u001b[0m\n\u001b[1;32m   2675\u001b[0m         \u001b[0mfilternorm\u001b[0m\u001b[0;34m=\u001b[0m\u001b[0mfilternorm\u001b[0m\u001b[0;34m,\u001b[0m \u001b[0mfilterrad\u001b[0m\u001b[0;34m=\u001b[0m\u001b[0mfilterrad\u001b[0m\u001b[0;34m,\u001b[0m \u001b[0mimlim\u001b[0m\u001b[0;34m=\u001b[0m\u001b[0mimlim\u001b[0m\u001b[0;34m,\u001b[0m\u001b[0;34m\u001b[0m\u001b[0m\n\u001b[1;32m   2676\u001b[0m         resample=resample, url=url, **({\"data\": data} if data is not\n\u001b[0;32m-> 2677\u001b[0;31m         None else {}), **kwargs)\n\u001b[0m\u001b[1;32m   2678\u001b[0m     \u001b[0msci\u001b[0m\u001b[0;34m(\u001b[0m\u001b[0m__ret\u001b[0m\u001b[0;34m)\u001b[0m\u001b[0;34m\u001b[0m\u001b[0m\n\u001b[1;32m   2679\u001b[0m     \u001b[0;32mreturn\u001b[0m \u001b[0m__ret\u001b[0m\u001b[0;34m\u001b[0m\u001b[0m\n",
      "\u001b[0;32m/anaconda3/lib/python3.6/site-packages/matplotlib/__init__.py\u001b[0m in \u001b[0;36minner\u001b[0;34m(ax, data, *args, **kwargs)\u001b[0m\n\u001b[1;32m   1587\u001b[0m     \u001b[0;32mdef\u001b[0m \u001b[0minner\u001b[0m\u001b[0;34m(\u001b[0m\u001b[0max\u001b[0m\u001b[0;34m,\u001b[0m \u001b[0;34m*\u001b[0m\u001b[0margs\u001b[0m\u001b[0;34m,\u001b[0m \u001b[0mdata\u001b[0m\u001b[0;34m=\u001b[0m\u001b[0;32mNone\u001b[0m\u001b[0;34m,\u001b[0m \u001b[0;34m**\u001b[0m\u001b[0mkwargs\u001b[0m\u001b[0;34m)\u001b[0m\u001b[0;34m:\u001b[0m\u001b[0;34m\u001b[0m\u001b[0m\n\u001b[1;32m   1588\u001b[0m         \u001b[0;32mif\u001b[0m \u001b[0mdata\u001b[0m \u001b[0;32mis\u001b[0m \u001b[0;32mNone\u001b[0m\u001b[0;34m:\u001b[0m\u001b[0;34m\u001b[0m\u001b[0m\n\u001b[0;32m-> 1589\u001b[0;31m             \u001b[0;32mreturn\u001b[0m \u001b[0mfunc\u001b[0m\u001b[0;34m(\u001b[0m\u001b[0max\u001b[0m\u001b[0;34m,\u001b[0m \u001b[0;34m*\u001b[0m\u001b[0mmap\u001b[0m\u001b[0;34m(\u001b[0m\u001b[0msanitize_sequence\u001b[0m\u001b[0;34m,\u001b[0m \u001b[0margs\u001b[0m\u001b[0;34m)\u001b[0m\u001b[0;34m,\u001b[0m \u001b[0;34m**\u001b[0m\u001b[0mkwargs\u001b[0m\u001b[0;34m)\u001b[0m\u001b[0;34m\u001b[0m\u001b[0m\n\u001b[0m\u001b[1;32m   1590\u001b[0m \u001b[0;34m\u001b[0m\u001b[0m\n\u001b[1;32m   1591\u001b[0m         \u001b[0mbound\u001b[0m \u001b[0;34m=\u001b[0m \u001b[0mnew_sig\u001b[0m\u001b[0;34m.\u001b[0m\u001b[0mbind\u001b[0m\u001b[0;34m(\u001b[0m\u001b[0max\u001b[0m\u001b[0;34m,\u001b[0m \u001b[0;34m*\u001b[0m\u001b[0margs\u001b[0m\u001b[0;34m,\u001b[0m \u001b[0;34m**\u001b[0m\u001b[0mkwargs\u001b[0m\u001b[0;34m)\u001b[0m\u001b[0;34m\u001b[0m\u001b[0m\n",
      "\u001b[0;32m/anaconda3/lib/python3.6/site-packages/matplotlib/cbook/deprecation.py\u001b[0m in \u001b[0;36mwrapper\u001b[0;34m(*args, **kwargs)\u001b[0m\n\u001b[1;32m    367\u001b[0m                 \u001b[0;34mf\"%(removal)s.  If any parameter follows {name!r}, they \"\u001b[0m\u001b[0;34m\u001b[0m\u001b[0m\n\u001b[1;32m    368\u001b[0m                 f\"should be pass as keyword, not positionally.\")\n\u001b[0;32m--> 369\u001b[0;31m         \u001b[0;32mreturn\u001b[0m \u001b[0mfunc\u001b[0m\u001b[0;34m(\u001b[0m\u001b[0;34m*\u001b[0m\u001b[0margs\u001b[0m\u001b[0;34m,\u001b[0m \u001b[0;34m**\u001b[0m\u001b[0mkwargs\u001b[0m\u001b[0;34m)\u001b[0m\u001b[0;34m\u001b[0m\u001b[0m\n\u001b[0m\u001b[1;32m    370\u001b[0m \u001b[0;34m\u001b[0m\u001b[0m\n\u001b[1;32m    371\u001b[0m     \u001b[0;32mreturn\u001b[0m \u001b[0mwrapper\u001b[0m\u001b[0;34m\u001b[0m\u001b[0m\n",
      "\u001b[0;32m/anaconda3/lib/python3.6/site-packages/matplotlib/cbook/deprecation.py\u001b[0m in \u001b[0;36mwrapper\u001b[0;34m(*args, **kwargs)\u001b[0m\n\u001b[1;32m    367\u001b[0m                 \u001b[0;34mf\"%(removal)s.  If any parameter follows {name!r}, they \"\u001b[0m\u001b[0;34m\u001b[0m\u001b[0m\n\u001b[1;32m    368\u001b[0m                 f\"should be pass as keyword, not positionally.\")\n\u001b[0;32m--> 369\u001b[0;31m         \u001b[0;32mreturn\u001b[0m \u001b[0mfunc\u001b[0m\u001b[0;34m(\u001b[0m\u001b[0;34m*\u001b[0m\u001b[0margs\u001b[0m\u001b[0;34m,\u001b[0m \u001b[0;34m**\u001b[0m\u001b[0mkwargs\u001b[0m\u001b[0;34m)\u001b[0m\u001b[0;34m\u001b[0m\u001b[0m\n\u001b[0m\u001b[1;32m    370\u001b[0m \u001b[0;34m\u001b[0m\u001b[0m\n\u001b[1;32m    371\u001b[0m     \u001b[0;32mreturn\u001b[0m \u001b[0mwrapper\u001b[0m\u001b[0;34m\u001b[0m\u001b[0m\n",
      "\u001b[0;32m/anaconda3/lib/python3.6/site-packages/matplotlib/axes/_axes.py\u001b[0m in \u001b[0;36mimshow\u001b[0;34m(self, X, cmap, norm, aspect, interpolation, alpha, vmin, vmax, origin, extent, shape, filternorm, filterrad, imlim, resample, url, **kwargs)\u001b[0m\n\u001b[1;32m   5658\u001b[0m                               resample=resample, **kwargs)\n\u001b[1;32m   5659\u001b[0m \u001b[0;34m\u001b[0m\u001b[0m\n\u001b[0;32m-> 5660\u001b[0;31m         \u001b[0mim\u001b[0m\u001b[0;34m.\u001b[0m\u001b[0mset_data\u001b[0m\u001b[0;34m(\u001b[0m\u001b[0mX\u001b[0m\u001b[0;34m)\u001b[0m\u001b[0;34m\u001b[0m\u001b[0m\n\u001b[0m\u001b[1;32m   5661\u001b[0m         \u001b[0mim\u001b[0m\u001b[0;34m.\u001b[0m\u001b[0mset_alpha\u001b[0m\u001b[0;34m(\u001b[0m\u001b[0malpha\u001b[0m\u001b[0;34m)\u001b[0m\u001b[0;34m\u001b[0m\u001b[0m\n\u001b[1;32m   5662\u001b[0m         \u001b[0;32mif\u001b[0m \u001b[0mim\u001b[0m\u001b[0;34m.\u001b[0m\u001b[0mget_clip_path\u001b[0m\u001b[0;34m(\u001b[0m\u001b[0;34m)\u001b[0m \u001b[0;32mis\u001b[0m \u001b[0;32mNone\u001b[0m\u001b[0;34m:\u001b[0m\u001b[0;34m\u001b[0m\u001b[0m\n",
      "\u001b[0;32m/anaconda3/lib/python3.6/site-packages/matplotlib/image.py\u001b[0m in \u001b[0;36mset_data\u001b[0;34m(self, A)\u001b[0m\n\u001b[1;32m    681\u001b[0m                 or self._A.ndim == 3 and self._A.shape[-1] in [3, 4]):\n\u001b[1;32m    682\u001b[0m             raise TypeError(\"Invalid shape {} for image data\"\n\u001b[0;32m--> 683\u001b[0;31m                             .format(self._A.shape))\n\u001b[0m\u001b[1;32m    684\u001b[0m \u001b[0;34m\u001b[0m\u001b[0m\n\u001b[1;32m    685\u001b[0m         \u001b[0;32mif\u001b[0m \u001b[0mself\u001b[0m\u001b[0;34m.\u001b[0m\u001b[0m_A\u001b[0m\u001b[0;34m.\u001b[0m\u001b[0mndim\u001b[0m \u001b[0;34m==\u001b[0m \u001b[0;36m3\u001b[0m\u001b[0;34m:\u001b[0m\u001b[0;34m\u001b[0m\u001b[0m\n",
      "\u001b[0;31mTypeError\u001b[0m: Invalid shape (30, 30, 1) for image data"
     ]
    },
    {
     "data": {
      "image/png": "[encoded data removed]",
      "text/plain": [
       "<Figure size 432x288 with 1 Axes>"
      ]
     },
     "metadata": {},
     "output_type": "display_data"
    }
   ],
   "source": [
    "plt.figure()\n",
    "plt.imshow(train_src[0], cmap = 'binary')\n",
    "plt.show()"
   ]
  },
  {
   "cell_type": "code",
   "execution_count": 6,
   "metadata": {},
   "outputs": [
    {
     "name": "stderr",
     "output_type": "stream",
     "text": [
      "/anaconda3/lib/python3.6/site-packages/h5py/__init__.py:36: FutureWarning: Conversion of the second argument of issubdtype from `float` to `np.floating` is deprecated. In future, it will be treated as `np.float64 == np.dtype(float).type`.\n",
      "  from ._conv import register_converters as _register_converters\n",
      "Using TensorFlow backend.\n"
     ]
    },
    {
     "name": "stdout",
     "output_type": "stream",
     "text": [
      "Train on 80000 samples, validate on 20000 samples\n",
      "Epoch 1/50\n",
      "80000/80000 [==============================] - 30s 375us/step - loss: 0.8392 - acc: 0.1655 - val_loss: 0.8056 - val_acc: 0.3342\n",
      "Epoch 2/50\n",
      "80000/80000 [==============================] - 32s 394us/step - loss: 0.8059 - acc: 0.4603 - val_loss: 0.8056 - val_acc: 0.5577\n",
      "Epoch 3/50\n",
      "80000/80000 [==============================] - 31s 387us/step - loss: 0.8059 - acc: 0.6261 - val_loss: 0.8056 - val_acc: 0.6811\n",
      "Epoch 4/50\n",
      "80000/80000 [==============================] - 29s 361us/step - loss: 0.8059 - acc: 0.7164 - val_loss: 0.8056 - val_acc: 0.7420\n",
      "Epoch 5/50\n",
      "80000/80000 [==============================] - 28s 354us/step - loss: 0.8059 - acc: 0.7614 - val_loss: 0.8056 - val_acc: 0.7739\n",
      "Epoch 6/50\n",
      "80000/80000 [==============================] - 28s 355us/step - loss: 0.8059 - acc: 0.7843 - val_loss: 0.8056 - val_acc: 0.7921\n",
      "Epoch 7/50\n",
      "80000/80000 [==============================] - 28s 354us/step - loss: 0.8059 - acc: 0.7974 - val_loss: 0.8056 - val_acc: 0.8011\n",
      "Epoch 8/50\n",
      "80000/80000 [==============================] - 29s 363us/step - loss: 0.8059 - acc: 0.8045 - val_loss: 0.8056 - val_acc: 0.8065\n",
      "Epoch 9/50\n",
      "80000/80000 [==============================] - 30s 377us/step - loss: 0.8059 - acc: 0.8088 - val_loss: 0.8056 - val_acc: 0.8097\n",
      "Epoch 10/50\n",
      "80000/80000 [==============================] - 34s 424us/step - loss: 0.8059 - acc: 0.8110 - val_loss: 0.8056 - val_acc: 0.8115\n",
      "Epoch 11/50\n",
      "80000/80000 [==============================] - 29s 361us/step - loss: 0.8059 - acc: 0.8125 - val_loss: 0.8056 - val_acc: 0.8123\n",
      "Epoch 12/50\n",
      "80000/80000 [==============================] - 29s 359us/step - loss: 0.8059 - acc: 0.8133 - val_loss: 0.8056 - val_acc: 0.8130\n",
      "Epoch 13/50\n",
      "80000/80000 [==============================] - 32s 396us/step - loss: 0.8059 - acc: 0.8139 - val_loss: 0.8056 - val_acc: 0.8136\n",
      "Epoch 14/50\n",
      "80000/80000 [==============================] - 29s 366us/step - loss: 0.8059 - acc: 0.8142 - val_loss: 0.8056 - val_acc: 0.8140\n",
      "Epoch 15/50\n",
      "80000/80000 [==============================] - 30s 378us/step - loss: 0.8059 - acc: 0.8144 - val_loss: 0.8056 - val_acc: 0.8141\n",
      "Epoch 16/50\n",
      "80000/80000 [==============================] - 31s 387us/step - loss: 0.8059 - acc: 0.8146 - val_loss: 0.8056 - val_acc: 0.8142\n",
      "Epoch 17/50\n",
      "80000/80000 [==============================] - 30s 370us/step - loss: 0.8059 - acc: 0.8148 - val_loss: 0.8056 - val_acc: 0.8142\n",
      "Epoch 18/50\n",
      "80000/80000 [==============================] - 29s 362us/step - loss: 0.8059 - acc: 0.8149 - val_loss: 0.8056 - val_acc: 0.8143\n",
      "Epoch 19/50\n",
      "80000/80000 [==============================] - 33s 412us/step - loss: 0.8059 - acc: 0.8149 - val_loss: 0.8056 - val_acc: 0.8144\n",
      "Epoch 20/50\n",
      "80000/80000 [==============================] - 31s 390us/step - loss: 0.8059 - acc: 0.8149 - val_loss: 0.8056 - val_acc: 0.8145\n",
      "Epoch 21/50\n",
      "80000/80000 [==============================] - 33s 418us/step - loss: 0.8059 - acc: 0.8150 - val_loss: 0.8056 - val_acc: 0.8145\n",
      "Epoch 22/50\n",
      "80000/80000 [==============================] - 29s 359us/step - loss: 0.8059 - acc: 0.8150 - val_loss: 0.8056 - val_acc: 0.8145\n",
      "Epoch 23/50\n",
      "80000/80000 [==============================] - 28s 354us/step - loss: 0.8059 - acc: 0.8150 - val_loss: 0.8056 - val_acc: 0.8145\n",
      "Epoch 24/50\n",
      "80000/80000 [==============================] - 29s 368us/step - loss: 0.8059 - acc: 0.8150 - val_loss: 0.8056 - val_acc: 0.8145\n",
      "Epoch 25/50\n",
      "80000/80000 [==============================] - 34s 420us/step - loss: 0.8059 - acc: 0.8150 - val_loss: 0.8056 - val_acc: 0.8146\n",
      "Epoch 26/50\n",
      "80000/80000 [==============================] - 30s 374us/step - loss: 0.8059 - acc: 0.8150 - val_loss: 0.8056 - val_acc: 0.8146\n",
      "Epoch 27/50\n",
      "80000/80000 [==============================] - 33s 408us/step - loss: 0.8059 - acc: 0.8150 - val_loss: 0.8056 - val_acc: 0.8146\n",
      "Epoch 28/50\n",
      "80000/80000 [==============================] - 29s 359us/step - loss: 0.8059 - acc: 0.8150 - val_loss: 0.8056 - val_acc: 0.8146\n",
      "Epoch 29/50\n",
      "80000/80000 [==============================] - 29s 361us/step - loss: 0.8059 - acc: 0.8150 - val_loss: 0.8056 - val_acc: 0.8146\n",
      "Epoch 30/50\n",
      "80000/80000 [==============================] - 29s 361us/step - loss: 0.8059 - acc: 0.8150 - val_loss: 0.8056 - val_acc: 0.8146\n",
      "Epoch 31/50\n",
      "80000/80000 [==============================] - 31s 384us/step - loss: 0.8059 - acc: 0.8150 - val_loss: 0.8056 - val_acc: 0.8146\n",
      "Epoch 32/50\n",
      "80000/80000 [==============================] - 30s 370us/step - loss: 0.8059 - acc: 0.8150 - val_loss: 0.8056 - val_acc: 0.8146\n",
      "Epoch 33/50\n",
      "80000/80000 [==============================] - 28s 346us/step - loss: 0.8059 - acc: 0.8150 - val_loss: 0.8056 - val_acc: 0.8146\n",
      "Epoch 34/50\n",
      "80000/80000 [==============================] - 28s 349us/step - loss: 0.8059 - acc: 0.8150 - val_loss: 0.8056 - val_acc: 0.8146\n",
      "Epoch 35/50\n",
      "80000/80000 [==============================] - 29s 365us/step - loss: 0.8059 - acc: 0.8150 - val_loss: 0.8056 - val_acc: 0.8146\n",
      "Epoch 36/50\n",
      "80000/80000 [==============================] - 28s 350us/step - loss: 0.8059 - acc: 0.8151 - val_loss: 0.8056 - val_acc: 0.8146\n",
      "Epoch 37/50\n",
      "80000/80000 [==============================] - 28s 353us/step - loss: 0.8059 - acc: 0.8151 - val_loss: 0.8056 - val_acc: 0.8146\n",
      "Epoch 38/50\n",
      "80000/80000 [==============================] - 31s 384us/step - loss: 0.8059 - acc: 0.8151 - val_loss: 0.8056 - val_acc: 0.8146\n",
      "Epoch 39/50\n",
      "80000/80000 [==============================] - 28s 349us/step - loss: 0.8059 - acc: 0.8151 - val_loss: 0.8056 - val_acc: 0.8146\n",
      "Epoch 40/50\n",
      "80000/80000 [==============================] - 28s 347us/step - loss: 0.8059 - acc: 0.8151 - val_loss: 0.8056 - val_acc: 0.8146\n",
      "Epoch 41/50\n",
      "80000/80000 [==============================] - 29s 360us/step - loss: 0.8059 - acc: 0.8151 - val_loss: 0.8056 - val_acc: 0.8146\n",
      "Epoch 42/50\n",
      "80000/80000 [==============================] - 29s 356us/step - loss: 0.8059 - acc: 0.8151 - val_loss: 0.8056 - val_acc: 0.8146\n",
      "Epoch 43/50\n",
      "80000/80000 [==============================] - 30s 374us/step - loss: 0.8059 - acc: 0.8151 - val_loss: 0.8056 - val_acc: 0.8146\n",
      "Epoch 44/50\n",
      "80000/80000 [==============================] - 29s 358us/step - loss: 0.8059 - acc: 0.8151 - val_loss: 0.8056 - val_acc: 0.8146\n",
      "Epoch 45/50\n",
      "80000/80000 [==============================] - 28s 345us/step - loss: 0.8059 - acc: 0.8151 - val_loss: 0.8056 - val_acc: 0.8146\n",
      "Epoch 46/50\n",
      "80000/80000 [==============================] - 31s 391us/step - loss: 0.8059 - acc: 0.8151 - val_loss: 0.8056 - val_acc: 0.8146\n",
      "Epoch 47/50\n",
      "80000/80000 [==============================] - 31s 383us/step - loss: 0.8059 - acc: 0.8151 - val_loss: 0.8056 - val_acc: 0.8146\n",
      "Epoch 48/50\n",
      "80000/80000 [==============================] - 31s 393us/step - loss: 0.8059 - acc: 0.8151 - val_loss: 0.8056 - val_acc: 0.8146\n",
      "Epoch 49/50\n",
      "80000/80000 [==============================] - 30s 373us/step - loss: 0.8059 - acc: 0.8151 - val_loss: 0.8056 - val_acc: 0.8146\n",
      "Epoch 50/50\n",
      "80000/80000 [==============================] - 30s 373us/step - loss: 0.8059 - acc: 0.8151 - val_loss: 0.8056 - val_acc: 0.8146\n",
      "_________________________________________________________________\n",
      "Layer (type)                 Output Shape              Param #   \n",
      "=================================================================\n",
      "conv2d_1 (Conv2D)            (None, 28, 28, 16)        160       \n",
      "_________________________________________________________________\n",
      "max_pooling2d_1 (MaxPooling2 (None, 9, 9, 16)          0         \n",
      "_________________________________________________________________\n",
      "conv2d_2 (Conv2D)            (None, 7, 7, 16)          2320      \n",
      "_________________________________________________________________\n",
      "max_pooling2d_2 (MaxPooling2 (None, 2, 2, 16)          0         \n",
      "_________________________________________________________________\n",
      "flatten_1 (Flatten)          (None, 64)                0         \n",
      "_________________________________________________________________\n",
      "dense_1 (Dense)              (None, 30)                1950      \n",
      "_________________________________________________________________\n",
      "dense_2 (Dense)              (None, 30)                930       \n",
      "=================================================================\n",
      "Total params: 5,360\n",
      "Trainable params: 5,360\n",
      "Non-trainable params: 0\n",
      "_________________________________________________________________\n"
     ]
    }
   ],
   "source": [
    "import model as cnn\n",
    "model, history = cnn.Model(train_src, train_tgt, test_src, test_tgt)\n",
    "model.save('RNA_CNN_Model.h5')"
   ]
  },
  {
   "cell_type": "code",
   "execution_count": 7,
   "metadata": {},
   "outputs": [
    {
     "name": "stdout",
     "output_type": "stream",
     "text": [
      "Model Performance: Loss 0.81\n",
      "Model Performance: Accuracy 0.81460\n"
     ]
    }
   ],
   "source": [
    "score = model.evaluate(test_src, test_tgt, verbose = 0)\n",
    "print('Model Performance: Loss %.2f' %(score[0]))\n",
    "print('Model Performance: Accuracy %.5f' %(score[1]))"
   ]
  },
  {
   "cell_type": "code",
   "execution_count": 8,
   "metadata": {},
   "outputs": [
    {
     "data": {
      "image/png": "[encoded data removed]",
      "text/plain": [
       "<Figure size 432x288 with 2 Axes>"
      ]
     },
     "metadata": {},
     "output_type": "display_data"
    }
   ],
   "source": [
    "fig, ax = plt.subplots(1,2)\n",
    "ax[0].plot(history.history['acc'], label = 'Train')\n",
    "ax[0].plot(history.history['val_acc'], label = 'Test')\n",
    "ax[0].set_title('Model Accuracy')\n",
    "ax[0].set_xlabel('Epoch')\n",
    "ax[0].set_ylabel('Accuracy')\n",
    "ax[0].legend(loc = 'best')\n",
    "\n",
    "ax[1].plot(history.history['loss'], label = 'Train')\n",
    "ax[1].plot(history.history['val_loss'],label = 'Test')\n",
    "ax[1].set_title('Model Loss')\n",
    "ax[1].set_xlabel('Epoch')\n",
    "ax[1].set_ylabel('Loss')\n",
    "ax[1].legend(loc = 'best')\n",
    "plt.show()"
   ]
  },
  {
   "cell_type": "code",
   "execution_count": 22,
   "metadata": {},
   "outputs": [
    {
     "name": "stdout",
     "output_type": "stream",
     "text": [
      "0\n"
     ]
    }
   ],
   "source": []
  },
  {
   "cell_type": "code",
   "execution_count": null,
   "metadata": {},
   "outputs": [],
   "source": []
  }
 ],
 "metadata": {
  "kernelspec": {
   "display_name": "Python 3",
   "language": "python",
   "name": "python3"
  },
  "language_info": {
   "codemirror_mode": {
    "name": "ipython",
    "version": 3
   },
   "file_extension": ".py",
   "mimetype": "text/x-python",
   "name": "python",
   "nbconvert_exporter": "python",
   "pygments_lexer": "ipython3",
   "version": "3.6.4"
  }
 },
 "nbformat": 4,
 "nbformat_minor": 2
}
