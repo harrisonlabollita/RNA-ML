{
 "cells": [
  {
   "cell_type": "code",
   "execution_count": 1,
   "metadata": {},
   "outputs": [],
   "source": [
    "import pandas as pd\n",
    "import matplotlib.pyplot as plt\n",
    "import torch\n",
    "import torch.nn as nn\n",
    "import numpy as np\n",
    "import torch.nn.functional as F\n",
    "import torch.utils.data as dataset\n",
    "import sklearn\n",
    "from sklearn.metrics import r2_score"
   ]
  },
  {
   "cell_type": "code",
   "execution_count": 2,
   "metadata": {},
   "outputs": [],
   "source": [
    "\"\"\"\n",
    "Functions to process the data\n",
    "\"\"\"\n",
    "\n",
    "def data2tensor(seq,energy):\n",
    "    \n",
    "    \"\"\"\n",
    "    convert the sequence to one-hot vector\n",
    "    \"\"\"\n",
    "\n",
    "    matrix = np.zeros([len(seq),4])\n",
    "    for id,base in enumerate(seq):\n",
    "        if base == 'G':\n",
    "            matrix[id,0] = 1\n",
    "        elif base == 'C':\n",
    "            matrix[id,1] = 1\n",
    "        elif base == 'A':\n",
    "            matrix[id,2] = 1\n",
    "        elif base =='U':\n",
    "            matrix[id,3] = 1\n",
    "        else:\n",
    "            print(\"error1\")\n",
    "    \n",
    "    #reshape it into single vector\n",
    "    \n",
    "    matrix = torch.from_numpy(matrix).float()\n",
    "    \n",
    "    tensor_energy = torch.from_numpy(np.array(energy)).float()\n",
    "    \n",
    "    return(matrix,tensor_energy)\n",
    "\n",
    "\n",
    "def data2Image(seq,energy):\n",
    "    \n",
    "    \"\"\"\n",
    "    convert the sequence to one-hot vector\n",
    "    \"\"\"\n",
    "\n",
    "    matrix = np.zeros([1,len(seq),4])\n",
    "    for id,base in enumerate(seq):\n",
    "        if base == 'G':\n",
    "            matrix[0,id,0] = 1\n",
    "        elif base == 'C':\n",
    "            matrix[0,id,1] = 1\n",
    "        elif base == 'A':\n",
    "            matrix[0,id,2] = 1\n",
    "        elif base =='U':\n",
    "            matrix[0,id,3] = 1\n",
    "        else:\n",
    "            print(\"error1\")\n",
    "    \n",
    "    #reshape it into single vector\n",
    "    \n",
    "    matrix = torch.from_numpy(matrix).float()\n",
    "    \n",
    "    tensor_energy = torch.from_numpy(np.array(energy)).float()\n",
    "    \n",
    "    return(matrix,tensor_energy)\n",
    "\n",
    "def data_processing(data,dimension = 2):\n",
    "    \n",
    "    if dimension ==2:\n",
    "        DNA_seq = torch.zeros([data.shape[0],30,4])\n",
    "        DNA_energy = torch.zeros([data.shape[0],1])\n",
    "\n",
    "        for index in range(data.shape[0]):\n",
    "            seq_info = data['seq'][index]\n",
    "            energy = data['energy'][index]\n",
    "            DNA_seq[index],DNA_energy[index] = data2tensor(seq_info,energy)\n",
    "    \n",
    "    elif dimension ==3:\n",
    "        DNA_seq = torch.zeros([data.shape[0],1,30,4])\n",
    "        DNA_energy = torch.zeros([data.shape[0],1])\n",
    "\n",
    "        for index in range(data.shape[0]):\n",
    "            seq_info = data['seq'][index]\n",
    "            energy = data['energy'][index]\n",
    "            DNA_seq[index],DNA_energy[index] = data2Image(seq_info,energy)\n",
    "\n",
    "    split  = 0.8\n",
    "    batch_size = 100\n",
    "    split_index = int(data.shape[0]*0.8)\n",
    "\n",
    "    training_data_set = dataset.TensorDataset(DNA_seq[0:split_index],DNA_energy[0:split_index])\n",
    "    testing_data_set = dataset.TensorDataset(DNA_seq[split_index+1:data.shape[0]],DNA_energy[split_index+1:data.shape[0]])\n",
    "\n",
    "    training_data_loader = dataset.DataLoader(training_data_set,batch_size,shuffle = True)\n",
    "    testing_data_loader = dataset.DataLoader(testing_data_set,1000,shuffle = True)\n",
    "    return(training_data_loader,testing_data_loader)"
   ]
  },
  {
   "cell_type": "markdown",
   "metadata": {},
   "source": [
    "# Construct the deep neural net model"
   ]
  },
  {
   "cell_type": "code",
   "execution_count": 3,
   "metadata": {},
   "outputs": [],
   "source": [
    "class Net(nn.Module):\n",
    "    def __init__(self):\n",
    "        super(Net,self).__init__()\n",
    "        self.layer1 = nn.Linear(120,100)\n",
    "        #self.drop_out = nn.Dropout()    \n",
    "        self.layer2 = nn.Linear(100,10)\n",
    "        self.predict = nn.Linear(10,1)\n",
    "        \n",
    "    def forward(self,x):\n",
    "        x = F.relu(self.layer1(x))\n",
    "        #x = self.dropout(x) \n",
    "        x = F.relu(self.layer2(x))\n",
    "        x = self.predict(x)\n",
    "        \n",
    "        return(x)"
   ]
  },
  {
   "cell_type": "code",
   "execution_count": 4,
   "metadata": {},
   "outputs": [],
   "source": [
    "class ConvNet(nn.Module):   \n",
    "    \n",
    "    def __init__(self):      \n",
    "        super(ConvNet,self).__init__()\n",
    "        \n",
    "        self.layer1 = nn.Sequential(\n",
    "            nn.Conv2d(1, 10, kernel_size=2, stride=1),\n",
    "            nn.ReLU(),\n",
    "            nn.MaxPool2d(kernel_size=2, stride=1))\n",
    "        \n",
    "        #self.drop_out = nn.Dropout()\n",
    "        \n",
    "        self.fc1 = nn.Linear(1 * 56 * 10, 50)\n",
    "        self.fc2 = nn.Linear(50, 10)\n",
    "        self.fc3 = nn.Linear(10, 1)\n",
    "\n",
    "    def forward(self, x):\n",
    "        \n",
    "        out = self.layer1(x)\n",
    "        out = out.reshape(out.size(0), -1)\n",
    "        #out = self.drop_odata = pd.read_csv('nupack_generate.csv')ut(out)\n",
    "        out = F.relu(self.fc1(out))\n",
    "        out = F.relu(self.fc2(out))\n",
    "        out = self.fc3(out)\n",
    "    \n",
    "        return out"
   ]
  },
  {
   "cell_type": "code",
   "execution_count": 5,
   "metadata": {},
   "outputs": [],
   "source": [
    "def training(training_data_loader,testing_data_loader,epochs = 500,learning_rate = 0.01,model = 'DNN'):\n",
    "    \n",
    "    loss_epoch = np.zeros(epochs)\n",
    "    R_squre = np.zeros(epochs)\n",
    "    \n",
    "    if model=='DNN':\n",
    "        print('Deep Neural network is chosed: 120 features, layer1: 100 node, layer2:10')\n",
    "        model = Net()\n",
    "        optimizer = torch.optim.SGD(model.parameters(),lr = learning_rate)\n",
    "        loss_func = torch.nn.MSELoss()\n",
    "\n",
    "        loss_epoch = np.zeros(epochs)\n",
    "        R_squre = np.zeros(epochs)\n",
    "        for epcho in range(epochs):\n",
    "            for step, (DNA_seq_2D,DNA_energy) in enumerate(training_data_loader):\n",
    "                DNA_seq_flatten = DNA_seq_2D.view(DNA_seq_2D.shape[0],-1)\n",
    "\n",
    "                outputs = model(DNA_seq_flatten)\n",
    "                loss = loss_func(outputs, DNA_energy)\n",
    "                \n",
    "                optimizer.zero_grad()\n",
    "                loss.backward()\n",
    "                optimizer.step()\n",
    "\n",
    "            if epcho%50 ==0:\n",
    "                print('Epoches: %d, Loss = %.8f'%(epcho,loss.data.numpy()))\n",
    "            R_squre[epcho] = r2_score(outputs.detach().numpy(),DNA_energy.detach().numpy())\n",
    "            loss_epoch[epcho] = loss.data.numpy()\n",
    "            \n",
    "            \n",
    "            real_energy = []\n",
    "            predicted_energy = []\n",
    "\n",
    "            for index_id, (DNA_seq_test,DNA_energy_test) in enumerate(testing_data_loader):\n",
    "                DNA_test_flaten = DNA_seq_test.view(DNA_seq_test.shape[0],-1)\n",
    "                predict = model(DNA_test_flaten)\n",
    "                predict_energy = predict.detach().numpy()\n",
    "                real_energy = DNA_energy_test.detach().numpy()\n",
    "\n",
    "            \n",
    "    elif model == 'CNN':\n",
    "        print('Convelutional Neural network is chosed: ')\n",
    "        model = ConvNet()\n",
    "        # Loss and optimizer\n",
    "        loss_function = torch.nn.MSELoss()\n",
    "        optimizer = torch.optim.SGD(model.parameters(), lr = learning_rate)\n",
    "        for epcho in range(epochs):\n",
    "            for step, (DNA_seq_2D,DNA_energy) in enumerate(training_data_loader):\n",
    "\n",
    "                outputs = model(DNA_seq_2D)\n",
    "                loss = loss_function(outputs, DNA_energy)\n",
    "\n",
    "                optimizer.zero_grad()\n",
    "                loss.backward()\n",
    "                optimizer.step()\n",
    "\n",
    "            if epcho%50 ==0:\n",
    "                print('Epoches: %d, Loss = %.8f'%(epcho,loss.data.numpy()))\n",
    "            loss_epoch[epcho] = loss.data.numpy()\n",
    "            \n",
    "        real_energy = []\n",
    "        predicted_energy = []\n",
    "        for index_id, (DNA_seq_test,DNA_energy_test) in enumerate(testing_data_loader):\n",
    "            predict = model(DNA_seq_test)\n",
    "            predict_energy = predict.detach().numpy()\n",
    "            real_energy = DNA_energy_test.detach().numpy()\n",
    "            \n",
    "    else:\n",
    "        print(\"Error:The model is not available...\\n\")\n",
    "\n",
    "    plt.plot()\n",
    "    plt.plot(loss_epoch)\n",
    "    plt.xlabel('Training Epoches')\n",
    "    plt.ylabel('Loss')\n",
    "    plt.savefig('training.jpeg')\n",
    "    \n",
    "    print('### The model final resutls is %.8f'%r2_score(predict_energy,real_energy))"
   ]
  },
  {
   "cell_type": "markdown",
   "metadata": {},
   "source": [
    "# Load the data"
   ]
  },
  {
   "cell_type": "code",
   "execution_count": 6,
   "metadata": {},
   "outputs": [],
   "source": [
    "data = pd.read_csv(\"nupack_generate.csv\")"
   ]
  },
  {
   "cell_type": "markdown",
   "metadata": {},
   "source": [
    "# Training a deep neural network"
   ]
  },
  {
   "cell_type": "code",
   "execution_count": null,
   "metadata": {},
   "outputs": [
    {
     "name": "stdout",
     "output_type": "stream",
     "text": [
      "Deep Neural network is chosed: 120 features, layer1: 100 node, layer2:10\n",
      "Epoches: 0, Loss = 1.18401825\n",
      "Epoches: 50, Loss = 0.12957625\n",
      "Epoches: 100, Loss = 0.14266068\n"
     ]
    }
   ],
   "source": [
    "training_data_loader,testing_data_loader = data_processing(data,dimension=2)\n",
    "training(training_data_loader,testing_data_loader,epochs=200,learning_rate=0.001,model='DNN')"
   ]
  },
  {
   "cell_type": "code",
   "execution_count": 115,
   "metadata": {},
   "outputs": [
    {
     "name": "stdout",
     "output_type": "stream",
     "text": [
      "Convelutional Neural network is chosed: \n",
      "Epoches: 0, Loss = 4.29183960\n",
      "Epoches: 50, Loss = 0.27054322\n",
      "Epoches: 100, Loss = 0.25987315\n",
      "Epoches: 150, Loss = 0.14137004\n",
      "### The model final resutls is 0.99582947\n"
     ]
    },
    {
     "data": {
      "image/png": "[encoded data removed]",
      "text/plain": [
       "<Figure size 432x288 with 1 Axes>"
      ]
     },
     "metadata": {
      "needs_background": "light"
     },
     "output_type": "display_data"
    }
   ],
   "source": [
    "training_data_loader,testing_data_loader = data_processing(data,dimension=3)\n",
    "training(training_data_loader,testing_data_loader,epochs=200,learning_rate=0.0001,model='CNN')"
   ]
  },
  {
   "cell_type": "code",
   "execution_count": null,
   "metadata": {},
   "outputs": [],
   "source": []
  }
 ],
 "metadata": {
  "kernelspec": {
   "display_name": "Python 3",
   "language": "python",
   "name": "python3"
  },
  "language_info": {
   "codemirror_mode": {
    "name": "ipython",
    "version": 3
   },
   "file_extension": ".py",
   "mimetype": "text/x-python",
   "name": "python",
   "nbconvert_exporter": "python",
   "pygments_lexer": "ipython3",
   "version": "3.6.4"
  }
 },
 "nbformat": 4,
 "nbformat_minor": 2
}
